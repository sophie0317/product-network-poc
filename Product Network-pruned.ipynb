{
 "cells": [
  {
   "cell_type": "code",
   "execution_count": 5,
   "metadata": {},
   "outputs": [],
   "source": [
    "from pymongo import MongoClient"
   ]
  },
  {
   "cell_type": "code",
   "execution_count": 6,
   "metadata": {},
   "outputs": [],
   "source": [
    "client = MongoClient('localhost', 27017)\n",
    "db = client['pn-pruned']"
   ]
  },
  {
   "cell_type": "code",
   "execution_count": 7,
   "metadata": {},
   "outputs": [],
   "source": [
    "purchase_list = list(db['transactions'].find({'items.1': { '$exists': True } }, projection=['items']))"
   ]
  },
  {
   "cell_type": "code",
   "execution_count": 8,
   "metadata": {},
   "outputs": [
    {
     "data": {
      "text/plain": [
       "19633"
      ]
     },
     "execution_count": 8,
     "metadata": {},
     "output_type": "execute_result"
    }
   ],
   "source": [
    "len(purchase_list)"
   ]
  },
  {
   "cell_type": "markdown",
   "metadata": {
    "collapsed": true
   },
   "source": [
    "# Network Analysis"
   ]
  },
  {
   "cell_type": "code",
   "execution_count": 9,
   "metadata": {},
   "outputs": [],
   "source": [
    "import json\n",
    "class ProductNerwork:\n",
    "    def __init__(self, graph):\n",
    "        self.graph = graph\n",
    "        self.communities = graph.community_fastgreedy('weight').as_clustering()\n",
    "        for index, vertex in enumerate(self.graph.vs):\n",
    "            vertex.update_attributes({ 'community': self.communities.membership[index], 'id': index })\n",
    "\n",
    "    def get_communities(self, sort=True):\n",
    "        dics = []\n",
    "        for subgraph in self.communities.subgraphs():\n",
    "            nums = len(subgraph.vs)\n",
    "            weight_sum = sum([edge['weight'] for edge in subgraph.es]) * (nums) / nums / (nums + 1)\n",
    "            comm_name = [ node['name'] for node in subgraph.vs]\n",
    "            dic = {\n",
    "                'weight': weight_sum,\n",
    "                'items': comm_name\n",
    "            }\n",
    "            dics.append(dic)\n",
    "        if sort:\n",
    "            return sorted(dics, key=lambda x : x['weight'], reverse=True)\n",
    "        return dics\n",
    "\n",
    "    def get_connectors(self):\n",
    "        items = []\n",
    "        for index, value in enumerate(self.graph.betweenness(weights='weight')):\n",
    "            if value > 0:\n",
    "                items.append({ 'name': self.graph.vs[index]['name'], 'betweeness': value })\n",
    "        items.sort(key=lambda x: x['betweeness'], reverse=True)\n",
    "        return items\n",
    "    \n",
    "    def normalizer(self, max_degree):\n",
    "        max_value = max_degree\n",
    "        min_value = 1\n",
    "        def normalize(value):\n",
    "            return (value - min_value) / max_value + 1\n",
    "        return normalize\n",
    "    \n",
    "    def to_json(self):\n",
    "        norm = self.normalizer(self.graph.maxdegree())\n",
    "        nodes = []\n",
    "        edges = []\n",
    "        for edge in self.graph.es:\n",
    "            edge_attr = {}\n",
    "            edge_attr['from'], edge_attr['to'] = edge.tuple\n",
    "            edge_attr['weight'] = edge['weight']\n",
    "            edges.append(edge_attr)\n",
    "        for node in self.graph.vs:\n",
    "            node_attr = {}\n",
    "            node_attr = { key: node[key] for key in node.attributes()}\n",
    "            node_attr['degree'] = node.degree()\n",
    "            nodes.append(node_attr)\n",
    "        return json.dumps({\n",
    "            'nodes': nodes,\n",
    "            'edges': edges,\n",
    "        }, indent=4)"
   ]
  },
  {
   "cell_type": "code",
   "execution_count": 10,
   "metadata": {},
   "outputs": [],
   "source": [
    "import igraph\n",
    "from itertools import filterfalse, combinations\n",
    "\n",
    "class NetworkConverter:\n",
    "    def __init__(self, purchase_list):\n",
    "        self.purchase_list = purchase_list\n",
    "    \n",
    "    def convert(self, method='degree-price', support=0.001):\n",
    "        support = int(len(self.purchase_list) * support)\n",
    "        result = {}\n",
    "        nodes = set()\n",
    "        for transaction in purchase_list:\n",
    "            itemsets = transaction['items']\n",
    "            if len(itemsets) > 1:\n",
    "                edge_list = list(self.find_edges_in_list(itemsets))\n",
    "                length = len(edge_list)\n",
    "                for edge_dict_tuple in edge_list:\n",
    "                    edge = tuple([dic['單品名稱'] for dic in edge_dict_tuple])\n",
    "                    if method == 'degree-original':\n",
    "                        weight = 1\n",
    "                        if edge in result or (edge[1], edge[0]) in result:\n",
    "                            edge_in_list = edge if edge in result else (edge[1], edge[0])\n",
    "                            result[edge_in_list]['count'] += 1\n",
    "                            result[edge_in_list]['weight'] = weight\n",
    "                        else:\n",
    "                            result[edge] = {}\n",
    "                            result[edge]['count'] = 1\n",
    "                            result[edge]['weight'] = weight\n",
    "                    else:\n",
    "                        if method == 'degree-price':\n",
    "                            weight = sum([dic['amount'] for dic in edge_dict_tuple]) / length\n",
    "                        elif method == 'degree-mod':\n",
    "                            weight = 1 / length\n",
    "                        \n",
    "                        if edge in result or (edge[1], edge[0]) in result:\n",
    "                            edge_in_list = edge if edge in result else (edge[1], edge[0])\n",
    "                            result[edge_in_list]['count'] += 1\n",
    "                            result[edge_in_list]['weight'] += weight\n",
    "                        else:\n",
    "                            result[edge] = {}\n",
    "                            result[edge]['count'] = 1\n",
    "                            result[edge]['weight'] = weight\n",
    "        for key in list(result.keys()):\n",
    "            if result[key]['count'] < support:\n",
    "                del result[key]\n",
    "        for items in result.keys():\n",
    "            for item in items:\n",
    "                if item not in nodes:\n",
    "                    nodes.add(item)\n",
    "        return self.to_graph(nodes, result)\n",
    "    \n",
    "    def find_edges_in_list(self, itemsets):\n",
    "        \"\"\"Return the combinations of the itemsets.\n",
    "        \"\"\"\n",
    "        result = []\n",
    "        return combinations(itemsets, 2)\n",
    "    \n",
    "    def to_graph(self, nodes, edges):\n",
    "        g = igraph.Graph()\n",
    "        for node in nodes:\n",
    "            g.add_vertex(node)\n",
    "        for edge, attrs in edges.items():\n",
    "            weight = attrs['weight'] if attrs['weight'] > 0 else 1\n",
    "            g.add_edge(edge[0], edge[1], weight=weight)\n",
    "        return ProductNerwork(g)"
   ]
  },
  {
   "cell_type": "code",
   "execution_count": 12,
   "metadata": {},
   "outputs": [],
   "source": [
    "converter = NetworkConverter(purchase_list)"
   ]
  },
  {
   "cell_type": "code",
   "execution_count": 14,
   "metadata": {},
   "outputs": [],
   "source": [
    "product_network = converter.convert(method='degree-original')"
   ]
  },
  {
   "cell_type": "code",
   "execution_count": 15,
   "metadata": {
    "scrolled": true
   },
   "outputs": [
    {
     "name": "stdout",
     "output_type": "stream",
     "text": [
      "Node number: 74\n",
      "Edge number: 113\n"
     ]
    }
   ],
   "source": [
    "print('Node number: {}\\nEdge number: {}'.format(len(product_network.graph.vs), len(product_network.graph.es)))"
   ]
  },
  {
   "cell_type": "markdown",
   "metadata": {},
   "source": [
    "# 排序Community"
   ]
  },
  {
   "cell_type": "code",
   "execution_count": 16,
   "metadata": {},
   "outputs": [
    {
     "name": "stdout",
     "output_type": "stream",
     "text": [
      "4.0\n",
      "白玉蘿蔔 手工高麗菜捲 旗魚黑輪 海鮮魚卵棒 黃金魚豆腐 蟹肉糰子 究極味付蛋 日式黑輪 讚岐烏龍麵 野菜多多魚餅 特級花枝丸 黃金厚切魚板 千層玉子燒 筊白筍 關東煮本舖拉麵\n",
      "==============\n",
      "1.0\n",
      "全家熱狗麵包 蕃薯（１５元） 統一陽光無糖高纖豆漿 茶葉蛋（銷售用） 鮪魚飯糰 肉鬆飯糰 特濃咖啡拿鐵 ＬＣＡ活菌原味發酵乳 爆濃起司熱狗 簡單點無加糖優酪乳 蕃薯（２５元） 光泉米漿 鮮奶茶 經典原味熱狗 蕃薯（２０元） 香蕉單入\n",
      "==============\n",
      "0.9333333333333333\n",
      "伯朗咖啡 藍山咖啡 （新）銷售用購物袋１８號袋 七星１０毫克硬盒香煙 義美奶茶 鹼性離子水 金牌台灣啤酒５００ＭＬ 天然水２．２Ｌ 麥香奶茶ＴＰ３００ 金牌台啤罐裝（６入） （新）４５號銷售用購物袋 金牌台灣啤酒 麥香紅茶ＴＰ３００ 天然水\n",
      "==============\n",
      "0.6\n",
      "優格軟糖（Ｏｒａｎｇｅ） 奶香綠茶３３０ＭＬ 代收折價卷 優格軟糖（Ｐｅａｃｈ）\n",
      "==============\n",
      "0.6\n",
      "頑皮滷蛋－原味 伊藤園蘋果紅茶 促銷券０６ Ｃｒｅａｍ－Ｏ黑巧克力三明治餅\n",
      "==============\n",
      "0.5\n",
      "聯合報 蘋果日報 自由時報\n",
      "==============\n",
      "0.3333333333333333\n",
      "促銷券１０ ＭＭ花生巧克力\n",
      "==============\n",
      "0.3333333333333333\n",
      "黑巧杏仁乳加 牛奶杏仁乳加\n",
      "==============\n",
      "0.3333333333333333\n",
      "葡萄冰茶 蘋果冰茶\n",
      "==============\n",
      "0.3333333333333333\n",
      "原味ＹＵＲＯＣＫ魚薯條無 辣味ＹＵＲＯＣＫ魚薯條無\n",
      "==============\n",
      "0.3333333333333333\n",
      "冰拿鐵大杯 熱拿鐵大杯\n",
      "==============\n",
      "0.3333333333333333\n",
      "大口法香烤雞飯糰 熱拿鐵中杯\n",
      "==============\n",
      "0.3333333333333333\n",
      "戰禍邪神第１２章 戰禍邪神第１１章\n",
      "==============\n",
      "0.3333333333333333\n",
      "空瓶回收（銷售用） 紅標料理米酒\n",
      "==============\n",
      "0.3333333333333333\n",
      "大口奶油蕈菇起司雞排飯糰 特濃抹茶拿鐵\n",
      "==============\n"
     ]
    }
   ],
   "source": [
    "communities = product_network.get_communities()\n",
    "for community in communities:\n",
    "    print(community['weight'])\n",
    "    print(' '.join(community['items']))\n",
    "    print('==============')"
   ]
  },
  {
   "cell_type": "code",
   "execution_count": 26,
   "metadata": {},
   "outputs": [],
   "source": [
    "with open('D:\\MIS_Project\\product-netowork-demo\\src\\default_pruned.json', 'w', encoding='utf-8') as file:\n",
    "    file.write(data)"
   ]
  },
  {
   "cell_type": "code",
   "execution_count": null,
   "metadata": {},
   "outputs": [],
   "source": []
  },
  {
   "cell_type": "markdown",
   "metadata": {},
   "source": [
    "# 利用Betweeness找出可能是connector的節點"
   ]
  },
  {
   "cell_type": "code",
   "execution_count": 39,
   "metadata": {},
   "outputs": [],
   "source": [
    "connectors = product_network.get_connectors()"
   ]
  },
  {
   "cell_type": "code",
   "execution_count": 40,
   "metadata": {},
   "outputs": [
    {
     "name": "stdout",
     "output_type": "stream",
     "text": [
      "127.0: 茶葉蛋（銷售用）\n",
      "87.0 : （新）銷售用購物袋１８號袋\n",
      "43.0 : 中華電信 \n",
      "32.0 : 鮪魚飯糰 \n",
      "27.0 : 台新信用卡\n",
      "23.0 : 國民年金代\n",
      "21.0 : 國泰世華卡\n",
      "20.0 : 白玉蘿蔔 \n",
      "17.0 : 經典原味熱狗\n",
      "17.0 : 代收手續費４\n",
      "17.0 : 光泉米漿 \n",
      "13.0 : 台灣自來水\n",
      "9.0  : 特級花枝丸\n",
      "6.0  : 代收手續費１５\n",
      "4.0  : 蟹肉糰子 \n",
      "4.0  : 千層玉子燒\n",
      "3.0  : 黃金厚切魚板\n",
      "3.0  : 促銷券０６\n",
      "3.0  : 代收折價卷\n",
      "2.0  : 黃金魚豆腐\n",
      "1.0  : 代收手續費５\n",
      "1.0  : 蘋果日報 \n"
     ]
    }
   ],
   "source": [
    "for connector in connectors:\n",
    "    print('{:<5}: {:<5}'.format(connector['betweeness'], connector['name']))"
   ]
  },
  {
   "cell_type": "markdown",
   "metadata": {},
   "source": [
    "# 更新Vertex的attribute(Community)"
   ]
  },
  {
   "cell_type": "code",
   "execution_count": 25,
   "metadata": {},
   "outputs": [],
   "source": [
    "data = product_network.to_json()"
   ]
  },
  {
   "cell_type": "code",
   "execution_count": null,
   "metadata": {},
   "outputs": [],
   "source": []
  }
 ],
 "metadata": {
  "kernelspec": {
   "display_name": "Python 3",
   "language": "python",
   "name": "python3"
  },
  "language_info": {
   "codemirror_mode": {
    "name": "ipython",
    "version": 3
   },
   "file_extension": ".py",
   "mimetype": "text/x-python",
   "name": "python",
   "nbconvert_exporter": "python",
   "pygments_lexer": "ipython3",
   "version": "3.7.1"
  }
 },
 "nbformat": 4,
 "nbformat_minor": 2
}
