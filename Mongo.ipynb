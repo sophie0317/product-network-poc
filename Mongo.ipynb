{
 "cells": [
  {
   "cell_type": "code",
   "execution_count": 40,
   "metadata": {},
   "outputs": [],
   "source": [
    "import pandas as pd\n",
    "import numpy"
   ]
  },
  {
   "cell_type": "code",
   "execution_count": 41,
   "metadata": {},
   "outputs": [],
   "source": [
    "dtype = {\n",
    "    '交易id': numpy.str,\n",
    "    '資料日期': numpy.str,\n",
    "    '資料時間': numpy.str,\n",
    "    '餐別帶': numpy.str,\n",
    "    '縣市別': numpy.str,\n",
    "    '店舖代號': numpy.uint32,\n",
    "    '主商圈': numpy.str,\n",
    "    '品號-品名稱': numpy.str,\n",
    "    '群號-群名稱': numpy.str,\n",
    "    '單品名稱': numpy.str,\n",
    "    '銷售數量': numpy.uint16,\n",
    "    '銷售單價': numpy.float,\n",
    "    '交易金額': numpy.float\n",
    "}"
   ]
  },
  {
   "cell_type": "code",
   "execution_count": 42,
   "metadata": {},
   "outputs": [],
   "source": [
    "USE_COLUMNS = ['交易id', '資料日期', '資料時間', '餐別帶', '縣市別', '店舖代號', '主商圈', '品號-品名稱',\n",
    "       '群號-群名稱', '單品名稱', '銷售數量', '銷售單價', '交易金額']\n",
    "PARSE_DATES = {\n",
    "    '資料日期與時間': [\n",
    "        '資料日期',\n",
    "        '資料時間'\n",
    "    ]\n",
    "}\n",
    "TRANSACTION_ATTRS =  ['餐別帶', '資料日期與時間', '縣市別', '店舖代號', '主商圈']\n",
    "ITEM_ATTRS = ['品號-品名稱', '群號-群名稱', '銷售單價']"
   ]
  },
  {
   "cell_type": "code",
   "execution_count": 43,
   "metadata": {},
   "outputs": [],
   "source": [
    "datas = pd.read_csv('customer_data(utf-8).csv',\n",
    "                   index_col=1,\n",
    "                   nrows=100000,\n",
    "                   usecols=USE_COLUMNS,\n",
    "                   dtype=dtype,\n",
    "                   parse_dates=PARSE_DATES,\n",
    "        )"
   ]
  },
  {
   "cell_type": "code",
   "execution_count": 44,
   "metadata": {},
   "outputs": [],
   "source": [
    "class TransactionTransformer:\n",
    "    def __init__(self, transaction_id_name, item_name, transaction_amount_name, transaction_attrs=[], item_attrs=[]):\n",
    "        self.transaction_id_name = transaction_id_name\n",
    "        self.item_name = item_name\n",
    "        self.transaction_attrs = transaction_attrs\n",
    "        self.item_attrs = item_attrs\n",
    "        self.transaction_amount_name = transaction_amount_name\n",
    "    \n",
    "    def to_dict(self, df, filter_cols, group_by, aggregation_option):\n",
    "        total_cols = list(df.columns)\n",
    "        df = df.filter(filter_cols)\n",
    "        groupbyObject = df.groupby([group_by])\n",
    "        df = groupbyObject.agg(aggregation_option)\n",
    "        dic =  df.to_dict('index')\n",
    "        for index, value in dic.items():\n",
    "            value[group_by] = index\n",
    "        return dic\n",
    "\n",
    "    def get_transaction_dict(self, df):\n",
    "        filter_columns = [self.transaction_id_name, self.transaction_amount_name] + self.transaction_attrs \n",
    "        aggr_option = { key: 'first' for key in self.transaction_attrs }\n",
    "        aggr_option[self.transaction_amount_name] = 'sum'\n",
    "        return self.to_dict(df, filter_columns, self.transaction_id_name, aggr_option)\n",
    "    \n",
    "    def get_item_dict(self, df):\n",
    "        filter_columns = [self.item_name] + self.item_attrs\n",
    "        aggr_option = {key: 'first' for key in self.item_attrs }\n",
    "        return self.to_dict(df, filter_columns, self.item_name,  aggr_option)\n",
    "\n",
    "    def transform(self, df):\n",
    "        df = df.dropna()\n",
    "        transaction_dict = self.get_transaction_dict(df)\n",
    "        item_dict = self.get_item_dict(df)\n",
    "        for _, value in transaction_dict.items():\n",
    "            value['items'] = []\n",
    "\n",
    "        for index, data in df.iterrows():\n",
    "            if index in transaction_dict:\n",
    "                ts = transaction_dict[index]\n",
    "                item_name = data[self.item_name]\n",
    "                if item_name in item_dict:\n",
    "                    item = dict(item_dict[item_name])\n",
    "                    item['amount'] = data[self.transaction_amount_name]\n",
    "                    ts['items'].append(item)\n",
    "        return list(transaction_dict.values())"
   ]
  },
  {
   "cell_type": "code",
   "execution_count": 45,
   "metadata": {},
   "outputs": [],
   "source": [
    "transformer = TransactionTransformer('交易id', '單品名稱', '交易金額', TRANSACTION_ATTRS, ITEM_ATTRS)"
   ]
  },
  {
   "cell_type": "code",
   "execution_count": 46,
   "metadata": {},
   "outputs": [],
   "source": [
    "transactions = transformer.transform(datas)"
   ]
  },
  {
   "cell_type": "code",
   "execution_count": 47,
   "metadata": {},
   "outputs": [],
   "source": [
    "import pymongo"
   ]
  },
  {
   "cell_type": "code",
   "execution_count": 48,
   "metadata": {},
   "outputs": [],
   "source": [
    "from pymongo import MongoClient\n",
    "client = MongoClient('localhost', 27017)\n",
    "db = client['pn']"
   ]
  },
  {
   "cell_type": "code",
   "execution_count": 49,
   "metadata": {},
   "outputs": [
    {
     "data": {
      "text/plain": [
       "Database(MongoClient(host=['localhost:27017'], document_class=dict, tz_aware=False, connect=True), 'pn')"
      ]
     },
     "execution_count": 49,
     "metadata": {},
     "output_type": "execute_result"
    }
   ],
   "source": [
    "db"
   ]
  },
  {
   "cell_type": "code",
   "execution_count": 50,
   "metadata": {
    "scrolled": true
   },
   "outputs": [
    {
     "data": {
      "text/plain": [
       "Collection(Database(MongoClient(host=['localhost:27017'], document_class=dict, tz_aware=False, connect=True), 'pn'), 'transactions')"
      ]
     },
     "execution_count": 50,
     "metadata": {},
     "output_type": "execute_result"
    }
   ],
   "source": [
    "db.transactions"
   ]
  },
  {
   "cell_type": "code",
   "execution_count": 51,
   "metadata": {},
   "outputs": [
    {
     "data": {
      "text/plain": [
       "{'餐別帶': '一般時間帶',\n",
       " '資料日期與時間': Timestamp('2017-12-01 00:03:07'),\n",
       " '縣市別': '台中市',\n",
       " '店舖代號': 3047,\n",
       " '主商圈': '住宅型',\n",
       " '交易金額': 125.0,\n",
       " '交易id': '00324420171201000307000118769702',\n",
       " 'items': [{'品號-品名稱': '58-香煙',\n",
       "   '群號-群名稱': '585-進口濃煙',\n",
       "   '銷售單價': 125.0,\n",
       "   '單品名稱': '倫敦登喜路精裁１０毫克香菸',\n",
       "   'amount': 125.0}]}"
      ]
     },
     "execution_count": 51,
     "metadata": {},
     "output_type": "execute_result"
    }
   ],
   "source": [
    "transactions[0]"
   ]
  },
  {
   "cell_type": "code",
   "execution_count": 52,
   "metadata": {},
   "outputs": [],
   "source": [
    "ids = db.transactions.insert_many(transactions)"
   ]
  },
  {
   "cell_type": "code",
   "execution_count": null,
   "metadata": {},
   "outputs": [],
   "source": []
  }
 ],
 "metadata": {
  "kernelspec": {
   "display_name": "Python 3",
   "language": "python",
   "name": "python3"
  },
  "language_info": {
   "codemirror_mode": {
    "name": "ipython",
    "version": 3
   },
   "file_extension": ".py",
   "mimetype": "text/x-python",
   "name": "python",
   "nbconvert_exporter": "python",
   "pygments_lexer": "ipython3",
   "version": "3.7.2"
  }
 },
 "nbformat": 4,
 "nbformat_minor": 2
}
