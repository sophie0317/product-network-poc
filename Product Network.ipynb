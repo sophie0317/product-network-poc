{
 "cells": [
  {
   "cell_type": "code",
   "execution_count": 1,
   "metadata": {},
   "outputs": [],
   "source": [
    "from pymongo import MongoClient"
   ]
  },
  {
   "cell_type": "code",
   "execution_count": 2,
   "metadata": {},
   "outputs": [],
   "source": [
    "client = MongoClient('localhost', 27017)\n",
    "db = client['pn']"
   ]
  },
  {
   "cell_type": "code",
   "execution_count": 3,
   "metadata": {},
   "outputs": [],
   "source": [
    "purchase_list = list(db['transactions'].find({'items.1': { '$exists': True } }, projection=['items']))"
   ]
  },
  {
   "cell_type": "code",
   "execution_count": 4,
   "metadata": {},
   "outputs": [
    {
     "data": {
      "text/plain": [
       "23288"
      ]
     },
     "execution_count": 4,
     "metadata": {},
     "output_type": "execute_result"
    }
   ],
   "source": [
    "len(purchase_list)"
   ]
  },
  {
   "cell_type": "code",
   "execution_count": 50,
   "metadata": {
    "scrolled": true
   },
   "outputs": [
    {
     "name": "stdout",
     "output_type": "stream",
     "text": [
      "{'_id': ObjectId('5ceb55f7227c2680ca884f72'), 'items': [{'品號-品名稱': '19-吐司蛋糕', '群號-群名稱': '192-蛋糕', '銷售單價': 35.0, '單品名稱': '雞蛋牛奶捲', 'amount': 70.0}, {'品號-品名稱': '00-傳統代收', '群號-群名稱': '18-代碼繳費', '銷售單價': 0.0, '單品名稱': '代碼繳費１', 'amount': 0.0}]}\n"
     ]
    }
   ],
   "source": [
    "print(purchase_list[1])"
   ]
  },
  {
   "cell_type": "markdown",
   "metadata": {
    "collapsed": true
   },
   "source": [
    "# Network Analysis"
   ]
  },
  {
   "cell_type": "code",
   "execution_count": 161,
   "metadata": {},
   "outputs": [],
   "source": [
    "import json\n",
    "class ProductNerwork:\n",
    "    def __init__(self, graph):\n",
    "        self.graph = graph\n",
    "        self.communities = graph.community_fastgreedy(weights='weight').as_clustering()\n",
    "        for index, vertex in enumerate(self.graph.vs):\n",
    "            vertex.update_attributes({ 'community': self.communities.membership[index], 'id': index })\n",
    "\n",
    "    def get_communities(self, sort=True):\n",
    "        dics = []\n",
    "        for subgraph in self.communities.subgraphs():\n",
    "            nums = len(subgraph.vs)\n",
    "            weight_sum = sum([edge['weight'] for edge in subgraph.es]) * (nums) / nums / (nums + 1)\n",
    "            comm_name = [ node['name'] for node in subgraph.vs]\n",
    "            dic = {\n",
    "                'weight': weight_sum,\n",
    "                'items': comm_name\n",
    "            }\n",
    "            dics.append(dic)\n",
    "        if sort:\n",
    "            return sorted(dics, key=lambda x : x['weight'], reverse=True)\n",
    "        return dics\n",
    "\n",
    "    def get_connectors(self):\n",
    "        items = []\n",
    "        for index, value in enumerate(self.graph.betweenness(weights='weight')):\n",
    "            if value > 0:\n",
    "                items.append({ 'name': self.graph.vs[index]['name'], 'betweeness': value })\n",
    "        items.sort(key=lambda x: x['betweeness'], reverse=True)\n",
    "        return items\n",
    "    \n",
    "    def normalizer(self, max_degree):\n",
    "        max_value = max_degree\n",
    "        min_value = 1\n",
    "        def normalize(value):\n",
    "            return (value - min_value) / max_value + 1\n",
    "        return normalize\n",
    "    \n",
    "    def to_json(self):\n",
    "        norm = self.normalizer(self.graph.maxdegree())\n",
    "        nodes = []\n",
    "        edges = []\n",
    "        for edge in self.graph.es:\n",
    "            edge_attr = {}\n",
    "            edge_attr['from'], edge_attr['to'] = edge.tuple\n",
    "            edge_attr['weight'] = edge['weight']\n",
    "            edges.append(edge_attr)\n",
    "        for node in self.graph.vs:\n",
    "            node_attr = {}\n",
    "            node_attr = { key: node[key] for key in node.attributes()}\n",
    "            node_attr['degree'] = node.degree()\n",
    "            nodes.append(node_attr)\n",
    "        return json.dumps({\n",
    "            'nodes': nodes,\n",
    "            'edges': edges,\n",
    "        }, indent=4)"
   ]
  },
  {
   "cell_type": "code",
   "execution_count": 166,
   "metadata": {},
   "outputs": [],
   "source": [
    "import igraph\n",
    "from itertools import filterfalse, combinations\n",
    "\n",
    "class NetworkConverter:\n",
    "    def __init__(self, purchase_list):\n",
    "        self.purchase_list = purchase_list\n",
    "    \n",
    "    def convert(self, method = 'degree-price', support=0.002):\n",
    "        support = int(len(self.purchase_list) * support)\n",
    "        result = {}\n",
    "        nodes = set()\n",
    "        for transaction in purchase_list:\n",
    "            itemsets = transaction['items']\n",
    "            if len(itemsets) > 1:\n",
    "                edge_list = list(self.find_edges_in_list(itemsets))\n",
    "                length = len(edge_list)\n",
    "                for edge_dict_tuple in edge_list:\n",
    "                    edge = tuple([dic['單品名稱'] for dic in edge_dict_tuple])\n",
    "                    if method == 'degree-price':\n",
    "                        weight = sum([dic['amount'] for dic in edge_dict_tuple]) / length\n",
    "                        if edge in result or (edge[1], edge[0]) in result:\n",
    "                            edge_in_list = edge if edge in result else (edge[1], edge[0])\n",
    "                            result[edge_in_list]['count'] += 1\n",
    "                            result[edge_in_list]['weight'] += weight\n",
    "                        else:\n",
    "                            result[edge] = {}\n",
    "                            result[edge]['count'] = 1\n",
    "                            result[edge]['weight'] = weight\n",
    "                    elif method == 'adjust-degree':\n",
    "                        weight = 1 / length\n",
    "                        if edge in result or (edge[1], edge[0]) in result:\n",
    "                            edge_in_list = edge if edge in result else (edge[1], edge[0])\n",
    "                            result[edge_in_list]['count'] += 1\n",
    "                            result[edge_in_list]['weight'] += weight\n",
    "                        else:\n",
    "                            result[edge] = {}\n",
    "                            result[edge]['count'] = 1\n",
    "                            result[edge]['weight'] = weight\n",
    "                    else:\n",
    "                        weight =1\n",
    "                        if edge in result or (edge[1], edge[0]) in result:\n",
    "                            edge_in_list = edge if edge in result else (edge[1], edge[0])\n",
    "                            result[edge_in_list]['count'] += 1\n",
    "                        else:\n",
    "                            result[edge] = {}\n",
    "                            result[edge]['count'] = 1\n",
    "                            result[edge]['weight'] = weight\n",
    "        for key in list(result.keys()):\n",
    "            if result[key]['count'] < support:\n",
    "                del result[key]\n",
    "        for items in result.keys():\n",
    "            for item in items:\n",
    "                if item not in nodes:\n",
    "                    nodes.add(item)\n",
    "        return self.to_graph(nodes, result)\n",
    "    \n",
    "    def find_edges_in_list(self, itemsets):\n",
    "        \"\"\"Return the combinations of the itemsets.\n",
    "        \"\"\"\n",
    "        result = []\n",
    "        return combinations(itemsets, 2)\n",
    "    \n",
    "    def to_graph(self, nodes, edges):\n",
    "        g = igraph.Graph()\n",
    "        for node in nodes:\n",
    "            g.add_vertex(node)\n",
    "        for edge, attrs in edges.items():\n",
    "            weight = attrs['weight'] if attrs['weight'] > 0 else 1\n",
    "            g.add_edge(edge[0], edge[1], weight=weight)\n",
    "        return ProductNerwork(g)"
   ]
  },
  {
   "cell_type": "code",
   "execution_count": 167,
   "metadata": {},
   "outputs": [],
   "source": [
    "converter = NetworkConverter(purchase_list)"
   ]
  },
  {
   "cell_type": "code",
   "execution_count": 168,
   "metadata": {},
   "outputs": [],
   "source": [
    "product_network = converter.convert('degree', 0.001)"
   ]
  },
  {
   "cell_type": "code",
   "execution_count": 169,
   "metadata": {
    "scrolled": true
   },
   "outputs": [
    {
     "name": "stdout",
     "output_type": "stream",
     "text": [
      "Node number: 94\n",
      "Edge number: 116\n"
     ]
    }
   ],
   "source": [
    "print('Node number: {}\\nEdge number: {}'.format(len(product_network.graph.vs), len(product_network.graph.es)))"
   ]
  },
  {
   "cell_type": "markdown",
   "metadata": {},
   "source": [
    "# 排序Community"
   ]
  },
  {
   "cell_type": "code",
   "execution_count": 170,
   "metadata": {},
   "outputs": [
    {
     "name": "stdout",
     "output_type": "stream",
     "text": [
      "3.4285714285714284\n",
      "黃金魚豆腐 千層玉子燒 手工高麗菜捲 白玉蘿蔔 究極味付蛋 海鮮魚卵棒 日式黑輪 旗魚黑輪 蟹肉糰子 關東煮本舖拉麵 讚岐烏龍麵 特級花枝丸 黃金厚切魚板\n",
      "==============\n",
      "1.2857142857142858\n",
      "台灣電力 玉山信用卡 台灣大哥大 國泰世華卡 花旗信用卡 欣林瓦斯費 健保費代收 台新信用卡 中華電信 台灣自來水 勞保費代收 國民年金代 代收手續費４\n",
      "==============\n",
      "1.0\n",
      "蕃薯（１５元） 鮮奶茶 肉鬆飯糰 全家熱狗麵包 光泉米漿 蕃薯（２０元） 鮪魚飯糰 蕃薯（２５元） 經典原味熱狗 統一陽光無糖高纖豆漿 簡單點無加糖優酪乳 茶葉蛋（銷售用）\n",
      "==============\n",
      "0.875\n",
      "麥香奶茶ＴＰ３００ （新）銷售用購物袋１８號袋 麥香紅茶ＴＰ３００ 伯朗咖啡 金牌台啤罐裝（６入） 金牌台灣啤酒 鹼性離子水\n",
      "==============\n",
      "0.6666666666666666\n",
      "雅虎拍賣繳費 合庫代１５ 中信外１５ 代收手續費１５ 玉山淘寶款\n",
      "==============\n",
      "0.6\n",
      "奶香綠茶３３０ＭＬ 代收折價卷 優格軟糖（Ｏｒａｎｇｅ） 優格軟糖（Ｐｅａｃｈ）\n",
      "==============\n",
      "0.6\n",
      "頑皮滷蛋－原味 促銷券０６ 伊藤園蘋果紅茶 Ｃｒｅａｍ－Ｏ黑巧克力三明治餅\n",
      "==============\n",
      "0.5\n",
      "自由時報 聯合報 蘋果日報\n",
      "==============\n",
      "0.5\n",
      "代收手續費５ 通行繳費 ｅＴａｇ繳費\n",
      "==============\n",
      "0.3333333333333333\n",
      "戰禍邪神第１２章 戰禍邪神第１１章\n",
      "==============\n",
      "0.3333333333333333\n",
      "促銷券１０ ＭＭ花生巧克力\n",
      "==============\n",
      "0.3333333333333333\n",
      "辣味ＹＵＲＯＣＫ魚薯條無 原味ＹＵＲＯＣＫ魚薯條無\n",
      "==============\n",
      "0.3333333333333333\n",
      "空瓶回收（銷售用） 紅標料理米酒\n",
      "==============\n",
      "0.3333333333333333\n",
      "蝦皮寄件Ｆ 商店街寄件Ｆ\n",
      "==============\n",
      "0.3333333333333333\n",
      "店到店雅虎拍賣線上手續費 雅虎線上寄件\n",
      "==============\n",
      "0.3333333333333333\n",
      "冰拿鐵大杯 熱拿鐵大杯\n",
      "==============\n",
      "0.3333333333333333\n",
      "台中裁罰單 代收手續費６\n",
      "==============\n",
      "0.3333333333333333\n",
      "寶物交易代 代收手續費２５\n",
      "==============\n",
      "0.3333333333333333\n",
      "商店街取件 蝦皮取件Ｃ\n",
      "==============\n",
      "0.3333333333333333\n",
      "店到店雅虎拍賣手續費 雅虎拍賣寄件\n",
      "==============\n",
      "0.3333333333333333\n",
      "ＦＰ店到店 店到店ＦＰ手續費\n",
      "==============\n",
      "0.3333333333333333\n",
      "台鐵取票 台鐵手續費\n",
      "==============\n",
      "0.3333333333333333\n",
      "商店街寄件Ｗ 蝦皮寄件Ｗ\n",
      "==============\n",
      "0.3333333333333333\n",
      "高鐵手續費 高鐵取票\n",
      "==============\n"
     ]
    }
   ],
   "source": [
    "communities = product_network.get_communities()\n",
    "for community in communities:\n",
    "    print(community['weight'])\n",
    "    print(' '.join(community['items']))\n",
    "    print('==============')"
   ]
  },
  {
   "cell_type": "markdown",
   "metadata": {},
   "source": [
    "# 利用Betweeness找出可能是connector的節點"
   ]
  },
  {
   "cell_type": "code",
   "execution_count": 123,
   "metadata": {},
   "outputs": [],
   "source": [
    "connectors = product_network.get_connectors()"
   ]
  },
  {
   "cell_type": "code",
   "execution_count": 124,
   "metadata": {},
   "outputs": [
    {
     "name": "stdout",
     "output_type": "stream",
     "text": [
      "26.0 : 茶葉蛋（銷售用）\n",
      "25.0 : 關東煮本舖拉麵\n",
      "12.0 : 代收手續費４\n",
      "8.0  : 中華電信 \n",
      "7.0  : 蕃薯（２０元）\n",
      "7.0  : 海鮮魚卵棒\n",
      "7.0  : 經典原味熱狗\n",
      "6.0  : 代收手續費１５\n",
      "5.0  : 台灣自來水\n",
      "1.0  : 促銷券０６\n"
     ]
    }
   ],
   "source": [
    "for connector in connectors:\n",
    "    print('{:<5}: {:<5}'.format(connector['betweeness'], connector['name']))"
   ]
  },
  {
   "cell_type": "markdown",
   "metadata": {},
   "source": [
    "# 更新Vertex的attribute(Community)"
   ]
  },
  {
   "cell_type": "code",
   "execution_count": 125,
   "metadata": {},
   "outputs": [],
   "source": [
    "data = product_network.to_json()"
   ]
  },
  {
   "cell_type": "code",
   "execution_count": 126,
   "metadata": {},
   "outputs": [],
   "source": [
    "with open('default.json', 'w', encoding='utf-8') as file:\n",
    "    file.write(data)"
   ]
  },
  {
   "cell_type": "code",
   "execution_count": null,
   "metadata": {},
   "outputs": [],
   "source": []
  }
 ],
 "metadata": {
  "kernelspec": {
   "display_name": "Python 3",
   "language": "python",
   "name": "python3"
  },
  "language_info": {
   "codemirror_mode": {
    "name": "ipython",
    "version": 3
   },
   "file_extension": ".py",
   "mimetype": "text/x-python",
   "name": "python",
   "nbconvert_exporter": "python",
   "pygments_lexer": "ipython3",
   "version": "3.7.1"
  }
 },
 "nbformat": 4,
 "nbformat_minor": 2
}
