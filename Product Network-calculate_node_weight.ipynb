{
 "cells": [
  {
   "cell_type": "code",
   "execution_count": 122,
   "metadata": {},
   "outputs": [],
   "source": [
    "from pymongo import MongoClient"
   ]
  },
  {
   "cell_type": "code",
   "execution_count": 123,
   "metadata": {},
   "outputs": [],
   "source": [
    "client = MongoClient('localhost', 27017)"
   ]
  },
  {
   "cell_type": "code",
   "execution_count": 119,
   "metadata": {},
   "outputs": [],
   "source": [
    "db = client['pn']"
   ]
  },
  {
   "cell_type": "code",
   "execution_count": 56,
   "metadata": {},
   "outputs": [],
   "source": [
    "db = client['pn-50']"
   ]
  },
  {
   "cell_type": "code",
   "execution_count": 124,
   "metadata": {},
   "outputs": [],
   "source": [
    "db = client['pn_all']"
   ]
  },
  {
   "cell_type": "code",
   "execution_count": 311,
   "metadata": {},
   "outputs": [],
   "source": [
    "db = client['pn-pruned']"
   ]
  },
  {
   "cell_type": "code",
   "execution_count": 125,
   "metadata": {},
   "outputs": [],
   "source": [
    "purchase_list = list(db['transactions'].find({'items.1': { '$exists': True } }, projection=['items']))"
   ]
  },
  {
   "cell_type": "code",
   "execution_count": 126,
   "metadata": {},
   "outputs": [
    {
     "data": {
      "text/plain": [
       "936409"
      ]
     },
     "execution_count": 126,
     "metadata": {},
     "output_type": "execute_result"
    }
   ],
   "source": [
    "len(purchase_list)"
   ]
  },
  {
   "cell_type": "markdown",
   "metadata": {
    "collapsed": true
   },
   "source": [
    "# Network Analysis"
   ]
  },
  {
   "cell_type": "code",
   "execution_count": 127,
   "metadata": {},
   "outputs": [],
   "source": [
    "import json\n",
    "class ProductNerwork:\n",
    "    def __init__(self, graph):\n",
    "        self.graph = graph\n",
    "        self.communities = graph.community_fastgreedy(weights='weight').as_clustering()\n",
    "        for index, vertex in enumerate(self.graph.vs):\n",
    "            vertex.update_attributes({ 'community': self.communities.membership[index], 'id': index })\n",
    "\n",
    "    def get_communities(self, sort=True):\n",
    "        dics = []\n",
    "        for subgraph in self.communities.subgraphs():\n",
    "            nums = len(subgraph.vs)\n",
    "            weight_sum = sum([edge['weight'] for edge in subgraph.es]) * (nums) / nums / (nums + 1)\n",
    "            comm_name = [ node['name'] for node in subgraph.vs]\n",
    "            dic = {\n",
    "                'weight': weight_sum,\n",
    "                'items': comm_name\n",
    "            }\n",
    "            dics.append(dic)\n",
    "        if sort:\n",
    "            return sorted(dics, key=lambda x : x['weight'], reverse=True)\n",
    "        return dics\n",
    "\n",
    "    def get_connectors(self):\n",
    "        items = []\n",
    "        for index, value in enumerate(self.graph.betweenness(weights='weight')):\n",
    "            if value > 0:\n",
    "                items.append({ 'name': self.graph.vs[index]['name'], 'betweeness': value })\n",
    "        items.sort(key=lambda x: x['betweeness'], reverse=True)\n",
    "        return items\n",
    "    \n",
    "    def normalizer(self, max_degree):\n",
    "        max_value = max_degree\n",
    "        min_value = 1\n",
    "        def normalize(value):\n",
    "            return (value - min_value) / max_value + 1\n",
    "        return normalize\n",
    "    \n",
    "    def to_json(self):\n",
    "        norm = self.normalizer(self.graph.maxdegree())\n",
    "        nodes = []\n",
    "        edges = []\n",
    "        for edge in self.graph.es:\n",
    "            edge_attr = {}\n",
    "            edge_attr['from'], edge_attr['to'] = edge.tuple\n",
    "            edge_attr['weight'] = edge['weight']\n",
    "            edges.append(edge_attr)\n",
    "        for node in self.graph.vs:\n",
    "            node_attr = {}\n",
    "            node_attr = { key: node[key] for key in node.attributes()}\n",
    "            node_attr['degree'] = node.degree()\n",
    "            nodes.append(node_attr)\n",
    "        return json.dumps({\n",
    "            'nodes': nodes,\n",
    "            'edges': edges,\n",
    "        }, indent=4)"
   ]
  },
  {
   "cell_type": "code",
   "execution_count": 128,
   "metadata": {},
   "outputs": [],
   "source": [
    "from igraph import *\n",
    "from itertools import filterfalse, combinations\n",
    "\n",
    "class NetworkConverter:\n",
    "    def __init__(self, purchase_list):\n",
    "        self.purchase_list = purchase_list\n",
    "    \n",
    "    def convert(self, method='degree-price', support=0.001):\n",
    "        support = int(len(self.purchase_list) * support)\n",
    "        result = {}\n",
    "        nodes = set()\n",
    "        for transaction in purchase_list:\n",
    "            itemsets = transaction['items']\n",
    "            if len(itemsets) > 1:\n",
    "                edge_list = list(self.find_edges_in_list(itemsets))\n",
    "                length = len(edge_list)\n",
    "                for edge_dict_tuple in edge_list:\n",
    "                    edge = tuple([dic['單品名稱'] for dic in edge_dict_tuple])\n",
    "                    if method == 'degree':\n",
    "                        weight = 1\n",
    "                        if edge in result or (edge[1], edge[0]) in result:\n",
    "                            edge_in_list = edge if edge in result else (edge[1], edge[0])\n",
    "                            result[edge_in_list]['count'] += 1\n",
    "                            result[edge_in_list]['weight'] = weight\n",
    "                        else:\n",
    "                            result[edge] = {}\n",
    "                            result[edge]['count'] = 1\n",
    "                            result[edge]['weight'] = weight\n",
    "                    else:\n",
    "                        if method == 'degree-price':\n",
    "                            weight = sum([dic['amount'] for dic in edge_dict_tuple]) / length\n",
    "                        elif method == 'adjust-degree':\n",
    "                            weight = 1 / length\n",
    "                        \n",
    "                        if edge in result or (edge[1], edge[0]) in result:\n",
    "                            edge_in_list = edge if edge in result else (edge[1], edge[0])\n",
    "                            result[edge_in_list]['count'] += 1\n",
    "                            result[edge_in_list]['weight'] += weight\n",
    "                        else:\n",
    "                            result[edge] = {}\n",
    "                            result[edge]['count'] = 1\n",
    "                            result[edge]['weight'] = weight\n",
    "        for key in list(result.keys()):\n",
    "            if result[key]['count'] < support:\n",
    "                del result[key]\n",
    "        for items in result.keys():\n",
    "            for item in items:\n",
    "                if item not in nodes:\n",
    "                    nodes.add(item)\n",
    "        return self.to_graph(nodes, result)\n",
    "    \n",
    "    def find_edges_in_list(self, itemsets):\n",
    "        \"\"\"Return the combinations of the itemsets.\n",
    "        \"\"\"\n",
    "        result = []\n",
    "        return combinations(itemsets, 2)\n",
    "    \n",
    "    def to_graph(self, nodes, edges):\n",
    "        g = igraph.Graph()\n",
    "        for node in nodes:\n",
    "            g.add_vertex(node)\n",
    "        for edge, attrs in edges.items():\n",
    "            weight = attrs['weight'] if attrs['weight'] > 0 else 1\n",
    "            g.add_edge(edge[0], edge[1], weight=weight)\n",
    "        return ProductNerwork(g)"
   ]
  },
  {
   "cell_type": "code",
   "execution_count": 129,
   "metadata": {},
   "outputs": [],
   "source": [
    "# adjusted: add calculate weight of nodes in communities\n",
    "import json\n",
    "class ProductNerwork:\n",
    "    def __init__(self, graph):\n",
    "        self.graph = graph\n",
    "        self.communities = graph.community_fastgreedy(weights='weight').as_clustering()\n",
    "        for index, vertex in enumerate(self.graph.vs):\n",
    "            vertex.update_attributes({ 'community': self.communities.membership[index], 'id': index })\n",
    "\n",
    "    def get_communities(self, sort=True):\n",
    "        dics = []\n",
    "        for subgraph in self.communities.subgraphs():\n",
    "            nums = len(subgraph.vs)\n",
    "#             weight_sum = sum([edge['weight'] for edge in subgraph.es])\n",
    "            weight_sum = sum([edge['weight'] for edge in subgraph.es]) * (nums) / nums / (nums + 1)\n",
    "#             comm_name = [ node['name'] for node in subgraph.vs]\n",
    "            ###############################\n",
    "            items_weight_dict = {}\n",
    "            for node in subgraph.vs:\n",
    "                edges_id = subgraph.incident(node['name'], mode=OUT)\n",
    "#                 node_weight_sum = 0\n",
    "#                 for e in edges_id:\n",
    "#                     node_weight_sum += subgraph.es[e][\"weight\"]\n",
    "                node_weight = sum([subgraph.es[e][\"weight\"] for e in edges_id])\n",
    "                items_weight_dict[node['name']] = node_weight\n",
    "            if len(subgraph.vs) > 3:\n",
    "                core = max(items_weight_dict, key=lambda x: items_weight_dict[x])\n",
    "            else:\n",
    "                core = ''\n",
    "            ###############################\n",
    "            dic = {\n",
    "                'weight': weight_sum,\n",
    "#                 'items': comm_name\n",
    "                'items': items_weight_dict,\n",
    "                'core': core\n",
    "            }\n",
    "            dics.append(dic)\n",
    "        if sort:\n",
    "            return sorted(dics, key=lambda x : x['weight'], reverse=True)\n",
    "        return dics\n",
    "\n",
    "    def get_connectors(self):\n",
    "        items = []\n",
    "        for index, value in enumerate(self.graph.betweenness(weights='weight')):\n",
    "            if value > 0:\n",
    "                items.append({ 'name': self.graph.vs[index]['name'], 'betweeness': value })\n",
    "        items.sort(key=lambda x: x['betweeness'], reverse=True)\n",
    "        return items\n",
    "    \n",
    "    def normalizer(self, max_degree):\n",
    "        max_value = max_degree\n",
    "        min_value = 1\n",
    "        def normalize(value):\n",
    "            return (value - min_value) / max_value + 1\n",
    "        return normalize\n",
    "    \n",
    "    def to_json(self):\n",
    "        norm = self.normalizer(self.graph.maxdegree())\n",
    "        nodes = []\n",
    "        edges = []\n",
    "        for edge in self.graph.es:\n",
    "            edge_attr = {}\n",
    "            edge_attr['from'], edge_attr['to'] = edge.tuple\n",
    "            edge_attr['weight'] = edge['weight']\n",
    "            edges.append(edge_attr)\n",
    "        ######################## added #########################\n",
    "        core_list = []\n",
    "        for subgraph in self.communities.subgraphs():\n",
    "            items_weight_dict = {}\n",
    "            for node in subgraph.vs:\n",
    "                edges_id = subgraph.incident(node['name'], mode=OUT)\n",
    "                node_weight = sum([subgraph.es[e][\"weight\"] for e in edges_id])\n",
    "                items_weight_dict[node['name']] = node_weight\n",
    "            if len(subgraph.vs) > 3:\n",
    "                core_list.append(max(items_weight_dict, key=lambda x: items_weight_dict[x]))\n",
    "        ########################################################\n",
    "        for node in self.graph.vs:\n",
    "            node_attr = {}\n",
    "            node_attr = { key: node[key] for key in node.attributes()}\n",
    "            node_attr['degree'] = node.degree()\n",
    "            ######################## added ######################\n",
    "            if node['name'] in core_list:\n",
    "                node_attr['border'] = 5\n",
    "#                 node_attr['core'] = True\n",
    "            else:\n",
    "                node_attr['border'] = 0\n",
    "#                 node_attr['core'] = False\n",
    "            #####################################################\n",
    "            nodes.append(node_attr)\n",
    "        return json.dumps({\n",
    "            'nodes': nodes,\n",
    "            'edges': edges,\n",
    "        }, indent=4)"
   ]
  },
  {
   "cell_type": "code",
   "execution_count": 130,
   "metadata": {},
   "outputs": [],
   "source": [
    "#adjusting\n",
    "\n",
    "import igraph\n",
    "import numpy as np\n",
    "from itertools import filterfalse, combinations\n",
    "\n",
    "class NetworkConverter:\n",
    "    def __init__(self, purchase_list):\n",
    "        self.purchase_list = purchase_list\n",
    "    \n",
    "    def convert(self, method = 'degree-price', support = 0.0002):\n",
    "        #support = int(len(self.purchase_list) * support)\n",
    "        result = {}\n",
    "        nodes = set()\n",
    "        for transaction in purchase_list:\n",
    "            itemsets = transaction['items']\n",
    "            if len(itemsets) > 1:\n",
    "                edge_list = list(self.find_edges_in_list(itemsets))\n",
    "                length = len(edge_list)\n",
    "                for edge_dict_tuple in edge_list:\n",
    "                    edge = tuple([dic['單品名稱'] for dic in edge_dict_tuple])\n",
    "                    weight = 1\n",
    "                    if method == 'degree-price':\n",
    "                        weight = sum([dic['amount'] for dic in edge_dict_tuple]) / length\n",
    "                    elif method == 'adjusted-degree':\n",
    "                        weight = 1 / length\n",
    "                    else:\n",
    "                        weight =1\n",
    "                        \n",
    "                    if edge in result or (edge[1], edge[0]) in result:\n",
    "                        edge_in_list = edge if edge in result else (edge[1], edge[0])\n",
    "                        result[edge_in_list]['count'] += 1\n",
    "                        result[edge_in_list]['weight'] += weight\n",
    "                    else:\n",
    "                        result[edge] = {}\n",
    "                        result[edge]['count'] = 1\n",
    "                        result[edge]['weight'] = weight\n",
    "        \n",
    "        weight_list = []\n",
    "        for key in list(result.keys()):\n",
    "            weight_list.append(result[key]['weight'])    \n",
    "        weight_support = np.percentile(weight_list, (1-support)*100)\n",
    "        print(weight_support)\n",
    "        for key in list(result.keys()):\n",
    "            if result[key]['weight'] < weight_support:\n",
    "                del result[key]\n",
    "        for items in result.keys():\n",
    "            for item in items:\n",
    "                if item not in nodes:\n",
    "                    nodes.add(item)\n",
    "        return self.to_graph(nodes, result)\n",
    "    \n",
    "    \n",
    "    def find_edges_in_list(self, itemsets):\n",
    "        \"\"\"Return the combinations of the itemsets.\n",
    "        \"\"\"\n",
    "        result = []\n",
    "        return combinations(itemsets, 2)\n",
    "    \n",
    "    def to_graph(self, nodes, edges):\n",
    "        g = igraph.Graph()\n",
    "        for node in nodes:\n",
    "            g.add_vertex(node)\n",
    "        for edge, attrs in edges.items():\n",
    "            weight = attrs['weight'] if attrs['weight'] > 0 else 1\n",
    "            g.add_edge(edge[0], edge[1], weight=weight)\n",
    "        return ProductNerwork(g)"
   ]
  },
  {
   "cell_type": "code",
   "execution_count": 131,
   "metadata": {},
   "outputs": [],
   "source": [
    "converter = NetworkConverter(purchase_list)"
   ]
  },
  {
   "cell_type": "markdown",
   "metadata": {},
   "source": [
    "# degree+price"
   ]
  },
  {
   "cell_type": "code",
   "execution_count": 132,
   "metadata": {
    "scrolled": true
   },
   "outputs": [
    {
     "name": "stdout",
     "output_type": "stream",
     "text": [
      "17179.71200001426\n"
     ]
    }
   ],
   "source": [
    "product_network = converter.convert(method='degree-price', support=0.0002)"
   ]
  },
  {
   "cell_type": "code",
   "execution_count": 133,
   "metadata": {
    "scrolled": true
   },
   "outputs": [
    {
     "name": "stdout",
     "output_type": "stream",
     "text": [
      "Node number: 175\n",
      "Edge number: 156\n"
     ]
    }
   ],
   "source": [
    "print('Node number: {}\\nEdge number: {}'.format(len(product_network.graph.vs), len(product_network.graph.es)))"
   ]
  },
  {
   "cell_type": "markdown",
   "metadata": {},
   "source": [
    "# 排序Community"
   ]
  },
  {
   "cell_type": "code",
   "execution_count": 134,
   "metadata": {
    "scrolled": false
   },
   "outputs": [
    {
     "name": "stdout",
     "output_type": "stream",
     "text": [
      "81364.16268546271\n",
      "紅標料理米酒 空瓶回收（銷售用）\n",
      "==============\n",
      "74209.87878787877\n",
      "店到店ＦＰ手續費 ＦＰ簡訊寄件 ＦＰ線上寄 ＡＰＰ寄件 ＦＰ店到店\n",
      "==============\n",
      "55581.48651000759\n",
      "大口ＢＢＱ牛肉起司堡飯糰 熱美式中杯 鮮奶茶 熱美式大杯 特濃黑可可 熱蜜香紅茶拿鐵 商品預售應稅 大口法香烤雞飯糰 冰美式大杯 熱拿鐵大杯 熱巧克力中杯 冰拿鐵大杯 熱重烘焙拿鐵中杯 大口奶油蕈菇起司雞排飯糰 熱拿鐵中杯\n",
      "==============\n",
      "45325.66297899632\n",
      "代銷即３００點ＭｙＣａｒｄ 代銷即５００點ＭｙＣａｒｄ 代銷即９０元ＭｙＣａｒｄ 代銷即１０００ＭｙＣａｒｄ 台中停車補單 代銷即３０００元ＭｙＣａｒｄ 代銷即２０００點ＭｙＣａｒｄ 代銷即５０００元ＭｙＣａｒｄ\n",
      "==============\n",
      "43889.12397435891\n",
      "（串）抽取式衛生紙 商品預售免稅 １０００點特價優惠Ａ１ 林鳳營全脂鮮乳９３６ｍｌ\n",
      "==============\n",
      "38522.119047619046\n",
      "代銷即貝殼幣３５０點 代銷即貝殼幣１４０點 代銷即貝殼幣７００點 代銷即貝殼幣１４００點\n",
      "==============\n",
      "36536.763920468075\n",
      "光泉全脂鮮乳 蕃薯（２０元） 經典原味熱狗 全家熱狗麵包 特濃抹茶拿鐵 茶葉蛋（銷售用） 蕃薯（１５元） 蕃薯（２５元） 統一陽光無糖高纖豆漿\n",
      "==============\n",
      "35659.17460317461\n",
      "ＥＺ寄件付 ｅｚ店到店手續費\n",
      "==============\n",
      "35633.550264550235\n",
      "戰禍邪神第１６章 戰禍邪神第１５章\n",
      "==============\n",
      "35614.91005291002\n",
      "戰禍邪神第１８章 戰禍邪神第１７章\n",
      "==============\n",
      "35470.86406186403\n",
      "戰禍邪神第１４章 戰禍邪神第１３章\n",
      "==============\n",
      "34158.20634920634\n",
      "戰禍邪神第１１章 戰禍邪神第１２章\n",
      "==============\n",
      "31593.150561404687\n",
      "麥香奶茶ＴＰ３００ （預）戽斗星球公仔磁鐵（藍色款） 雲絲頓藍７毫克香煙 大衛杜夫１０毫克香煙 尊爵Ｇ７ 長壽白軟包香菸 麥香紅茶ＴＰ３００ 金裝大衛杜夫７毫克香煙 峰硬盒香煙 安全裝置火石打火機 長壽黃硬盒香煙 雲絲頓紅１０毫克香煙 戽斗星球公仔磁鐵（藍色款） 七星天藍７毫克硬盒 伯朗咖啡 純喫茶綠茶６５０ｍｌ 藍山咖啡 天然水 純喫茶紅茶６５０ｍｌ 茶裏王日式綠茶 ＵＣＣ無糖咖啡飲料 貝納頌經典拿鐵 七星１０毫克硬盒香煙\n",
      "==============\n",
      "31466.928571428576\n",
      "蝦皮寄件Ｆ 雅虎拍賣寄件 店到店雅虎拍賣手續費\n",
      "==============\n",
      "27220.35042688793\n",
      "ＳＭＬ磁鐵夾 羊羔絨毛毯－爵士駝 羊羔絨毛毯－太空銀 ＳＭＬ暖暖枕Ｙ－ＭＯＮ款 ＳＭＬ收納旅行袋 羊羔絨毛毯－拉菲酒紅 （預）ＳＭＬ暖暖枕Ｒ－ＭＯＮ款 ＳＭＬ暖暖枕Ｒ－ＭＯＮ款 ＳＭＬ保溫瓶 全店４００點加價購Ｂ （預）ＳＭＬ暖暖枕Ｙ－ＭＯＮ款\n",
      "==============\n",
      "26487.619963369958\n",
      "蝦皮寄件Ｗ 雅虎線上寄件 店到店雅虎拍賣線上手續費\n",
      "==============\n",
      "21122.055901398544\n",
      "海尼根３３０ＭＬ６入促銷包 （新）４５號銷售用購物袋 金牌台灣啤酒５００ＭＬ 金牌台啤罐裝（６入） 金牌台灣啤酒 天然水２．２Ｌ 麒麟霸啤酒（小）６入裝 麒麟霸５００ＭＬ４入 （新）銷售用購物袋１８號袋\n",
      "==============\n",
      "19662.7380952381\n",
      "代銷即１００點ＧＡＳＨ點數 代銷即遊ｅ卡５００點 代銷即１５０點ＧＡＳＨ點數 代銷即遊ｅ卡５０點 代銷即遊ｅ卡１５０點 代銷即遊ｅ卡３００點\n",
      "==============\n",
      "19131.561350686326\n",
      "湖池屋洋芋片海苔鹽口味 促銷券０３\n",
      "==============\n",
      "18868.714285714286\n",
      "ｅｚ簡訊寄件手續費 簡訊寄件付\n",
      "==============\n",
      "17622.57113275197\n",
      "雙效活靈芝滋補液 瑞士爽口糖 代收折價卷 偉特鮮奶油糖 小琉球手工麻花捲－綜合 高麗人蔘滋補液\n",
      "==============\n",
      "17289.847631323977\n",
      "伊藤園蘋果紅茶 促銷券０６ 孔雀香酥脆－海苔\n",
      "==============\n",
      "16247.039075630251\n",
      "辣味ＹＵＲＯＣＫ魚薯條無 原味ＹＵＲＯＣＫ魚薯條無\n",
      "==============\n",
      "15048.253663003665\n",
      "代收手續費１５ 中信外１５ 雅虎拍賣繳費 玉山淘寶款 合庫代１５\n",
      "==============\n",
      "14908.059482421106\n",
      "巧克力（三粒裝） 金莎聖誕暖心杯套組\n",
      "==============\n",
      "12707.714285714284\n",
      "高鐵手續費 高鐵取票\n",
      "==============\n",
      "12567.561660561665\n",
      "商城線上寄件 店到店雅虎超級商城線上印單\n",
      "==============\n",
      "12496.859018759007\n",
      "台鐵取票 台鐵手續費\n",
      "==============\n",
      "12284.371091871071\n",
      "寶物交易代 代收手續費２５\n",
      "==============\n",
      "11850.0\n",
      "代銷－證件快照－２００元 代銷－證件快照－１５０元\n",
      "==============\n",
      "11444.57746175392\n",
      "義美錫蘭紅茶 義美奶茶 義美全脂鮮乳２３６ｍｌ\n",
      "==============\n",
      "11296.031746031746\n",
      "代銷即５００點ＧＡＳＨ點數 代銷即１０００點ＧＡＳＨ點數\n",
      "==============\n",
      "11040.266666666668\n",
      "（預）Ｎ３１６不鏽鋼炒鍋 （預）Ｎ不鏽鋼刀具七件組 全店１０００點加價購\n",
      "==============\n",
      "11034.84927849928\n",
      "鮪魚飯糰 林鳳營全脂鮮乳 光泉鮮豆漿\n",
      "==============\n",
      "9803.270018870006\n",
      "立頓英式奶茶 立頓萃香奶綠\n",
      "==============\n",
      "9292.407407407407\n",
      "代銷即ＭｙＣａｒｄ１５０ 代銷即５０點ＭｙＣａｒｄ\n",
      "==============\n",
      "9253.243201243198\n",
      "自由時報 蘋果日報\n",
      "==============\n",
      "9220.0\n",
      "代銷即ＬＩＮＥ１３８０元指定卡 代銷即ＬＩＮＥ７２０元指定卡\n",
      "==============\n",
      "9156.429655529651\n",
      "花生湯圓 芝麻湯圓\n",
      "==============\n",
      "8668.551897938667\n",
      "Ｄｒ．Ｑ荔枝蒟蒻 Ｄｒ．Ｑ葡萄蒟蒻\n",
      "==============\n",
      "7181.20714285714\n",
      "女黑Ｍ無重力發熱衣 促銷券０４\n",
      "==============\n",
      "7110.110317460326\n",
      "熱美式中杯－票券優惠專用 票券優惠條碼１\n",
      "==============\n",
      "6401.555555555555\n",
      "金色三麥蜂蜜精釀啤酒 金色三麥黑麥精釀啤酒\n",
      "==============\n",
      "6043.569191919192\n",
      "黑Ｍ立體剪裁羽絨外套 黑Ｌ立體剪裁羽絨外套\n",
      "==============\n"
     ]
    }
   ],
   "source": [
    "communities = product_network.get_communities()\n",
    "for community in communities:\n",
    "    print(community['weight'])\n",
    "    print(' '.join(community['items']))\n",
    "    print('==============')"
   ]
  },
  {
   "cell_type": "code",
   "execution_count": 136,
   "metadata": {
    "scrolled": false
   },
   "outputs": [
    {
     "name": "stdout",
     "output_type": "stream",
     "text": [
      "weight: 81364.16268546271\n",
      "items: {'紅標料理米酒': 244092.48805638813, '空瓶回收（銷售用）': 244092.48805638813}\n",
      "core: \n",
      "======================================\n",
      "weight: 74209.87878787877\n",
      "items: {'店到店ＦＰ手續費': 445259.2727272727, 'ＦＰ簡訊寄件': 25618.85714285714, 'ＦＰ線上寄': 58872.4761904762, 'ＡＰＰ寄件': 39187.04761904762, 'ＦＰ店到店': 321580.89177489176}\n",
      "core: 店到店ＦＰ手續費\n",
      "======================================\n",
      "weight: 55581.48651000759\n",
      "items: {'大口ＢＢＱ牛肉起司堡飯糰': 18367.7238095238, '熱美式中杯': 126755.828860029, '鮮奶茶': 81721.1592241093, '熱美式大杯': 153492.64972364242, '特濃黑可可': 18107.560678210666, '熱蜜香紅茶拿鐵': 17471.99177489178, '商品預售應稅': 377298.2115717615, '大口法香烤雞飯糰': 87317.8943001444, '冰美式大杯': 19175.054761904765, '熱拿鐵大杯': 352358.29376718064, '熱巧克力中杯': 41070.08802308802, '冰拿鐵大杯': 128779.61652661067, '熱重烘焙拿鐵中杯': 28806.690476190473, '大口奶油蕈菇起司雞排飯糰': 56810.23433233438, '熱拿鐵中杯': 271074.57049062074}\n",
      "core: 商品預售應稅\n",
      "======================================\n",
      "weight: 45325.66297899632\n",
      "items: {'代銷即３００點ＭｙＣａｒｄ': 53398.26839826841, '代銷即５００點ＭｙＣａｒｄ': 193475.55555555556, '代銷即９０元ＭｙＣａｒｄ': 18203.333333333332, '代銷即１０００ＭｙＣａｒｄ': 174154.45887445888, '台中停車補單': 30000.0, '代銷即３０００元ＭｙＣａｒｄ': 80650.0, '代銷即２０００點ＭｙＣａｒｄ': 145513.6507936508, '代銷即５０００元ＭｙＣａｒｄ': 120466.66666666666}\n",
      "core: 代銷即５００點ＭｙＣａｒｄ\n",
      "======================================\n",
      "weight: 43889.12397435891\n",
      "items: {'（串）抽取式衛生紙': 162859.24158896628, '商品預售免稅': 24948.061111111107, '１０００點特價優惠Ａ１': 194497.55876068343, '林鳳營全脂鮮乳９３６ｍｌ': 56586.37828282827}\n",
      "core: １０００點特價優惠Ａ１\n",
      "======================================\n",
      "weight: 38522.119047619046\n",
      "items: {'代銷即貝殼幣３５０點': 71982.0238095238, '代銷即貝殼幣１４０點': 108077.26190476191, '代銷即貝殼幣７００點': 120850.0, '代銷即貝殼幣１４００點': 84311.90476190476}\n",
      "core: 代銷即貝殼幣７００點\n",
      "======================================\n",
      "weight: 36536.763920468075\n",
      "items: {'光泉全脂鮮乳': 28936.637273149987, '蕃薯（２０元）': 138921.84056499053, '經典原味熱狗': 97212.90955714378, '全家熱狗麵包': 68523.73957518218, '特濃抹茶拿鐵': 27182.989569907208, '茶葉蛋（銷售用）': 193167.6341302919, '蕃薯（１５元）': 94299.80710570811, '蕃薯（２５元）': 63000.72323039026, '統一陽光無糖高纖豆漿': 19488.99740259742}\n",
      "core: 茶葉蛋（銷售用）\n",
      "======================================\n",
      "weight: 35659.17460317461\n",
      "items: {'ＥＺ寄件付': 106977.52380952382, 'ｅｚ店到店手續費': 106977.52380952382}\n",
      "core: \n",
      "======================================\n",
      "weight: 35633.550264550235\n",
      "items: {'戰禍邪神第１６章': 106900.6507936507, '戰禍邪神第１５章': 106900.6507936507}\n",
      "core: \n",
      "======================================\n",
      "weight: 35614.91005291002\n",
      "items: {'戰禍邪神第１８章': 106844.73015873005, '戰禍邪神第１７章': 106844.73015873005}\n",
      "core: \n",
      "======================================\n",
      "weight: 35470.86406186403\n",
      "items: {'戰禍邪神第１４章': 106412.59218559208, '戰禍邪神第１３章': 106412.59218559208}\n",
      "core: \n",
      "======================================\n",
      "weight: 34158.20634920634\n",
      "items: {'戰禍邪神第１１章': 102474.61904761901, '戰禍邪神第１２章': 102474.61904761901}\n",
      "core: \n",
      "======================================\n",
      "weight: 31593.150561404687\n",
      "items: {'麥香奶茶ＴＰ３００': 75677.0023182013, '（預）戽斗星球公仔磁鐵（藍色款）': 172569.3333333333, '雲絲頓藍７毫克香煙': 35500.96645021647, '大衛杜夫１０毫克香煙': 17391.847619047618, '尊爵Ｇ７': 19551.83333333333, '長壽白軟包香菸': 19362.980952380953, '麥香紅茶ＴＰ３００': 48095.19748414643, '金裝大衛杜夫７毫克香煙': 19239.5253968254, '峰硬盒香煙': 78760.69523809524, '安全裝置火石打火機': 94183.90825840831, '長壽黃硬盒香煙': 21703.619841269847, '雲絲頓紅１０毫克香煙': 37268.898989899, '戽斗星球公仔磁鐵（藍色款）': 19518.626190476185, '七星天藍７毫克硬盒': 77264.9179154179, '伯朗咖啡': 247417.11151626147, '純喫茶綠茶６５０ｍｌ': 24785.58766233765, '藍山咖啡': 25006.159928959893, '天然水': 93183.95952380952, '純喫茶紅茶６５０ｍｌ': 23040.45634920635, '茶裏王日式綠茶': 19883.669841269842, 'ＵＣＣ無糖咖啡飲料': 38700.0, '貝納頌經典拿鐵': 18362.664285714265, '七星１０毫克硬盒香煙': 290002.2645188145}\n",
      "core: 七星１０毫克硬盒香煙\n",
      "======================================\n",
      "weight: 31466.928571428576\n",
      "items: {'蝦皮寄件Ｆ': 19991.714285714286, '雅虎拍賣寄件': 105876.00000000001, '店到店雅虎拍賣手續費': 125867.7142857143}\n",
      "core: \n",
      "======================================\n",
      "weight: 27220.35042688793\n",
      "items: {'ＳＭＬ磁鐵夾': 27363.392424242407, '羊羔絨毛毯－爵士駝': 20190.450000000004, '羊羔絨毛毯－太空銀': 39824.8, 'ＳＭＬ暖暖枕Ｙ－ＭＯＮ款': 28423.509523809535, 'ＳＭＬ收納旅行袋': 43876.5888888889, '羊羔絨毛毯－拉菲酒紅': 35113.583333333336, '（預）ＳＭＬ暖暖枕Ｒ－ＭＯＮ款': 23425.938095238103, 'ＳＭＬ暖暖枕Ｒ－ＭＯＮ款': 27512.271428571443, 'ＳＭＬ保溫瓶': 48109.09999999998, '全店４００點加價購Ｂ': 326644.20512265514, '（預）ＳＭＬ暖暖枕Ｙ－ＭＯＮ款': 32804.571428571435}\n",
      "core: 全店４００點加價購Ｂ\n",
      "======================================\n",
      "weight: 26487.619963369958\n",
      "items: {'蝦皮寄件Ｗ': 27303.45421245419, '雅虎線上寄件': 78647.02564102564, '店到店雅虎拍賣線上手續費': 105950.47985347983}\n",
      "core: \n",
      "======================================\n",
      "weight: 21122.055901398544\n",
      "items: {'海尼根３３０ＭＬ６入促銷包': 20678.079653679655, '（新）４５號銷售用購物袋': 23393.75604118106, '金牌台灣啤酒５００ＭＬ': 25643.57146124408, '金牌台啤罐裝（６入）': 68744.91086413588, '金牌台灣啤酒': 31493.49077811077, '天然水２．２Ｌ': 19700.839540198343, '麒麟霸啤酒（小）６入裝': 20514.51195471195, '麒麟霸５００ＭＬ４入': 24445.154761904763, '（新）銷售用購物袋１８號袋': 187826.8029728044}\n",
      "core: （新）銷售用購物袋１８號袋\n",
      "======================================\n",
      "weight: 19662.7380952381\n",
      "items: {'代銷即１００點ＧＡＳＨ點數': 42147.38095238096, '代銷即遊ｅ卡５００點': 17240.0, '代銷即１５０點ＧＡＳＨ點數': 37595.00000000001, '代銷即遊ｅ卡５０點': 26248.57142857144, '代銷即遊ｅ卡１５０點': 59831.785714285725, '代銷即遊ｅ卡３００點': 92215.59523809524}\n",
      "core: 代銷即遊ｅ卡３００點\n",
      "======================================\n",
      "weight: 19131.561350686326\n",
      "items: {'湖池屋洋芋片海苔鹽口味': 57394.68405205898, '促銷券０３': 57394.68405205898}\n",
      "core: \n",
      "======================================\n",
      "weight: 18868.714285714286\n",
      "items: {'ｅｚ簡訊寄件手續費': 56606.14285714286, '簡訊寄件付': 56606.14285714286}\n",
      "core: \n",
      "======================================\n",
      "weight: 17622.57113275197\n",
      "items: {'雙效活靈芝滋補液': 23108.399999999998, '瑞士爽口糖': 27012.17486402488, '代收折價卷': 123357.99792926377, '偉特鮮奶油糖': 21372.83940445525, '小琉球手工麻花捲－綜合': 17898.777056277053, '高麗人蔘滋補液': 33965.80660450659}\n",
      "core: 代收折價卷\n",
      "======================================\n",
      "weight: 17289.847631323977\n",
      "items: {'伊藤園蘋果紅茶': 19660.480081030088, '促銷券０６': 69159.39052529591, '孔雀香酥脆－海苔': 49498.91044426582}\n",
      "core: \n",
      "======================================\n",
      "weight: 16247.039075630251\n",
      "items: {'辣味ＹＵＲＯＣＫ魚薯條無': 48741.117226890754, '原味ＹＵＲＯＣＫ魚薯條無': 48741.117226890754}\n",
      "core: \n",
      "======================================\n",
      "weight: 15048.253663003665\n",
      "items: {'代收手續費１５': 90289.52197802199, '中信外１５': 33083.847069597075, '雅虎拍賣繳費': 21319.405511155514, '玉山淘寶款': 17922.928571428572, '合庫代１５': 17963.340825840827}\n",
      "core: 代收手續費１５\n",
      "======================================\n",
      "weight: 14908.059482421106\n",
      "items: {'巧克力（三粒裝）': 44724.178447263315, '金莎聖誕暖心杯套組': 44724.178447263315}\n",
      "core: \n",
      "======================================\n",
      "weight: 12707.714285714284\n",
      "items: {'高鐵手續費': 38123.142857142855, '高鐵取票': 38123.142857142855}\n",
      "core: \n",
      "======================================\n",
      "weight: 12567.561660561665\n",
      "items: {'商城線上寄件': 37702.68498168499, '店到店雅虎超級商城線上印單': 37702.68498168499}\n",
      "core: \n",
      "======================================\n",
      "weight: 12496.859018759007\n",
      "items: {'台鐵取票': 37490.57705627702, '台鐵手續費': 37490.57705627702}\n",
      "core: \n",
      "======================================\n",
      "weight: 12284.371091871071\n",
      "items: {'寶物交易代': 36853.113275613214, '代收手續費２５': 36853.113275613214}\n",
      "core: \n",
      "======================================\n",
      "weight: 11850.0\n",
      "items: {'代銷－證件快照－２００元': 35550.0, '代銷－證件快照－１５０元': 35550.0}\n",
      "core: \n",
      "======================================\n",
      "weight: 11444.57746175392\n",
      "items: {'義美錫蘭紅茶': 45778.30984701567, '義美奶茶': 21295.45699920994, '義美全脂鮮乳２３６ｍｌ': 24482.852847805727}\n",
      "core: \n",
      "======================================\n",
      "weight: 11296.031746031746\n",
      "items: {'代銷即５００點ＧＡＳＨ點數': 33888.09523809524, '代銷即１０００點ＧＡＳＨ點數': 33888.09523809524}\n",
      "core: \n",
      "======================================\n",
      "weight: 11040.266666666668\n",
      "items: {'（預）Ｎ３１６不鏽鋼炒鍋': 22884.733333333334, '（預）Ｎ不鏽鋼刀具七件組': 21276.333333333336, '全店１０００點加價購': 44161.066666666666}\n",
      "core: \n",
      "======================================\n",
      "weight: 11034.84927849928\n",
      "items: {'鮪魚飯糰': 44139.397113997125, '林鳳營全脂鮮乳': 24906.909523809532, '光泉鮮豆漿': 19232.48759018759}\n",
      "core: \n",
      "======================================\n",
      "weight: 9803.270018870006\n",
      "items: {'立頓英式奶茶': 29409.81005661002, '立頓萃香奶綠': 29409.81005661002}\n",
      "core: \n",
      "======================================\n",
      "weight: 9292.407407407407\n",
      "items: {'代銷即ＭｙＣａｒｄ１５０': 27877.22222222222, '代銷即５０點ＭｙＣａｒｄ': 27877.22222222222}\n",
      "core: \n",
      "======================================\n",
      "weight: 9253.243201243198\n",
      "items: {'自由時報': 27759.729603729596, '蘋果日報': 27759.729603729596}\n",
      "core: \n",
      "======================================\n",
      "weight: 9220.0\n",
      "items: {'代銷即ＬＩＮＥ１３８０元指定卡': 27660.0, '代銷即ＬＩＮＥ７２０元指定卡': 27660.0}\n",
      "core: \n",
      "======================================\n",
      "weight: 9156.429655529651\n",
      "items: {'花生湯圓': 27469.288966588952, '芝麻湯圓': 27469.288966588952}\n",
      "core: \n",
      "======================================\n",
      "weight: 8668.551897938667\n",
      "items: {'Ｄｒ．Ｑ荔枝蒟蒻': 26005.655693816003, 'Ｄｒ．Ｑ葡萄蒟蒻': 26005.655693816003}\n",
      "core: \n",
      "======================================\n",
      "weight: 7181.20714285714\n",
      "items: {'女黑Ｍ無重力發熱衣': 21543.62142857142, '促銷券０４': 21543.62142857142}\n",
      "core: \n",
      "======================================\n",
      "weight: 7110.110317460326\n",
      "items: {'熱美式中杯－票券優惠專用': 21330.330952380977, '票券優惠條碼１': 21330.330952380977}\n",
      "core: \n",
      "======================================\n",
      "weight: 6401.555555555555\n",
      "items: {'金色三麥蜂蜜精釀啤酒': 19204.666666666664, '金色三麥黑麥精釀啤酒': 19204.666666666664}\n",
      "core: \n",
      "======================================\n",
      "weight: 6043.569191919192\n",
      "items: {'黑Ｍ立體剪裁羽絨外套': 18130.707575757577, '黑Ｌ立體剪裁羽絨外套': 18130.707575757577}\n",
      "core: \n",
      "======================================\n"
     ]
    }
   ],
   "source": [
    "for community in communities:\n",
    "    print('weight:', community['weight'])\n",
    "    print('items:', community['items'])\n",
    "    print('core:', community['core'])\n",
    "    print('======================================')"
   ]
  },
  {
   "cell_type": "markdown",
   "metadata": {},
   "source": [
    "# 更新Vertex的attribute(Community)"
   ]
  },
  {
   "cell_type": "code",
   "execution_count": 15,
   "metadata": {},
   "outputs": [],
   "source": [
    "data = product_network.to_json()"
   ]
  },
  {
   "cell_type": "code",
   "execution_count": 346,
   "metadata": {},
   "outputs": [],
   "source": [
    "with open('D:\\MIS_Project\\product-netowork-demo\\src\\default.json', 'w', encoding='utf-8') as file:\n",
    "    file.write(data)"
   ]
  },
  {
   "cell_type": "markdown",
   "metadata": {},
   "source": [
    "# 原始degree"
   ]
  },
  {
   "cell_type": "code",
   "execution_count": 137,
   "metadata": {},
   "outputs": [
    {
     "name": "stdout",
     "output_type": "stream",
     "text": [
      "815.9952000002377\n"
     ]
    }
   ],
   "source": [
    "product_network = converter.convert(method='degree', support=0.0002)"
   ]
  },
  {
   "cell_type": "code",
   "execution_count": 138,
   "metadata": {
    "scrolled": true
   },
   "outputs": [
    {
     "name": "stdout",
     "output_type": "stream",
     "text": [
      "Node number: 117\n",
      "Edge number: 156\n"
     ]
    }
   ],
   "source": [
    "print('Node number: {}\\nEdge number: {}'.format(len(product_network.graph.vs), len(product_network.graph.es)))"
   ]
  },
  {
   "cell_type": "markdown",
   "metadata": {},
   "source": [
    "# 排序Community"
   ]
  },
  {
   "cell_type": "code",
   "execution_count": 139,
   "metadata": {},
   "outputs": [
    {
     "name": "stdout",
     "output_type": "stream",
     "text": [
      "4245.789473684211\n",
      "筊白筍 千層玉子燒 關東煮本舖拉麵 日式烤竹輪 日式黑輪 特級花枝丸 白玉蘿蔔 黃金魚豆腐 讚岐烏龍麵 黃金厚切魚板 旗魚黑輪 貢丸 手工高麗菜捲 關東煮本舖冬粉 蟹肉糰子 鮮香菇 海鮮魚卵棒 究極味付蛋\n",
      "==============\n",
      "2234.235294117647\n",
      "健保費代收 中信有線代 國泰世華卡 台中二段停 台灣自來水 欣中天然氣 遠傳電信 台新信用卡 台灣電力 花旗信用卡 國民年金代 台灣大哥大 玉山信用卡 勞保費代收 代收手續費４ 中華電信\n",
      "==============\n",
      "1896.0\n",
      "店到店ＦＰ手續費 ＦＰ店到店\n",
      "==============\n",
      "1472.25\n",
      "麥香奶茶ＴＰ３００ 光泉全脂鮮乳 鮪魚飯糰 蕃薯（２０元） 熱美式中杯 經典原味熱狗 全家熱狗麵包 特濃抹茶拿鐵 義美奶茶 麥香紅茶ＴＰ３００ 茶葉蛋（銷售用） 蕃薯（１５元） 麥香綠茶ＴＰ３００ 大口法香烤雞飯糰 蕃薯（２５元） 伯朗咖啡 藍山咖啡 天然水２．２Ｌ 七星１０毫克硬盒香煙 熱拿鐵中杯 鹼性離子水 （新）銷售用購物袋１８號袋 統一陽光無糖高纖豆漿\n",
      "==============\n",
      "1351.1666666666667\n",
      "代收手續費１５ 中信外１５ 雅虎拍賣繳費 玉山淘寶款 合庫代１５\n",
      "==============\n",
      "1278.8\n",
      "蝦皮寄件Ｆ 商店街寄件Ｆ 雅虎拍賣寄件 店到店雅虎拍賣手續費\n",
      "==============\n",
      "1234.3333333333333\n",
      "商店街寄件Ｗ 蝦皮寄件Ｗ 露天寄件Ｗ 雅虎線上寄件 店到店雅虎拍賣線上手續費\n",
      "==============\n",
      "1178.6666666666667\n",
      "台鐵取票 台鐵手續費\n",
      "==============\n",
      "1163.3333333333333\n",
      "紅標料理米酒 空瓶回收（銷售用）\n",
      "==============\n",
      "972.25\n",
      "代收手續費５ 通行繳費 ｅＴａｇ繳費\n",
      "==============\n",
      "929.3333333333334\n",
      "高鐵手續費 高鐵取票\n",
      "==============\n",
      "791.6666666666666\n",
      "瑞士爽口糖 綜合水果糖珠 代收折價卷 偉特鮮奶油糖 奶香綠茶３３０ＭＬ\n",
      "==============\n",
      "669.75\n",
      "（串）抽取式衛生紙 １０００點特價優惠Ａ１ 林鳳營全脂鮮乳９３６ｍｌ\n",
      "==============\n",
      "641.0\n",
      "寶物交易代 代收手續費２５\n",
      "==============\n",
      "623.0\n",
      "蝦皮取件Ｃ 商店街取件\n",
      "==============\n",
      "619.75\n",
      "聯合報 自由時報 蘋果日報\n",
      "==============\n",
      "593.6\n",
      "熱美式大杯 商品預售應稅 熱拿鐵大杯 冰拿鐵大杯\n",
      "==============\n",
      "474.3333333333333\n",
      "代收手續費６ 台中裁罰單\n",
      "==============\n",
      "463.0\n",
      "促銷券０６ 孔雀香酥脆－海苔\n",
      "==============\n",
      "459.6666666666667\n",
      "湖池屋洋芋片海苔鹽口味 促銷券０３\n",
      "==============\n",
      "442.3333333333333\n",
      "立頓英式奶茶 立頓萃香奶綠\n",
      "==============\n",
      "361.3333333333333\n",
      "ＢｏｎＯＢｏｎ巧克力 ＢｏｎＯＢｏｎ巧酥夾心巧克力\n",
      "==============\n",
      "302.0\n",
      "義美錫蘭紅茶 義美全脂鮮乳２３６ｍｌ\n",
      "==============\n",
      "282.6666666666667\n",
      "辣味ＹＵＲＯＣＫ魚薯條無 原味ＹＵＲＯＣＫ魚薯條無\n",
      "==============\n",
      "272.6666666666667\n",
      "遠銀一般代Ｚ 代收手續費１０\n",
      "==============\n"
     ]
    }
   ],
   "source": [
    "communities = product_network.get_communities()\n",
    "for community in communities:\n",
    "    print(community['weight'])\n",
    "    print(' '.join(community['items']))\n",
    "    print('==============')"
   ]
  },
  {
   "cell_type": "code",
   "execution_count": 140,
   "metadata": {
    "scrolled": false
   },
   "outputs": [
    {
     "name": "stdout",
     "output_type": "stream",
     "text": [
      "weight: 4245.789473684211\n",
      "items: {'筊白筍': 1959, '千層玉子燒': 9125, '關東煮本舖拉麵': 19253, '日式烤竹輪': 1785, '日式黑輪': 14778, '特級花枝丸': 13174, '白玉蘿蔔': 18113, '黃金魚豆腐': 15541, '讚岐烏龍麵': 8357, '黃金厚切魚板': 6494, '旗魚黑輪': 4828, '貢丸': 10308, '手工高麗菜捲': 9577, '關東煮本舖冬粉': 856, '蟹肉糰子': 6286, '鮮香菇': 819, '海鮮魚卵棒': 18021, '究極味付蛋': 2066}\n",
      "core: 關東煮本舖拉麵\n",
      "======================================\n",
      "weight: 2234.235294117647\n",
      "items: {'健保費代收': 4614, '中信有線代': 891, '國泰世華卡': 1831, '台中二段停': 929, '台灣自來水': 9625, '欣中天然氣': 896, '遠傳電信': 1332, '台新信用卡': 5513, '台灣電力': 5758, '花旗信用卡': 951, '國民年金代': 7737, '台灣大哥大': 1729, '玉山信用卡': 2065, '勞保費代收': 823, '代收手續費４': 13994, '中華電信': 17276}\n",
      "core: 中華電信\n",
      "======================================\n",
      "weight: 1896.0\n",
      "items: {'店到店ＦＰ手續費': 5688, 'ＦＰ店到店': 5688}\n",
      "core: \n",
      "======================================\n",
      "weight: 1472.25\n",
      "items: {'麥香奶茶ＴＰ３００': 3212, '光泉全脂鮮乳': 1207, '鮪魚飯糰': 915, '蕃薯（２０元）': 6541, '熱美式中杯': 1163, '經典原味熱狗': 5501, '全家熱狗麵包': 3789, '特濃抹茶拿鐵': 1305, '義美奶茶': 1101, '麥香紅茶ＴＰ３００': 4081, '茶葉蛋（銷售用）': 14229, '蕃薯（１５元）': 4479, '麥香綠茶ＴＰ３００': 849, '大口法香烤雞飯糰': 831, '蕃薯（２５元）': 2822, '伯朗咖啡': 1807, '藍山咖啡': 885, '天然水２．２Ｌ': 978, '七星１０毫克硬盒香煙': 829, '熱拿鐵中杯': 2847, '鹼性離子水': 1080, '（新）銷售用購物袋１８號袋': 9295, '統一陽光無糖高纖豆漿': 922}\n",
      "core: 茶葉蛋（銷售用）\n",
      "======================================\n",
      "weight: 1351.1666666666667\n",
      "items: {'代收手續費１５': 8107, '中信外１５': 3290, '雅虎拍賣繳費': 1598, '玉山淘寶款': 1316, '合庫代１５': 1903}\n",
      "core: 代收手續費１５\n",
      "======================================\n",
      "weight: 1278.8\n",
      "items: {'蝦皮寄件Ｆ': 4002, '商店街寄件Ｆ': 2133, '雅虎拍賣寄件': 3328, '店到店雅虎拍賣手續費': 3325}\n",
      "core: 蝦皮寄件Ｆ\n",
      "======================================\n",
      "weight: 1234.3333333333333\n",
      "items: {'商店街寄件Ｗ': 1701, '蝦皮寄件Ｗ': 5276, '露天寄件Ｗ': 940, '雅虎線上寄件': 3449, '店到店雅虎拍賣線上手續費': 3446}\n",
      "core: 蝦皮寄件Ｗ\n",
      "======================================\n",
      "weight: 1178.6666666666667\n",
      "items: {'台鐵取票': 3536, '台鐵手續費': 3536}\n",
      "core: \n",
      "======================================\n",
      "weight: 1163.3333333333333\n",
      "items: {'紅標料理米酒': 3490, '空瓶回收（銷售用）': 3490}\n",
      "core: \n",
      "======================================\n",
      "weight: 972.25\n",
      "items: {'代收手續費５': 3889, '通行繳費': 2477, 'ｅＴａｇ繳費': 1412}\n",
      "core: \n",
      "======================================\n",
      "weight: 929.3333333333334\n",
      "items: {'高鐵手續費': 2788, '高鐵取票': 2788}\n",
      "core: \n",
      "======================================\n",
      "weight: 791.6666666666666\n",
      "items: {'瑞士爽口糖': 1172, '綜合水果糖珠': 1512, '代收折價卷': 4750, '偉特鮮奶油糖': 1163, '奶香綠茶３３０ＭＬ': 903}\n",
      "core: 代收折價卷\n",
      "======================================\n",
      "weight: 669.75\n",
      "items: {'（串）抽取式衛生紙': 1785, '１０００點特價優惠Ａ１': 2679, '林鳳營全脂鮮乳９３６ｍｌ': 894}\n",
      "core: \n",
      "======================================\n",
      "weight: 641.0\n",
      "items: {'寶物交易代': 1923, '代收手續費２５': 1923}\n",
      "core: \n",
      "======================================\n",
      "weight: 623.0\n",
      "items: {'蝦皮取件Ｃ': 1869, '商店街取件': 1869}\n",
      "core: \n",
      "======================================\n",
      "weight: 619.75\n",
      "items: {'聯合報': 914, '自由時報': 1565, '蘋果日報': 2479}\n",
      "core: \n",
      "======================================\n",
      "weight: 593.6\n",
      "items: {'熱美式大杯': 1172, '商品預售應稅': 842, '熱拿鐵大杯': 2968, '冰拿鐵大杯': 954}\n",
      "core: 熱拿鐵大杯\n",
      "======================================\n",
      "weight: 474.3333333333333\n",
      "items: {'代收手續費６': 1423, '台中裁罰單': 1423}\n",
      "core: \n",
      "======================================\n",
      "weight: 463.0\n",
      "items: {'促銷券０６': 1389, '孔雀香酥脆－海苔': 1389}\n",
      "core: \n",
      "======================================\n",
      "weight: 459.6666666666667\n",
      "items: {'湖池屋洋芋片海苔鹽口味': 1379, '促銷券０３': 1379}\n",
      "core: \n",
      "======================================\n",
      "weight: 442.3333333333333\n",
      "items: {'立頓英式奶茶': 1327, '立頓萃香奶綠': 1327}\n",
      "core: \n",
      "======================================\n",
      "weight: 361.3333333333333\n",
      "items: {'ＢｏｎＯＢｏｎ巧克力': 1084, 'ＢｏｎＯＢｏｎ巧酥夾心巧克力': 1084}\n",
      "core: \n",
      "======================================\n",
      "weight: 302.0\n",
      "items: {'義美錫蘭紅茶': 906, '義美全脂鮮乳２３６ｍｌ': 906}\n",
      "core: \n",
      "======================================\n",
      "weight: 282.6666666666667\n",
      "items: {'辣味ＹＵＲＯＣＫ魚薯條無': 848, '原味ＹＵＲＯＣＫ魚薯條無': 848}\n",
      "core: \n",
      "======================================\n",
      "weight: 272.6666666666667\n",
      "items: {'遠銀一般代Ｚ': 818, '代收手續費１０': 818}\n",
      "core: \n",
      "======================================\n"
     ]
    }
   ],
   "source": [
    "for community in communities:\n",
    "    print('weight:', community['weight'])\n",
    "    print('items:', community['items'])\n",
    "    print('core:', community['core'])\n",
    "    print('======================================')"
   ]
  },
  {
   "cell_type": "markdown",
   "metadata": {},
   "source": [
    "# 更新Vertex的attribute(Community)"
   ]
  },
  {
   "cell_type": "code",
   "execution_count": 45,
   "metadata": {},
   "outputs": [],
   "source": [
    "data = product_network.to_json()"
   ]
  },
  {
   "cell_type": "code",
   "execution_count": 46,
   "metadata": {},
   "outputs": [],
   "source": [
    "with open('D:\\MIS_Project\\product-netowork-demo\\src\\default_original.json', 'w', encoding='utf-8') as file:\n",
    "    file.write(data)"
   ]
  },
  {
   "cell_type": "markdown",
   "metadata": {},
   "source": [
    "# 調整後degree"
   ]
  },
  {
   "cell_type": "code",
   "execution_count": 141,
   "metadata": {},
   "outputs": [
    {
     "name": "stdout",
     "output_type": "stream",
     "text": [
      "244.42370587426086\n"
     ]
    }
   ],
   "source": [
    "product_network = converter.convert(method='adjusted-degree', support=0.0002)"
   ]
  },
  {
   "cell_type": "code",
   "execution_count": 142,
   "metadata": {
    "scrolled": true
   },
   "outputs": [
    {
     "name": "stdout",
     "output_type": "stream",
     "text": [
      "Node number: 175\n",
      "Edge number: 156\n"
     ]
    }
   ],
   "source": [
    "print('Node number: {}\\nEdge number: {}'.format(len(product_network.graph.vs), len(product_network.graph.es)))"
   ]
  },
  {
   "cell_type": "markdown",
   "metadata": {},
   "source": [
    "# 排序Community"
   ]
  },
  {
   "cell_type": "code",
   "execution_count": 143,
   "metadata": {
    "scrolled": false
   },
   "outputs": [
    {
     "name": "stdout",
     "output_type": "stream",
     "text": [
      "1205.2396284271342\n",
      "店到店ＦＰ手續費 ＦＰ線上寄 ＦＰ店到店\n",
      "==============\n",
      "998.1706182706212\n",
      "紅標料理米酒 空瓶回收（銷售用）\n",
      "==============\n",
      "974.9518653568514\n",
      "健保費代收 國民年金代 勞保費代收 代收手續費４\n",
      "==============\n",
      "962.2933621933615\n",
      "台鐵取票 台鐵手續費\n",
      "==============\n",
      "886.3048109298105\n",
      "中信有線代 國泰世華卡 台中二段停 台灣自來水 台灣星電信 欣中天然氣 遠傳電信 台新信用卡 台灣電力 花旗信用卡 台灣大哥大 玉山信用卡 中華電信 聯邦信用卡\n",
      "==============\n",
      "826.8563634777903\n",
      "代收手續費１５ 中信外１５ 雅虎拍賣繳費 跨國購物款 玉山淘寶款 合庫代１５\n",
      "==============\n",
      "755.7634920634899\n",
      "高鐵手續費 高鐵取票\n",
      "==============\n",
      "610.8130177012534\n",
      "大口ＢＢＱ牛肉起司堡飯糰 熱美式中杯 鮮奶茶 熱美式大杯 特濃黑可可 商品預售應稅 大口法香烤雞飯糰 熱拿鐵大杯 冰拿鐵大杯 大口奶油蕈菇起司雞排飯糰 熱拿鐵中杯\n",
      "==============\n",
      "579.9436507936505\n",
      "蝦皮寄件Ｆ 商店街寄件Ｆ\n",
      "==============\n",
      "564.1569160943944\n",
      "義美古早傳統無糖豆奶 光泉全脂鮮乳 光泉紫色水果優酪乳 光泉低脂鮮乳 蕃薯（３０元） 蕃薯（２０元） 經典原味熱狗 全家熱狗麵包 特濃抹茶拿鐵 茶葉蛋（銷售用） 蕃薯（１５元） 爆濃起司熱狗 １０００點免費換Ａ 頂級鮮奶優格－莓果穀物脆片 蕃薯（２５元） 天然水２．２Ｌ 鹼性離子水 （新）銷售用購物袋１８號袋 天然水（全店兌換） 統一陽光無糖高纖豆漿\n",
      "==============\n",
      "559.6001082251078\n",
      "代收手續費５ 通行繳費 ｅＴａｇ繳費\n",
      "==============\n",
      "458.96031746031554\n",
      "雅虎拍賣寄件 店到店雅虎拍賣手續費\n",
      "==============\n",
      "453.47171273171296\n",
      "聯合報 自由時報 中國時報 蘋果日報\n",
      "==============\n",
      "435.82041847041756\n",
      "寶物交易代 虛擬繳費代１ 代收手續費２５\n",
      "==============\n",
      "416.63803904428977\n",
      "（串）抽取式衛生紙 １０００點特價優惠Ａ１ 林鳳營全脂鮮乳９３６ｍｌ\n",
      "==============\n",
      "401.9440682628112\n",
      "瑞士爽口糖 綜合水果糖珠 代收折價卷 偉特鮮奶油糖 小琉球手工麻花捲－綜合 奶香綠茶３３０ＭＬ\n",
      "==============\n",
      "388.75359673006716\n",
      "蝦皮取件Ｃ 商店街取件 九易購物 ＥＣ代收一 ＦＰ取件\n",
      "==============\n",
      "380.2054123357744\n",
      "麥香奶茶ＴＰ３００ 麥香紅茶ＴＰ３００ 麥香綠茶ＴＰ３００\n",
      "==============\n",
      "340.83459873460004\n",
      "商店街寄件Ｗ 蝦皮寄件Ｗ 露天寄件Ｗ\n",
      "==============\n",
      "293.9321001221001\n",
      "鮪魚飯糰 咖啡拿鐵 肉鬆飯糰 林鳳營全脂鮮乳 重黑巧克力蛋糕 光泉薏仁糙米漿 熱美式小杯 雪花蛋糕 光泉鮮豆漿\n",
      "==============\n",
      "285.02938127693636\n",
      "伊藤園蘋果紅茶 促銷券０６ 孔雀香酥脆－海苔\n",
      "==============\n",
      "273.7106476856485\n",
      "代收手續費６ 台銀學雜費 台中裁罰單\n",
      "==============\n",
      "256.8848262848288\n",
      "雅虎線上寄件 店到店雅虎拍賣線上手續費\n",
      "==============\n",
      "255.25754893255007\n",
      "湖池屋洋芋片海苔鹽口味 促銷券０３\n",
      "==============\n",
      "230.51065971066058\n",
      "立頓英式奶茶 立頓萃香奶綠\n",
      "==============\n",
      "223.31391853357337\n",
      "義美錫蘭紅茶 義美奶茶 義美全脂鮮乳２３６ｍｌ ＣＯＵＰＯＮ優惠\n",
      "==============\n",
      "210.36495393495375\n",
      "安全裝置火石打火機 伯朗咖啡 藍山咖啡 七星１０毫克硬盒香煙\n",
      "==============\n",
      "192.3635031635034\n",
      "ＢｏｎＯＢｏｎ巧克力 ＢｏｎＯＢｏｎ巧酥夾心巧克力\n",
      "==============\n",
      "182.86727716727717\n",
      "交通罰鍰代收即銷手續費 台中裁即銷罰\n",
      "==============\n",
      "176.71051587301585\n",
      "統聯客運取票 統聯客運手續費 統聯客運購票\n",
      "==============\n",
      "171.6314574314574\n",
      "遠銀一般代Ｚ 代收手續費１０\n",
      "==============\n",
      "164.03571428571416\n",
      "熱美式中杯－票券優惠專用 票券優惠條碼１\n",
      "==============\n",
      "158.6756447256446\n",
      "戰禍邪神第１４章 戰禍邪神第１３章\n",
      "==============\n",
      "154.73039923039912\n",
      "戰禍邪神第１８章 戰禍邪神第１７章\n",
      "==============\n",
      "154.5706830206829\n",
      "戰禍邪神第１６章 戰禍邪神第１５章\n",
      "==============\n",
      "152.59790764790756\n",
      "戰禍邪神第１１章 戰禍邪神第１２章\n",
      "==============\n",
      "146.10674390968506\n",
      "辣味ＹＵＲＯＣＫ魚薯條無 原味ＹＵＲＯＣＫ魚薯條無\n",
      "==============\n",
      "134.05477047107468\n",
      "蘋果冰茶 葡萄冰茶 芒果冰茶\n",
      "==============\n",
      "109.89365079365076\n",
      "國光購票 國光客運手續費\n",
      "==============\n",
      "107.11851851851857\n",
      "ＥＺ寄件付 ｅｚ店到店手續費\n",
      "==============\n",
      "100.80853035853029\n",
      "花生湯圓 芝麻湯圓\n",
      "==============\n",
      "99.07865923912436\n",
      "巧克力（三粒裝） 金莎聖誕暖心杯套組\n",
      "==============\n",
      "96.77564380064224\n",
      "日式黑輪 海鮮魚卵棒\n",
      "==============\n",
      "94.58297443297425\n",
      "商城線上寄件 店到店雅虎超級商城線上印單\n",
      "==============\n",
      "91.85538720538712\n",
      "立頓奶茶ＴＰ３３０ 立頓巧克力奶茶ＴＰ３３０\n",
      "==============\n",
      "90.21767676767662\n",
      "健達白繽紛樂巧克力 繽紛樂巧克力\n",
      "==============\n",
      "88.1462392352496\n",
      "雪碧汽水 可口可樂ＰＥＴ\n",
      "==============\n",
      "86.53917748917753\n",
      "ＳＭＬ磁鐵夾 全店４００點加價購Ｂ\n",
      "==============\n",
      "84.50799385799382\n",
      "脆皮巧克力醬 聖代專用霜淇淋\n",
      "==============\n",
      "81.4814821344231\n",
      "１０００點特價優惠Ａ 樂事經典原味洋芋片６４ｇ\n",
      "==============\n"
     ]
    }
   ],
   "source": [
    "communities = product_network.get_communities()\n",
    "for community in communities:\n",
    "    print(community['weight'])\n",
    "    print(' '.join(community['items']))\n",
    "    print('==============')"
   ]
  },
  {
   "cell_type": "code",
   "execution_count": 144,
   "metadata": {},
   "outputs": [
    {
     "name": "stdout",
     "output_type": "stream",
     "text": [
      "weight: 1205.2396284271342\n",
      "items: {'店到店ＦＰ手續費': 4820.958513708537, 'ＦＰ線上寄': 280.83809523809555, 'ＦＰ店到店': 4540.120418470441}\n",
      "core: \n",
      "======================================\n",
      "weight: 998.1706182706212\n",
      "items: {'紅標料理米酒': 2994.5118548118635, '空瓶回收（銷售用）': 2994.5118548118635}\n",
      "core: \n",
      "======================================\n",
      "weight: 974.9518653568514\n",
      "items: {'健保費代收': 2168.1841186590887, '國民年金代': 2459.574653124614, '勞保費代收': 247.0005550005537, '代收手續費４': 4874.759326784257}\n",
      "core: 代收手續費４\n",
      "======================================\n",
      "weight: 962.2933621933615\n",
      "items: {'台鐵取票': 2886.8800865800845, '台鐵手續費': 2886.8800865800845}\n",
      "core: \n",
      "======================================\n",
      "weight: 886.3048109298105\n",
      "items: {'中信有線代': 403.30310245310216, '國泰世華卡': 841.3018759018757, '台中二段停': 697.5666222666214, '台灣自來水': 3633.4574869574762, '台灣星電信': 316.3887445887444, '欣中天然氣': 657.5012265512256, '遠傳電信': 855.8536796536807, '台新信用卡': 4023.8516872016894, '台灣電力': 2996.4548174048095, '花旗信用卡': 796.7546675546669, '台灣大哥大': 1336.9246586746629, '玉山信用卡': 1209.2967532467535, '中華電信': 7864.39723054724, '聯邦信用卡': 956.0917748917735}\n",
      "core: 中華電信\n",
      "======================================\n",
      "weight: 826.8563634777903\n",
      "items: {'代收手續費１５': 5787.994544344532, '中信外１５': 2050.9857642357456, '雅虎拍賣繳費': 1270.0270340770335, '跨國購物款': 272.5420634920636, '玉山淘寶款': 1077.7642857142873, '合庫代１５': 1116.6753968254013}\n",
      "core: 代收手續費１５\n",
      "======================================\n",
      "weight: 755.7634920634899\n",
      "items: {'高鐵手續費': 2267.2904761904697, '高鐵取票': 2267.2904761904697}\n",
      "core: \n",
      "======================================\n",
      "weight: 610.8130177012534\n",
      "items: {'大口ＢＢＱ牛肉起司堡飯糰': 570.3595238095238, '熱美式中杯': 1165.396969696972, '鮮奶茶': 1365.032228882229, '熱美式大杯': 1117.0959734709754, '特濃黑可可': 568.1983405483402, '商品預售應稅': 1833.6292429792434, '大口法香烤雞飯糰': 1436.6907647907656, '熱拿鐵大杯': 2086.3169849758124, '冰拿鐵大杯': 621.6662995501238, '大口奶油蕈菇起司雞排飯糰': 1217.7817238317232, '熱拿鐵中杯': 2677.344372294375}\n",
      "core: 熱拿鐵中杯\n",
      "======================================\n",
      "weight: 579.9436507936505\n",
      "items: {'蝦皮寄件Ｆ': 1739.8309523809514, '商店街寄件Ｆ': 1739.8309523809514}\n",
      "core: \n",
      "======================================\n",
      "weight: 564.1569160943944\n",
      "items: {'義美古早傳統無糖豆奶': 305.65151515151507, '光泉全脂鮮乳': 677.1725550163652, '光泉紫色水果優酪乳': 345.9095959595958, '光泉低脂鮮乳': 326.83852617970285, '蕃薯（３０元）': 323.08027332144934, '蕃薯（２０元）': 3200.8507710916415, '經典原味熱狗': 2057.9736766501346, '全家熱狗麵包': 1778.5069840719864, '特濃抹茶拿鐵': 680.0838098176356, '茶葉蛋（銷售用）': 6828.218116074301, '蕃薯（１５元）': 2178.9617632590757, '爆濃起司熱狗': 268.6334092807778, '１０００點免費換Ａ': 603.7693584193585, '頂級鮮奶優格－莓果穀物脆片': 304.49208129035713, '蕃薯（２５元）': 1358.894696175864, '天然水２．２Ｌ': 401.52642716760346, '鹼性離子水': 287.5316461316444, '（新）銷售用購物袋１８號袋': 940.9605667208526, '天然水（全店兌換）': 272.5363636363632, '統一陽光無糖高纖豆漿': 552.9983405483403}\n",
      "core: 茶葉蛋（銷售用）\n",
      "======================================\n",
      "weight: 559.6001082251078\n",
      "items: {'代收手續費５': 2238.400432900431, '通行繳費': 1442.605389055383, 'ｅＴａｇ繳費': 795.7950438450479}\n",
      "core: \n",
      "======================================\n",
      "weight: 458.96031746031554\n",
      "items: {'雅虎拍賣寄件': 1376.8809523809466, '店到店雅虎拍賣手續費': 1376.8809523809466}\n",
      "core: \n",
      "======================================\n",
      "weight: 453.47171273171296\n",
      "items: {'聯合報': 1170.3641414141405, '自由時報': 1474.5584915084933, '中國時報': 254.6437229437228, '蘋果日報': 1635.150771450773}\n",
      "core: 蘋果日報\n",
      "======================================\n",
      "weight: 435.82041847041756\n",
      "items: {'寶物交易代': 1422.853102453099, '虛擬繳費代１': 320.42857142857144, '代收手續費２５': 1743.2816738816705}\n",
      "core: \n",
      "======================================\n",
      "weight: 416.63803904428977\n",
      "items: {'（串）抽取式衛生紙': 1173.9399850149875, '１０００點特價優惠Ａ１': 1666.5521561771588, '林鳳營全脂鮮乳９３６ｍｌ': 492.6121711621713}\n",
      "core: \n",
      "======================================\n",
      "weight: 401.9440682628112\n",
      "items: {'瑞士爽口糖': 646.8833832833856, '綜合水果糖珠': 696.0320560158852, '代收折價卷': 2813.608477839679, '偉特鮮奶油糖': 556.994237341607, '小琉球手工麻花捲－綜合': 335.9935786435784, '奶香綠茶３３０ＭＬ': 577.7052225552225}\n",
      "core: 代收折價卷\n",
      "======================================\n",
      "weight: 388.75359673006716\n",
      "items: {'蝦皮取件Ｃ': 2332.521580380403, '商店街取件': 1413.4383616383607, '九易購物': 272.7314935064936, 'ＥＣ代收一': 342.2063492063492, 'ＦＰ取件': 304.14537602919944}\n",
      "core: 蝦皮取件Ｃ\n",
      "======================================\n",
      "weight: 380.2054123357744\n",
      "items: {'麥香奶茶ＴＰ３００': 1214.948194203467, '麥香紅茶ＴＰ３００': 1246.531824462097, '麥香綠茶ＴＰ３００': 580.1632800206312}\n",
      "core: \n",
      "======================================\n",
      "weight: 340.83459873460004\n",
      "items: {'商店街寄件Ｗ': 1031.3592407592457, '蝦皮寄件Ｗ': 1363.3383949384001, '露天寄件Ｗ': 331.9791541791545}\n",
      "core: \n",
      "======================================\n",
      "weight: 293.9321001221001\n",
      "items: {'鮪魚飯糰': 1875.4366078366074, '咖啡拿鐵': 892.1026695526696, '肉鬆飯糰': 496.38821733821726, '林鳳營全脂鮮乳': 737.7184981684982, '重黑巧克力蛋糕': 264.7088023088024, '光泉薏仁糙米漿': 251.97626262626258, '熱美式小杯': 331.2689033189033, '雪花蛋糕': 302.7873737373737, '光泉鮮豆漿': 726.2546675546672}\n",
      "core: 鮪魚飯糰\n",
      "======================================\n",
      "weight: 285.02938127693636\n",
      "items: {'伊藤園蘋果紅茶': 286.7402819402819, '促銷券０６': 1140.1175251077455, '孔雀香酥脆－海苔': 853.3772431674636}\n",
      "core: \n",
      "======================================\n",
      "weight: 273.7106476856485\n",
      "items: {'代收手續費６': 1094.842590742594, '台銀學雜費': 328.64206349206324, '台中裁罰單': 766.2005272505306}\n",
      "core: \n",
      "======================================\n",
      "weight: 256.8848262848288\n",
      "items: {'雅虎線上寄件': 770.6544788544865, '店到店雅虎拍賣線上手續費': 770.6544788544865}\n",
      "core: \n",
      "======================================\n",
      "weight: 255.25754893255007\n",
      "items: {'湖池屋洋芋片海苔鹽口味': 765.7726467976502, '促銷券０３': 765.7726467976502}\n",
      "core: \n",
      "======================================\n",
      "weight: 230.51065971066058\n",
      "items: {'立頓英式奶茶': 691.5319791319818, '立頓萃香奶綠': 691.5319791319818}\n",
      "core: \n",
      "======================================\n",
      "weight: 223.31391853357337\n",
      "items: {'義美錫蘭紅茶': 1116.5695926678668, '義美奶茶': 280.35597262214867, '義美全脂鮮乳２３６ｍｌ': 497.84386087768337, 'ＣＯＵＰＯＮ優惠': 338.3697591680349}\n",
      "core: 義美錫蘭紅茶\n",
      "======================================\n",
      "weight: 210.36495393495375\n",
      "items: {'安全裝置火石打火機': 310.69095349095346, '伯朗咖啡': 741.1338161838153, '藍山咖啡': 495.71080031079936, '七星１０毫克硬盒香煙': 556.1139693639694}\n",
      "core: 伯朗咖啡\n",
      "======================================\n",
      "weight: 192.3635031635034\n",
      "items: {'ＢｏｎＯＢｏｎ巧克力': 577.0905094905102, 'ＢｏｎＯＢｏｎ巧酥夾心巧克力': 577.0905094905102}\n",
      "core: \n",
      "======================================\n",
      "weight: 182.86727716727717\n",
      "items: {'交通罰鍰代收即銷手續費': 548.6018315018315, '台中裁即銷罰': 548.6018315018315}\n",
      "core: \n",
      "======================================\n",
      "weight: 176.71051587301585\n",
      "items: {'統聯客運取票': 285.2571428571429, '統聯客運手續費': 706.8420634920634, '統聯客運購票': 421.5849206349205}\n",
      "core: \n",
      "======================================\n",
      "weight: 171.6314574314574\n",
      "items: {'遠銀一般代Ｚ': 514.8943722943721, '代收手續費１０': 514.8943722943721}\n",
      "core: \n",
      "======================================\n",
      "weight: 164.03571428571416\n",
      "items: {'熱美式中杯－票券優惠專用': 492.1071428571425, '票券優惠條碼１': 492.1071428571425}\n",
      "core: \n",
      "======================================\n",
      "weight: 158.6756447256446\n",
      "items: {'戰禍邪神第１４章': 476.02693417693376, '戰禍邪神第１３章': 476.02693417693376}\n",
      "core: \n",
      "======================================\n",
      "weight: 154.73039923039912\n",
      "items: {'戰禍邪神第１８章': 464.1911976911973, '戰禍邪神第１７章': 464.1911976911973}\n",
      "core: \n",
      "======================================\n",
      "weight: 154.5706830206829\n",
      "items: {'戰禍邪神第１６章': 463.7120490620487, '戰禍邪神第１５章': 463.7120490620487}\n",
      "core: \n",
      "======================================\n",
      "weight: 152.59790764790756\n",
      "items: {'戰禍邪神第１１章': 457.7937229437227, '戰禍邪神第１２章': 457.7937229437227}\n",
      "core: \n",
      "======================================\n",
      "weight: 146.10674390968506\n",
      "items: {'辣味ＹＵＲＯＣＫ魚薯條無': 438.3202317290552, '原味ＹＵＲＯＣＫ魚薯條無': 438.3202317290552}\n",
      "core: \n",
      "======================================\n",
      "weight: 134.05477047107468\n",
      "items: {'蘋果冰茶': 536.2190818842987, '葡萄冰茶': 278.3123738864146, '芒果冰茶': 257.90670799788404}\n",
      "core: \n",
      "======================================\n",
      "weight: 109.89365079365076\n",
      "items: {'國光購票': 329.6809523809523, '國光客運手續費': 329.6809523809523}\n",
      "core: \n",
      "======================================\n",
      "weight: 107.11851851851857\n",
      "items: {'ＥＺ寄件付': 321.3555555555557, 'ｅｚ店到店手續費': 321.3555555555557}\n",
      "core: \n",
      "======================================\n",
      "weight: 100.80853035853029\n",
      "items: {'花生湯圓': 302.4255910755909, '芝麻湯圓': 302.4255910755909}\n",
      "core: \n",
      "======================================\n",
      "weight: 99.07865923912436\n",
      "items: {'巧克力（三粒裝）': 297.2359777173731, '金莎聖誕暖心杯套組': 297.2359777173731}\n",
      "core: \n",
      "======================================\n",
      "weight: 96.77564380064224\n",
      "items: {'日式黑輪': 290.32693140192674, '海鮮魚卵棒': 290.32693140192674}\n",
      "core: \n",
      "======================================\n",
      "weight: 94.58297443297425\n",
      "items: {'商城線上寄件': 283.74892329892276, '店到店雅虎超級商城線上印單': 283.74892329892276}\n",
      "core: \n",
      "======================================\n",
      "weight: 91.85538720538712\n",
      "items: {'立頓奶茶ＴＰ３３０': 275.56616161616137, '立頓巧克力奶茶ＴＰ３３０': 275.56616161616137}\n",
      "core: \n",
      "======================================\n",
      "weight: 90.21767676767662\n",
      "items: {'健達白繽紛樂巧克力': 270.6530303030299, '繽紛樂巧克力': 270.6530303030299}\n",
      "core: \n",
      "======================================\n",
      "weight: 88.1462392352496\n",
      "items: {'雪碧汽水': 264.4387177057488, '可口可樂ＰＥＴ': 264.4387177057488}\n",
      "core: \n",
      "======================================\n",
      "weight: 86.53917748917753\n",
      "items: {'ＳＭＬ磁鐵夾': 259.6175324675326, '全店４００點加價購Ｂ': 259.6175324675326}\n",
      "core: \n",
      "======================================\n",
      "weight: 84.50799385799382\n",
      "items: {'脆皮巧克力醬': 253.52398157398147, '聖代專用霜淇淋': 253.52398157398147}\n",
      "core: \n",
      "======================================\n",
      "weight: 81.4814821344231\n",
      "items: {'１０００點特價優惠Ａ': 244.4444464032693, '樂事經典原味洋芋片６４ｇ': 244.4444464032693}\n",
      "core: \n",
      "======================================\n"
     ]
    }
   ],
   "source": [
    "for community in communities:\n",
    "    print('weight:', community['weight'])\n",
    "    print('items:', community['items'])\n",
    "    print('core:', community['core'])\n",
    "    print('======================================')"
   ]
  },
  {
   "cell_type": "markdown",
   "metadata": {},
   "source": [
    "# 更新Vertex的attribute(Community)"
   ]
  },
  {
   "cell_type": "code",
   "execution_count": 226,
   "metadata": {},
   "outputs": [],
   "source": [
    "data = product_network.to_json()"
   ]
  },
  {
   "cell_type": "code",
   "execution_count": 227,
   "metadata": {},
   "outputs": [],
   "source": [
    "with open('D:\\MIS_Project\\product-netowork-demo\\src\\default_mod.json', 'w', encoding='utf-8') as file:\n",
    "    file.write(data)"
   ]
  },
  {
   "cell_type": "code",
   "execution_count": 29,
   "metadata": {},
   "outputs": [],
   "source": [
    "with open('D:\\MIS_Project\\product-netowork-demo\\src\\default_group.json', 'w', encoding='utf-8') as file:\n",
    "    file.write(data)"
   ]
  },
  {
   "cell_type": "code",
   "execution_count": null,
   "metadata": {},
   "outputs": [],
   "source": []
  },
  {
   "cell_type": "markdown",
   "metadata": {},
   "source": [
    "# 利用Betweeness找出可能是connector的節點"
   ]
  },
  {
   "cell_type": "code",
   "execution_count": 39,
   "metadata": {},
   "outputs": [],
   "source": [
    "connectors = product_network.get_connectors()"
   ]
  },
  {
   "cell_type": "code",
   "execution_count": 40,
   "metadata": {},
   "outputs": [
    {
     "name": "stdout",
     "output_type": "stream",
     "text": [
      "127.0: 茶葉蛋（銷售用）\n",
      "87.0 : （新）銷售用購物袋１８號袋\n",
      "43.0 : 中華電信 \n",
      "32.0 : 鮪魚飯糰 \n",
      "27.0 : 台新信用卡\n",
      "23.0 : 國民年金代\n",
      "21.0 : 國泰世華卡\n",
      "20.0 : 白玉蘿蔔 \n",
      "17.0 : 經典原味熱狗\n",
      "17.0 : 代收手續費４\n",
      "17.0 : 光泉米漿 \n",
      "13.0 : 台灣自來水\n",
      "9.0  : 特級花枝丸\n",
      "6.0  : 代收手續費１５\n",
      "4.0  : 蟹肉糰子 \n",
      "4.0  : 千層玉子燒\n",
      "3.0  : 黃金厚切魚板\n",
      "3.0  : 促銷券０６\n",
      "3.0  : 代收折價卷\n",
      "2.0  : 黃金魚豆腐\n",
      "1.0  : 代收手續費５\n",
      "1.0  : 蘋果日報 \n"
     ]
    }
   ],
   "source": [
    "for connector in connectors:\n",
    "    print('{:<5}: {:<5}'.format(connector['betweeness'], connector['name']))"
   ]
  },
  {
   "cell_type": "code",
   "execution_count": 39,
   "metadata": {
    "scrolled": true
   },
   "outputs": [
    {
     "data": {
      "image/svg+xml": [
       "<?xml version=\"1.0\" encoding=\"UTF-8\"?>\n",
       "<svg xmlns=\"http://www.w3.org/2000/svg\" xmlns:xlink=\"http://www.w3.org/1999/xlink\" width=\"600pt\" height=\"600pt\" viewBox=\"0 0 600 600\" version=\"1.1\">\n",
       "<g id=\"surface14\">\n",
       "<rect x=\"0\" y=\"0\" width=\"600\" height=\"600\" style=\"fill:rgb(100%,100%,100%);fill-opacity:1;stroke:none;\"/>\n",
       "<path style=\"fill:none;stroke-width:1;stroke-linecap:butt;stroke-linejoin:miter;stroke:rgb(26.666667%,26.666667%,26.666667%);stroke-opacity:1;stroke-miterlimit:10;\" d=\"M 403.261719 468.425781 L 580 580 \"/>\n",
       "<path style=\"fill:none;stroke-width:1;stroke-linecap:butt;stroke-linejoin:miter;stroke:rgb(26.666667%,26.666667%,26.666667%);stroke-opacity:1;stroke-miterlimit:10;\" d=\"M 403.261719 468.425781 L 278.21875 269.886719 \"/>\n",
       "<path style=\"fill:none;stroke-width:1;stroke-linecap:butt;stroke-linejoin:miter;stroke:rgb(26.666667%,26.666667%,26.666667%);stroke-opacity:1;stroke-miterlimit:10;\" d=\"M 278.21875 269.886719 L 80.355469 190.765625 \"/>\n",
       "<path style=\"fill:none;stroke-width:1;stroke-linecap:butt;stroke-linejoin:miter;stroke:rgb(26.666667%,26.666667%,26.666667%);stroke-opacity:1;stroke-miterlimit:10;\" d=\"M 80.355469 190.765625 L 221.40625 20 \"/>\n",
       "<path style=\"fill:none;stroke-width:1;stroke-linecap:butt;stroke-linejoin:miter;stroke:rgb(26.666667%,26.666667%,26.666667%);stroke-opacity:1;stroke-miterlimit:10;\" d=\"M 278.21875 269.886719 L 221.40625 20 \"/>\n",
       "<path style=\"fill:none;stroke-width:1;stroke-linecap:butt;stroke-linejoin:miter;stroke:rgb(26.666667%,26.666667%,26.666667%);stroke-opacity:1;stroke-miterlimit:10;\" d=\"M 278.21875 269.886719 L 216.945313 535.507813 \"/>\n",
       "<path style=\"fill:none;stroke-width:1;stroke-linecap:butt;stroke-linejoin:miter;stroke:rgb(26.666667%,26.666667%,26.666667%);stroke-opacity:1;stroke-miterlimit:10;\" d=\"M 403.261719 468.425781 L 216.945313 535.507813 \"/>\n",
       "<path style=\"fill:none;stroke-width:1;stroke-linecap:butt;stroke-linejoin:miter;stroke:rgb(26.666667%,26.666667%,26.666667%);stroke-opacity:1;stroke-miterlimit:10;\" d=\"M 80.355469 190.765625 L 20 454.507813 \"/>\n",
       "<path style=\"fill:none;stroke-width:1;stroke-linecap:butt;stroke-linejoin:miter;stroke:rgb(26.666667%,26.666667%,26.666667%);stroke-opacity:1;stroke-miterlimit:10;\" d=\"M 216.945313 535.507813 L 20 454.507813 \"/>\n",
       "<path style=\"fill-rule:nonzero;fill:rgb(100%,0%,0%);fill-opacity:1;stroke-width:1;stroke-linecap:butt;stroke-linejoin:miter;stroke:rgb(0%,0%,0%);stroke-opacity:1;stroke-miterlimit:10;\" d=\"M 413.261719 468.425781 C 413.261719 473.949219 408.785156 478.425781 403.261719 478.425781 C 397.738281 478.425781 393.261719 473.949219 393.261719 468.425781 C 393.261719 462.902344 397.738281 458.425781 403.261719 458.425781 C 408.785156 458.425781 413.261719 462.902344 413.261719 468.425781 \"/>\n",
       "<path style=\"fill-rule:nonzero;fill:rgb(100%,0%,0%);fill-opacity:1;stroke-width:1;stroke-linecap:butt;stroke-linejoin:miter;stroke:rgb(0%,0%,0%);stroke-opacity:1;stroke-miterlimit:10;\" d=\"M 590 580 C 590 585.523438 585.523438 590 580 590 C 574.476563 590 570 585.523438 570 580 C 570 574.476563 574.476563 570 580 570 C 585.523438 570 590 574.476563 590 580 \"/>\n",
       "<path style=\"fill-rule:nonzero;fill:rgb(100%,0%,0%);fill-opacity:1;stroke-width:1;stroke-linecap:butt;stroke-linejoin:miter;stroke:rgb(0%,0%,0%);stroke-opacity:1;stroke-miterlimit:10;\" d=\"M 288.21875 269.886719 C 288.21875 275.410156 283.738281 279.886719 278.21875 279.886719 C 272.695313 279.886719 268.21875 275.410156 268.21875 269.886719 C 268.21875 264.363281 272.695313 259.886719 278.21875 259.886719 C 283.738281 259.886719 288.21875 264.363281 288.21875 269.886719 \"/>\n",
       "<path style=\"fill-rule:nonzero;fill:rgb(100%,0%,0%);fill-opacity:1;stroke-width:1;stroke-linecap:butt;stroke-linejoin:miter;stroke:rgb(0%,0%,0%);stroke-opacity:1;stroke-miterlimit:10;\" d=\"M 90.355469 190.765625 C 90.355469 196.289063 85.878906 200.765625 80.355469 200.765625 C 74.832031 200.765625 70.355469 196.289063 70.355469 190.765625 C 70.355469 185.242188 74.832031 180.765625 80.355469 180.765625 C 85.878906 180.765625 90.355469 185.242188 90.355469 190.765625 \"/>\n",
       "<path style=\"fill-rule:nonzero;fill:rgb(100%,0%,0%);fill-opacity:1;stroke-width:1;stroke-linecap:butt;stroke-linejoin:miter;stroke:rgb(0%,0%,0%);stroke-opacity:1;stroke-miterlimit:10;\" d=\"M 231.40625 20 C 231.40625 25.523438 226.929688 30 221.40625 30 C 215.882813 30 211.40625 25.523438 211.40625 20 C 211.40625 14.476563 215.882813 10 221.40625 10 C 226.929688 10 231.40625 14.476563 231.40625 20 \"/>\n",
       "<path style=\"fill-rule:nonzero;fill:rgb(100%,0%,0%);fill-opacity:1;stroke-width:1;stroke-linecap:butt;stroke-linejoin:miter;stroke:rgb(0%,0%,0%);stroke-opacity:1;stroke-miterlimit:10;\" d=\"M 226.945313 535.507813 C 226.945313 541.03125 222.46875 545.507813 216.945313 545.507813 C 211.421875 545.507813 206.945313 541.03125 206.945313 535.507813 C 206.945313 529.984375 211.421875 525.507813 216.945313 525.507813 C 222.46875 525.507813 226.945313 529.984375 226.945313 535.507813 \"/>\n",
       "<path style=\"fill-rule:nonzero;fill:rgb(100%,0%,0%);fill-opacity:1;stroke-width:1;stroke-linecap:butt;stroke-linejoin:miter;stroke:rgb(0%,0%,0%);stroke-opacity:1;stroke-miterlimit:10;\" d=\"M 30 454.507813 C 30 460.03125 25.523438 464.507813 20 464.507813 C 14.476563 464.507813 10 460.03125 10 454.507813 C 10 448.984375 14.476563 444.507813 20 444.507813 C 25.523438 444.507813 30 448.984375 30 454.507813 \"/>\n",
       "</g>\n",
       "</svg>\n"
      ],
      "text/plain": [
       "<igraph.drawing.Plot at 0x22c075ca5f8>"
      ]
     },
     "execution_count": 39,
     "metadata": {},
     "output_type": "execute_result"
    }
   ],
   "source": [
    "from igraph import *\n",
    "g = Graph([(0,1), (0,2), (2,3), (3,4), (4,2), (2,5), (5,0), (6,3), (5,6)])\n",
    "g.es[\"weight\"] = [0,1,2,3,4,5,6,7,8,9]\n",
    "g.vs[\"name\"] = [\"Alice\", \"Bob\", \"Claire\", \"Dennis\", \"Esther\", \"Frank\", \"George\"]\n",
    "plot(g)\n",
    "# #You could create Vertexes like g.add_vertex(name=\"Bill\") \n",
    "# path=g.get_shortest_paths(\"Alice\",to=\"Frank\",mode=OUT,output='vpath')\n",
    "# for n in path[0]:\n",
    "#     print(\"{}\".format(g.vs[n]['name']))"
   ]
  },
  {
   "cell_type": "code",
   "execution_count": 40,
   "metadata": {},
   "outputs": [
    {
     "data": {
      "text/plain": [
       "[0, 1, 6]"
      ]
     },
     "execution_count": 40,
     "metadata": {},
     "output_type": "execute_result"
    }
   ],
   "source": [
    "g.incident('Alice', mode=OUT)"
   ]
  },
  {
   "cell_type": "code",
   "execution_count": 41,
   "metadata": {},
   "outputs": [
    {
     "data": {
      "text/plain": [
       "5"
      ]
     },
     "execution_count": 41,
     "metadata": {},
     "output_type": "execute_result"
    }
   ],
   "source": [
    "g.es[5][\"weight\"]"
   ]
  },
  {
   "cell_type": "code",
   "execution_count": 25,
   "metadata": {
    "scrolled": true
   },
   "outputs": [
    {
     "ename": "AttributeError",
     "evalue": "'ProductNerwork' object has no attribute 'get_shortest_paths'",
     "output_type": "error",
     "traceback": [
      "\u001b[1;31m---------------------------------------------------------------------------\u001b[0m",
      "\u001b[1;31mAttributeError\u001b[0m                            Traceback (most recent call last)",
      "\u001b[1;32m<ipython-input-25-5f9d0e72763c>\u001b[0m in \u001b[0;36m<module>\u001b[1;34m\u001b[0m\n\u001b[1;32m----> 1\u001b[1;33m \u001b[0mpath\u001b[0m \u001b[1;33m=\u001b[0m \u001b[0mproduct_network\u001b[0m\u001b[1;33m.\u001b[0m\u001b[0mget_shortest_paths\u001b[0m\u001b[1;33m(\u001b[0m\u001b[1;34m\"鮪魚飯糰\"\u001b[0m\u001b[1;33m,\u001b[0m \u001b[0mto\u001b[0m \u001b[1;33m=\u001b[0m \u001b[1;34m\"肉鬆飯糰\"\u001b[0m\u001b[1;33m)\u001b[0m\u001b[1;33m\u001b[0m\u001b[1;33m\u001b[0m\u001b[0m\n\u001b[0m",
      "\u001b[1;31mAttributeError\u001b[0m: 'ProductNerwork' object has no attribute 'get_shortest_paths'"
     ]
    }
   ],
   "source": [
    "path = product_network.get_shortest_paths(\"鮪魚飯糰\", to = \"肉鬆飯糰\")"
   ]
  },
  {
   "cell_type": "code",
   "execution_count": 74,
   "metadata": {},
   "outputs": [
    {
     "data": {
      "text/plain": [
       "9"
      ]
     },
     "execution_count": 74,
     "metadata": {},
     "output_type": "execute_result"
    }
   ],
   "source": [
    "max(0,9)"
   ]
  },
  {
   "cell_type": "code",
   "execution_count": 30,
   "metadata": {},
   "outputs": [
    {
     "name": "stdout",
     "output_type": "stream",
     "text": [
      "[1, 2, 3, 4, 5, 6, 7, 8, 9, 10, 11, 12, 13, 14, 15, 16, 17, 18, 19, 20, 21, 22, 23, 24, 25, 26, 27, 28, 29, 30, 31, 32, 33, 34, 35, 36, 37, 38, 39, 40, 41, 42, 43, 44, 45, 46, 47, 48, 49, 50, 51, 52, 53, 54, 55, 56, 57, 58, 59, 60, 61, 62, 63, 64, 65, 66, 67, 68, 69, 70, 71, 72, 73, 74, 75, 76, 77, 78, 79, 80, 81, 82, 83, 84, 85, 86, 87, 88, 89, 90, 91, 92, 93, 94, 95, 96, 97, 98, 99]\n"
     ]
    }
   ],
   "source": [
    "r = list(range(1,100))\n",
    "summary(r)"
   ]
  },
  {
   "cell_type": "code",
   "execution_count": 67,
   "metadata": {},
   "outputs": [
    {
     "data": {
      "text/plain": [
       "'c'"
      ]
     },
     "execution_count": 67,
     "metadata": {},
     "output_type": "execute_result"
    }
   ],
   "source": [
    "stats = {'a':1, 'b': 2, 'c': 3}\n",
    "max(stats, key=lambda k: stats[k])"
   ]
  },
  {
   "cell_type": "code",
   "execution_count": null,
   "metadata": {},
   "outputs": [],
   "source": []
  }
 ],
 "metadata": {
  "kernelspec": {
   "display_name": "Python 3",
   "language": "python",
   "name": "python3"
  },
  "language_info": {
   "codemirror_mode": {
    "name": "ipython",
    "version": 3
   },
   "file_extension": ".py",
   "mimetype": "text/x-python",
   "name": "python",
   "nbconvert_exporter": "python",
   "pygments_lexer": "ipython3",
   "version": "3.7.1"
  }
 },
 "nbformat": 4,
 "nbformat_minor": 2
}
