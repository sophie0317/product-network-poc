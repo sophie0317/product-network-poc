{
 "cells": [
  {
   "cell_type": "code",
   "execution_count": 3,
   "metadata": {},
   "outputs": [],
   "source": [
    "import pandas as pd\n",
    "import numpy"
   ]
  },
  {
   "cell_type": "code",
   "execution_count": 5,
   "metadata": {},
   "outputs": [],
   "source": [
    "dtype = {\n",
    "    '交易id': numpy.str,\n",
    "    '資料日期': numpy.str,\n",
    "    '資料時間': numpy.str,\n",
    "    '餐別帶': numpy.str,\n",
    "    '縣市別': numpy.str,\n",
    "    '店舖代號': numpy.uint32,\n",
    "    '主商圈': numpy.str,\n",
    "    '品號-品名稱': numpy.str,\n",
    "    '群號-群名稱': numpy.str,\n",
    "    '單品名稱': numpy.str,\n",
    "    '銷售數量': numpy.uint16,\n",
    "    '銷售單價': numpy.float,\n",
    "    '交易金額': numpy.float\n",
    "}"
   ]
  },
  {
   "cell_type": "code",
   "execution_count": 6,
   "metadata": {},
   "outputs": [],
   "source": [
    "USE_COLUMNS = ['交易id', '資料日期', '資料時間', '餐別帶', '縣市別', '店舖代號', '主商圈', '品號-品名稱',\n",
    "       '群號-群名稱', '單品名稱', '銷售數量', '銷售單價', '交易金額']\n",
    "PARSE_DATES = {\n",
    "    '資料日期與時間': [\n",
    "        '資料日期',\n",
    "        '資料時間'\n",
    "    ]\n",
    "}"
   ]
  },
  {
   "cell_type": "code",
   "execution_count": 8,
   "metadata": {},
   "outputs": [],
   "source": [
    "datas = pd.read_csv('customer_data(utf-8).csv',\n",
    "                   index_col=1,\n",
    "                   nrows=50000,\n",
    "                   usecols=USE_COLUMNS,\n",
    "                   dtype=dtype,\n",
    "                   parse_dates=PARSE_DATES,\n",
    "        )"
   ]
  },
  {
   "cell_type": "code",
   "execution_count": 9,
   "metadata": {},
   "outputs": [
    {
     "data": {
      "text/plain": [
       "['資料日期與時間',\n",
       " '餐別帶',\n",
       " '縣市別',\n",
       " '店舖代號',\n",
       " '主商圈',\n",
       " '品號-品名稱',\n",
       " '群號-群名稱',\n",
       " '單品名稱',\n",
       " '銷售數量',\n",
       " '銷售單價',\n",
       " '交易金額']"
      ]
     },
     "execution_count": 9,
     "metadata": {},
     "output_type": "execute_result"
    }
   ],
   "source": [
    "list(datas.columns)"
   ]
  },
  {
   "cell_type": "code",
   "execution_count": 43,
   "metadata": {},
   "outputs": [],
   "source": [
    "def get_transaction_dict(df):\n",
    "    transaction_df = df.filter(['交易id'])\n",
    "    groupbyObject = transaction_df.groupby(['交易id'])\n",
    "    return groupbyObject.first()"
   ]
  },
  {
   "cell_type": "code",
   "execution_count": 11,
   "metadata": {},
   "outputs": [],
   "source": [
    "def get_items_dict(df):\n",
    "    items = df.set_index('單品名稱')\n",
    "    items = items.drop(['餐別帶', '資料日期與時間', '縣市別', '店舖代號', '主商圈', '銷售數量', '交易金額'], axis=1)\n",
    "    return items.groupby(items.index).first().to_dict('index')"
   ]
  },
  {
   "cell_type": "code",
   "execution_count": null,
   "metadata": {},
   "outputs": [],
   "source": [
    "class TransactionTransformer:\n",
    "    def __init__(self, transaction_id_name, item_name, transaction_amount_name, transaction_attrs=[], item_attrs=[]):\n",
    "        self.transaction_id_name = transaction_id_name\n",
    "        self.item_name = item_name\n",
    "        self.transaction_attrs = transaction_attrs\n",
    "        self.item_attrs = item_attrs\n",
    "        self.transaction_amount_name = transaction_amount_name\n",
    "\n",
    "    def get_transaction_dict(self, df):\n",
    "        total_cols = list(df.columns)\n",
    "        transaction_df = df.filter(self.transaction_attrs + [self.transaction_id_name, self.transaction_amount_name])\n",
    "        groupbyObject = transaction_df.groupby([self.transaction_id_name])\n",
    "        transaction_df = groupByObject.agg({ key: 'first' if key != self.transaction_amount_name else 'sum' for key in self.transaction_attrs })\n",
    "        return transaction_df.to_dict('index')\n",
    "    \n",
    "    def get_transaction_length(self, df):\n",
    "        return len(df.index.unique())\n",
    "\n",
    "    def get_nodes(self, df):\n",
    "        item_df = df.set_index(self.item_name)\n",
    "        item_df = item_df.filter(self.item_attrs)\n",
    "        item_dict = items.groupby(items.index).first().to_dict('index')\n",
    "        for key, value in item_dict.items():\n",
    "            value[self.item_name] = key\n",
    "        return item_dict\n",
    "    \n",
    "    def get_edges(self, df, nodes, support, weight_func):\n",
    "        df = df.filter([self.item_name, self.transaction_id_name])\n",
    "        ts_dict = \n",
    "        for index, row in df:\n",
    "            \n",
    "    def get_copurchase_df(self, df):\n",
    "        count_size = df.index.unique()\n",
    "        size_df = df.groupby(self.transaction_id_name).size()\n",
    "        size_df = size_df[size_df < 2]\n",
    "        return df.drop(list(size_df.index), axis=0)\n",
    "\n",
    "    def get_graph_view(self, df, support, weight_func):\n",
    "        df = df.dropna()\n",
    "        copurchase_df = self.get_copurchase_df(df)\n",
    "        nodes = self.get_nodes(df)\n",
    "#         edges = "
   ]
  },
  {
   "cell_type": "code",
   "execution_count": null,
   "metadata": {},
   "outputs": [],
   "source": []
  }
 ],
 "metadata": {
  "kernelspec": {
   "display_name": "Python 3",
   "language": "python",
   "name": "python3"
  },
  "language_info": {
   "codemirror_mode": {
    "name": "ipython",
    "version": 3
   },
   "file_extension": ".py",
   "mimetype": "text/x-python",
   "name": "python",
   "nbconvert_exporter": "python",
   "pygments_lexer": "ipython3",
   "version": "3.6.5"
  }
 },
 "nbformat": 4,
 "nbformat_minor": 2
}
