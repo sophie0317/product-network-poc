{
 "cells": [
  {
   "cell_type": "code",
   "execution_count": 33,
   "metadata": {},
   "outputs": [],
   "source": [
    "import pandas as pd\n",
    "import numpy"
   ]
  },
  {
   "cell_type": "code",
   "execution_count": 34,
   "metadata": {},
   "outputs": [],
   "source": [
    "dtype = {\n",
    "    '交易id': numpy.str,\n",
    "    '資料日期': numpy.str,\n",
    "    '資料時間': numpy.str,\n",
    "    '餐別帶': numpy.str,\n",
    "    '縣市別': numpy.str,\n",
    "    '店舖代號': numpy.uint32,\n",
    "    '主商圈': numpy.str,\n",
    "    '品號-品名稱': numpy.str,\n",
    "    '群號-群名稱': numpy.str,\n",
    "    '單品名稱': numpy.str,\n",
    "    '銷售數量': numpy.uint16,\n",
    "    '銷售單價': numpy.float,\n",
    "    '交易金額': numpy.float\n",
    "}"
   ]
  },
  {
   "cell_type": "code",
   "execution_count": 35,
   "metadata": {},
   "outputs": [],
   "source": [
    "USE_COLUMNS = ['交易id', '資料日期', '資料時間', '餐別帶', '縣市別', '店舖代號', '主商圈', '品號-品名稱',\n",
    "       '群號-群名稱', '單品名稱', '銷售數量', '銷售單價', '交易金額']\n",
    "PARSE_DATES = {\n",
    "    '資料日期與時間': [\n",
    "        '資料日期',\n",
    "        '資料時間'\n",
    "    ]\n",
    "}\n",
    "TRANSACTION_ATTRS =  ['餐別帶', '資料日期與時間', '縣市別', '店舖代號', '主商圈']\n",
    "ITEM_ATTRS = ['品號-品名稱', '群號-群名稱', '銷售單價']"
   ]
  },
  {
   "cell_type": "code",
   "execution_count": 36,
   "metadata": {},
   "outputs": [],
   "source": [
    "datas = pd.read_csv('customer_data(utf-8).csv',\n",
    "                   index_col=1,\n",
    "                   nrows=1000000,\n",
    "                   usecols=USE_COLUMNS,\n",
    "                   dtype=dtype,\n",
    "                   parse_dates=PARSE_DATES,\n",
    "        )"
   ]
  },
  {
   "cell_type": "code",
   "execution_count": 37,
   "metadata": {},
   "outputs": [],
   "source": [
    "datas = datas.dropna()"
   ]
  },
  {
   "cell_type": "code",
   "execution_count": 38,
   "metadata": {},
   "outputs": [
    {
     "name": "stdout",
     "output_type": "stream",
     "text": [
      "['72-家庭雜貨' '00-傳統代收' '29-冷藏飲料' '28-其他乳品' '27-鮮乳' '12-調理麵' '68-保健衛生'\n",
      " '61-啤酒' '18-麵包' '34-健康飲料' '31-茶飲料' '84-報紙' '22-蛋品' '10-三明治' '07-壽司、手卷'\n",
      " '38-點心零食' '14-蔬菜、沙拉' '04-燒烤食品' '00-新型態代收' '35-口香糖' '58-香煙' '33-嗜好飲料'\n",
      " '19-吐司蛋糕' '36-巧克力' '13-蔬菜水果' '08-便當' '91-服務' '89-資訊商品' '01-杯裝飲料'\n",
      " '03-蒸箱食品' '62-空瓶空箱' '79-個人用品' '37-糖果' '09-微波主食' '59-國產烈酒' '66-美妝用品'\n",
      " '40-珍味豆類' '06-飯糰' '32-果汁飲料' '46-調味品' '43-泡麵' '97-全店暨聯促贈品' '17-冷藏甜點'\n",
      " '81-虛擬點卡' '16-冷藏食品' '23-冰品' '92-服務' '15-小菜、微波' '05-關東煮' '73-寵物、園藝'\n",
      " '39-餅乾' '24-冷凍食品' '48-營養食品' '75-文具' '69-棉、紙製品' '67-盥洗用品' '41-蜜餞豆干'\n",
      " '80-卡類商品' '88-視聽娛樂' '70-紡織品' '78-電池' '60-進口烈酒' '83-文創娛樂' '45-瓶、罐頭'\n",
      " '44-即食食品' '76-玩具' '02-霜淇淋' '55-預購－飲料' '52-四大節慶（年菜╱端午節）' '86-免稅雜誌'\n",
      " '63-其他酒類' '93-代售商品（一）' '49-嗜好食品' '71-家庭用品' '85-應稅出版品' '65-預購－日用╱流行音樂'\n",
      " '87-應稅單行本' '50-食品禮盒' '47-免稅食品' '94-預購－酒類' '56-預購－零食' '51-四大節慶（母親節╱中秋節）'\n",
      " '21-ＮＦ測試商品' '98-代售商品（二）' '57-文化出版品預購' '53-預購－３Ｃ商品╱日用']\n"
     ]
    }
   ],
   "source": [
    "print(datas['品號-品名稱'].unique())"
   ]
  },
  {
   "cell_type": "code",
   "execution_count": 39,
   "metadata": {},
   "outputs": [
    {
     "name": "stdout",
     "output_type": "stream",
     "text": [
      "['722-家雜用品' '11-信用卡' '296-冷藏奶茶' '286-發酵乳' '271-大包裝全脂鮮乳' '122-熱食麵２配'\n",
      " '682-醫療用品' '612-進口啤酒' '282-小包裝調味乳' '182-丹麥麵包' '291-冷藏茶飲料' '343-水'\n",
      " '315-其他茶' '841-一般日報' '226-茶葉蛋' '294-冷藏豆米漿' '106-三明治４度Ｃ' '071-壽司'\n",
      " '381-袋裝洋芋片' '141-沙拉' '042-蕃薯食品' '06-有線電視' '04-電信費' '181-甜麵包' '15-E商品'\n",
      " '313-烏龍茶' '311-紅茶' '352-無糖口香糖' '584-進口淡煙' '331-咖啡飲料' '192-蛋糕' '364-兒童巧克力'\n",
      " '01-智慧卡' '195-小朋友麵包' '133-常溫原果（免稅）' '314-奶茶' '083-便當４℃' '312-綠茶'\n",
      " '911-全錄影印' '383-袋裝零食' '07-停車費' '27-票券' '897-資訊服務手續費' '285-小包裝優酪乳'\n",
      " '183-鹹麵包' '26-店到店' '012-杯裝飲料' '031-一般包子' '072-手卷' '581-國產淡煙' '621-空瓶'\n",
      " '585-進口濃煙' '333-其他嗜好飲料' '792-抽煙用品' '373-兒童糖果' '092-西式主食' '591-國產料理酒'\n",
      " '664-美妝雜貨' '18-代碼繳費' '361-條狀巧克力' '401-海產製品' '293-冷藏咖啡' '061-飯糰'\n",
      " '586-進口涼煙' '13-稅款' '322-未滿１００％果汁' '462-醬油' '918-支付折扣促銷券' '065-飯糰４度Ｃ'\n",
      " '435-袋麵' '041-燒烤熱狗' '977-行銷部贈品' '171-布丁' '323-蔬菜汁' '173-果凍' '813-虛擬遊戲卡'\n",
      " '292-冷藏果汁' '342-運動飲料' '432-小杯麵' '403-堅果' '163-火腿香腸' '231-冰棒' '372-一般糖果'\n",
      " '916-服務手續費' '924-宅配' '155-微波小吃' '154-小菜' '091-中式主食' '056-常溫商品'\n",
      " '054-蔬菜類製品' '09-監理所' '16-其它類' '094-粥品' '272-小包裝全脂鮮乳' '341-機能飲料'\n",
      " '191-小吐司餐包' '351-一般口香糖' '732-貓食' '396-煎薄派酥' '14-銀行分期款' '613-國產瓶啤'\n",
      " '463-調味醬' '386-其他零食' '611-國產啤酒' '404-花生瓜子' '221-洗選蛋' '124-義大利麵'\n",
      " '241-冷凍調理' '481-補品' '051-一般魚漿製品' '131-截切水果' '177-甜湯飲品' '295-其他冷藏飲料'\n",
      " '434-小碗麵' '275-小包裝低脂鮮乳' '752-一般文具' '332-碳酸飲料' '433-大碗麵' '592-國產蒸餾酒'\n",
      " '172-優格' '892-資訊開卡包休閒類' '362-顆粒狀巧克力' '692-衛生棉' '196-常溫茶點' '843-財經報'\n",
      " '674-口腔牙膏' '093-日式主食' '411-蜜餞' '153-微波湯品' '811-虛擬電信卡' '237-衛生冰塊'\n",
      " '394-卷心餅' '582-國產濃煙' '02-電費' '107-調理麵包４度Ｃ' '176-手工甜點' '723-電器五金'\n",
      " '371-機能性糖果' '681-兩性用品' '235-高級冰品' '802-電子票證（交通票卡）' '095-其他飯類' '10-人壽險'\n",
      " '883-３Ｃ週邊' '014-冰沙飲料' '382-盒罐裝洋芋片' '393-蘇打餅' '431-大杯麵' '03-水費'\n",
      " '707-日翊紡織品' '365-其他巧克力' '691-衛生紙' '395-棒狀餅乾' '297-冷藏常溫飲料' '781-鹼性電池'\n",
      " '193-家庭號吐司餐包' '344-其他水' '121-涼麵２配' '601-進口威士忌' '817-一元ＰＩＮ電信卡' '832-霹靂布袋戲'\n",
      " '363-盒裝巧克力' '754-紙類文具' '482-健康食品' '452-魚罐頭' '441-麵條' '761-一般玩具' '706-棉襪'\n",
      " '08-瓦斯' '175-常溫甜點' '607-進口調酒' '274-大包裝低脂鮮乳' '412-豆干' '392-威化餅' '397-糕點類'\n",
      " '12-銀行學雜費' '021-霜淇淋' '391-夾心餅' '782-碳鋅電池' '675-牙刷' '555-預購訂購到店'\n",
      " '132-冷藏原果（免稅）' '783-特殊電池' '593-國產發酵酒' '614-進口瓶啤' '442-湯' '521-原店常溫冷藏１'\n",
      " '683-保健用品' '451-珍味瓶' '606-進口白酒' '281-大包裝調味乳' '667-刮鬍用品' '731-狗食' '701-毛巾'\n",
      " '22-即時汽燃費' '587-雪茄' '603-進口酒禮盒' '662-護膚保養品' '673-洗臉用品' '881-服務商品' '753-筆'\n",
      " '05-產險' '616-即飲調酒' '461-食用油' '861-週刊' '631-國產藥酒' '791-雨具用品' '24-愛心捐款'\n",
      " '914-宅配' '931-郵票' '445-外勞商品' '491-咖啡' '525-預購訂購到店' '605-進口清酒' '467-鹽'\n",
      " '672-沐浴用品' '712-家庭清潔劑' '751-益智文具' '162-生麵' '495-其他嗜好食品' '863-女性時尚'\n",
      " '815-虛擬其他卡' '137-截切蔬菜' '233-甜筒' '455-果醬、奶油' '854-漫畫單行本' '656-宅配２'\n",
      " '246-天和冷凍食品－免稅' '917-服務機台' '711-衣物洗滌劑' '844-外文報' '764-檔期玩具'\n",
      " '876-其他叢書、地圖旅遊' '665-流行飾品' '444-粥' '604-進口水果酒' '831-金光布袋戲' '713-殺蟲防蟲劑'\n",
      " '161-豆腐' '721-餐具用品' '232-杯冰' '321-１００％果汁' '526-宅配' '693-衛生護墊' '845-區域性報紙'\n",
      " '454-農產罐頭' '855-休閒育樂、授權週邊' '224-加工蛋' '335-嗜好飲料禮盒' '465-料理糖、味精' '316-果茶'\n",
      " '504-節慶果子禮盒' '865-流行情報' '453-肉罐頭' '471-米' '505-節慶補品禮盒' '186-烘焙輕食'\n",
      " '385-米果仙貝' '402-肉類製品' '801-電話卡' '704-免洗紡織' '17-燃料稅' '694-紙尿褲'\n",
      " '502-常態補品禮盒' '242-冷凍麵食' '862-男性時尚' '705-絲襪' '164-奶油起司' '136-根莖果（免稅）'\n",
      " '135-葉菜蔬菜（免稅）' '842-一般晚報' '938-活動贈品' '353-兒童口香糖' '816-一元ＰＩＮ遊戲點卡'\n",
      " '123-熱湯麵２配' '028-活動贈品' '945-訂購到店商品' '594-國產水果酒' '464-香料' '655-訂購到店商品'\n",
      " '852-休閒育樂、授權週邊' '724-季節雜貨' '661-彩妝用品' '466-乾物、粉' '878-其他叢書' '501-常態果子禮盒'\n",
      " '568-預購訂購到店（應稅）' '671-洗髮用品' '477-日翊配送加工（免稅）' '725-學區型商品' '652-原店常溫冷藏'\n",
      " '492-茶' '473-麵粉' '864-電腦資訊' '886-影音光碟' '857-文創商品' '726-其他節令商品'\n",
      " '814-ＧＩＦＴＣＡＲＤ虛擬卡' '933-商品預售應稅' '756-全店行銷用品' '868-其他雜誌' '032-蒸箱冷藏'\n",
      " '763-巡迴玩具' '686-醫院區用品' '866-語言汽車' '663-美髮用品' '894-ＧＩＦＴＣＡＲＤ實體卡（銷售）'\n",
      " '896-娛樂票券２' '503-常態其他禮盒' '516-宅配' '222-特殊蛋' '762-日翊玩具' '23-即時強制險'\n",
      " '244-冷凍肉品（應稅）' '818-一元ＰＩＮ電子錢' '443-調理包' '877-其他書籍' '891-娛樂票券'\n",
      " '247-天和冷凍食品－應稅' '284-大包裝優酪乳' '867-漫畫期刊' '011-杯裝其它' '218-促銷測試'\n",
      " '243-冷凍肉品（免稅）' '522-原店冷凍日翊常溫１' '838-文創商品預購（店）' '987-國際電話卡代售'\n",
      " '872-休閒育樂、授權週邊' '978-行銷部贈品（預換）' '942-原店常溫冷藏' '523-他店連線' '947-他店連線'\n",
      " '937-商品預售免稅' '973-行銷部贈品３' '493-奶精、煉乳' '497-日翊配合加工２' '702-男內衣褲' '873-小說勵志'\n",
      " '571-應稅出版品預購（店）' '474-其他農產品' '494-即食糖' '511-原店常溫冷藏１' '983-代售票券'\n",
      " '485-醫院區營養補品' '483-奶粉' '984-代售票券２' '985-ｅ通卡售卡' '856-其他叢書、地圖旅遊'\n",
      " '803-電信預付卡' '488-好市多商品' '537-宅配' '714-芳香除臭劑' '015-咖啡週邊商品' '988-娛樂免稅票券'\n",
      " '915-國際快遞' '708-預購－紡織品' '338-預購－嗜好飲料' '566-宅配' '941-日翊常溫' '20-汽燃費罰鍰'\n",
      " '602-進口白蘭地' '796-觀光區用品' '685-醫院區巡迴商品' '564-日翊常溫４']\n"
     ]
    }
   ],
   "source": [
    "print(datas['群號-群名稱'].unique())"
   ]
  },
  {
   "cell_type": "code",
   "execution_count": 40,
   "metadata": {},
   "outputs": [
    {
     "data": {
      "text/html": [
       "<div>\n",
       "<style scoped>\n",
       "    .dataframe tbody tr th:only-of-type {\n",
       "        vertical-align: middle;\n",
       "    }\n",
       "\n",
       "    .dataframe tbody tr th {\n",
       "        vertical-align: top;\n",
       "    }\n",
       "\n",
       "    .dataframe thead th {\n",
       "        text-align: right;\n",
       "    }\n",
       "</style>\n",
       "<table border=\"1\" class=\"dataframe\">\n",
       "  <thead>\n",
       "    <tr style=\"text-align: right;\">\n",
       "      <th></th>\n",
       "      <th>資料日期與時間</th>\n",
       "      <th>餐別帶</th>\n",
       "      <th>縣市別</th>\n",
       "      <th>店舖代號</th>\n",
       "      <th>主商圈</th>\n",
       "      <th>品號-品名稱</th>\n",
       "      <th>群號-群名稱</th>\n",
       "      <th>單品名稱</th>\n",
       "      <th>銷售數量</th>\n",
       "      <th>銷售單價</th>\n",
       "      <th>交易金額</th>\n",
       "    </tr>\n",
       "    <tr>\n",
       "      <th>交易id</th>\n",
       "      <th></th>\n",
       "      <th></th>\n",
       "      <th></th>\n",
       "      <th></th>\n",
       "      <th></th>\n",
       "      <th></th>\n",
       "      <th></th>\n",
       "      <th></th>\n",
       "      <th></th>\n",
       "      <th></th>\n",
       "      <th></th>\n",
       "    </tr>\n",
       "  </thead>\n",
       "  <tbody>\n",
       "  </tbody>\n",
       "</table>\n",
       "</div>"
      ],
      "text/plain": [
       "Empty DataFrame\n",
       "Columns: [資料日期與時間, 餐別帶, 縣市別, 店舖代號, 主商圈, 品號-品名稱, 群號-群名稱, 單品名稱, 銷售數量, 銷售單價, 交易金額]\n",
       "Index: []"
      ]
     },
     "execution_count": 40,
     "metadata": {},
     "output_type": "execute_result"
    }
   ],
   "source": [
    "del_pin = ['00-新型態代收','00-傳統代收']\n",
    "datas = datas[~datas['品號-品名稱'].str.contains('|'.join(del_pin))]\n",
    "datas = datas[datas.交易金額 != 0]\n",
    "datas[datas.交易金額 == 0]"
   ]
  },
  {
   "cell_type": "code",
   "execution_count": 41,
   "metadata": {},
   "outputs": [],
   "source": [
    "class TransactionTransformer:\n",
    "    def __init__(self, transaction_id_name, item_name, transaction_amount_name, transaction_attrs=[], item_attrs=[]):\n",
    "        self.transaction_id_name = transaction_id_name\n",
    "        self.item_name = item_name\n",
    "        self.transaction_attrs = transaction_attrs\n",
    "        self.item_attrs = item_attrs\n",
    "        self.transaction_amount_name = transaction_amount_name\n",
    "    \n",
    "    def to_dict(self, df, filter_cols, group_by, aggregation_option):\n",
    "        total_cols = list(df.columns)\n",
    "        df = df.filter(filter_cols)\n",
    "        groupbyObject = df.groupby([group_by])\n",
    "        df = groupbyObject.agg(aggregation_option)\n",
    "        dic =  df.to_dict('index')\n",
    "        for index, value in dic.items():\n",
    "            value[group_by] = index\n",
    "        return dic\n",
    "\n",
    "    def get_transaction_dict(self, df):\n",
    "        filter_columns = [self.transaction_id_name, self.transaction_amount_name] + self.transaction_attrs \n",
    "        aggr_option = { key: 'first' for key in self.transaction_attrs }\n",
    "        aggr_option[self.transaction_amount_name] = 'sum'\n",
    "        return self.to_dict(df, filter_columns, self.transaction_id_name, aggr_option)\n",
    "    \n",
    "    def get_item_dict(self, df):\n",
    "        filter_columns = [self.item_name] + self.item_attrs\n",
    "        aggr_option = {key: 'first' for key in self.item_attrs }\n",
    "        return self.to_dict(df, filter_columns, self.item_name,  aggr_option)\n",
    "\n",
    "    def transform(self, df):\n",
    "        df = df.dropna()\n",
    "        transaction_dict = self.get_transaction_dict(df)\n",
    "        item_dict = self.get_item_dict(df)\n",
    "        for _, value in transaction_dict.items():\n",
    "            value['items'] = []\n",
    "\n",
    "        for index, data in df.iterrows():\n",
    "            if index in transaction_dict:\n",
    "                ts = transaction_dict[index]\n",
    "                item_name = data[self.item_name]\n",
    "                if item_name in item_dict:\n",
    "                    item = dict(item_dict[item_name])\n",
    "                    item['amount'] = data[self.transaction_amount_name]\n",
    "                    ts['items'].append(item)\n",
    "        return (list(transaction_dict.values()), list(item_dict.values()))"
   ]
  },
  {
   "cell_type": "code",
   "execution_count": 42,
   "metadata": {},
   "outputs": [],
   "source": [
    "transformer = TransactionTransformer('交易id', '單品名稱', '交易金額', TRANSACTION_ATTRS, ITEM_ATTRS)"
   ]
  },
  {
   "cell_type": "code",
   "execution_count": 43,
   "metadata": {},
   "outputs": [],
   "source": [
    "transactions, items = transformer.transform(datas)"
   ]
  },
  {
   "cell_type": "code",
   "execution_count": 44,
   "metadata": {},
   "outputs": [],
   "source": [
    "import pymongo"
   ]
  },
  {
   "cell_type": "code",
   "execution_count": 45,
   "metadata": {},
   "outputs": [],
   "source": [
    "from pymongo import MongoClient\n",
    "client = MongoClient('localhost', 27017)\n",
    "db = client['pn-pruned']"
   ]
  },
  {
   "cell_type": "code",
   "execution_count": 46,
   "metadata": {
    "scrolled": true
   },
   "outputs": [
    {
     "data": {
      "text/plain": [
       "Database(MongoClient(host=['localhost:27017'], document_class=dict, tz_aware=False, connect=True), 'pn-pruned')"
      ]
     },
     "execution_count": 46,
     "metadata": {},
     "output_type": "execute_result"
    }
   ],
   "source": [
    "db"
   ]
  },
  {
   "cell_type": "code",
   "execution_count": 47,
   "metadata": {
    "scrolled": true
   },
   "outputs": [
    {
     "data": {
      "text/plain": [
       "Collection(Database(MongoClient(host=['localhost:27017'], document_class=dict, tz_aware=False, connect=True), 'pn-pruned'), 'transactions')"
      ]
     },
     "execution_count": 47,
     "metadata": {},
     "output_type": "execute_result"
    }
   ],
   "source": [
    "db.transactions"
   ]
  },
  {
   "cell_type": "code",
   "execution_count": 48,
   "metadata": {
    "scrolled": false
   },
   "outputs": [
    {
     "data": {
      "text/plain": [
       "{'餐別帶': '一般時間帶',\n",
       " '資料日期與時間': Timestamp('2017-12-01 00:03:07'),\n",
       " '縣市別': '台中市',\n",
       " '店舖代號': 3047,\n",
       " '主商圈': '住宅型',\n",
       " '交易金額': 125.0,\n",
       " '交易id': '00324420171201000307000118769702',\n",
       " 'items': [{'品號-品名稱': '58-香煙',\n",
       "   '群號-群名稱': '585-進口濃煙',\n",
       "   '銷售單價': 125.0,\n",
       "   '單品名稱': '倫敦登喜路精裁１０毫克香菸',\n",
       "   'amount': 125.0}]}"
      ]
     },
     "execution_count": 48,
     "metadata": {},
     "output_type": "execute_result"
    }
   ],
   "source": [
    "transactions[0]"
   ]
  },
  {
   "cell_type": "code",
   "execution_count": 49,
   "metadata": {},
   "outputs": [],
   "source": [
    "ids = db.transactions.insert_many(transactions)"
   ]
  },
  {
   "cell_type": "code",
   "execution_count": 50,
   "metadata": {},
   "outputs": [],
   "source": [
    "item_ids = db.items.insert_many(items)"
   ]
  },
  {
   "cell_type": "code",
   "execution_count": 51,
   "metadata": {},
   "outputs": [],
   "source": [
    "test = db.items.find({ '單品名稱': { '$regex': '倫敦' }}).limit(5)"
   ]
  },
  {
   "cell_type": "code",
   "execution_count": 52,
   "metadata": {
    "scrolled": true
   },
   "outputs": [
    {
     "data": {
      "text/plain": [
       "[{'_id': ObjectId('5d06782eb445b83fd4c0cdaf'),\n",
       "  '品號-品名稱': '58-香煙',\n",
       "  '群號-群名稱': '584-進口淡煙',\n",
       "  '銷售單價': 125.0,\n",
       "  '單品名稱': '倫敦登喜路精裁１毫克香煙'},\n",
       " {'_id': ObjectId('5d06782eb445b83fd4c0cdb0'),\n",
       "  '品號-品名稱': '58-香煙',\n",
       "  '群號-群名稱': '585-進口濃煙',\n",
       "  '銷售單價': 125.0,\n",
       "  '單品名稱': '倫敦登喜路精裁１０毫克香菸'},\n",
       " {'_id': ObjectId('5d06782eb445b83fd4c0cdb1'),\n",
       "  '品號-品名稱': '58-香煙',\n",
       "  '群號-群名稱': '584-進口淡煙',\n",
       "  '銷售單價': 125.0,\n",
       "  '單品名稱': '倫敦登喜路精裁４毫克香菸'},\n",
       " {'_id': ObjectId('5d06782eb445b83fd4c0cdb2'),\n",
       "  '品號-品名稱': '58-香煙',\n",
       "  '群號-群名稱': '584-進口淡煙',\n",
       "  '銷售單價': 125.0,\n",
       "  '單品名稱': '倫敦登喜路精裁７毫克香菸'},\n",
       " {'_id': ObjectId('5d06782eb445b83fd4c0cdb3'),\n",
       "  '品號-品名稱': '58-香煙',\n",
       "  '群號-群名稱': '584-進口淡煙',\n",
       "  '銷售單價': 125.0,\n",
       "  '單品名稱': '倫敦登喜路隨選風味香菸３號'}]"
      ]
     },
     "execution_count": 52,
     "metadata": {},
     "output_type": "execute_result"
    }
   ],
   "source": [
    "list(test)"
   ]
  },
  {
   "cell_type": "code",
   "execution_count": null,
   "metadata": {},
   "outputs": [],
   "source": []
  }
 ],
 "metadata": {
  "kernelspec": {
   "display_name": "Python 3",
   "language": "python",
   "name": "python3"
  },
  "language_info": {
   "codemirror_mode": {
    "name": "ipython",
    "version": 3
   },
   "file_extension": ".py",
   "mimetype": "text/x-python",
   "name": "python",
   "nbconvert_exporter": "python",
   "pygments_lexer": "ipython3",
   "version": "3.7.1"
  }
 },
 "nbformat": 4,
 "nbformat_minor": 2
}
