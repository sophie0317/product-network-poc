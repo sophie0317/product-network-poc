{
 "cells": [
  {
   "cell_type": "code",
   "execution_count": 2,
   "metadata": {},
   "outputs": [],
   "source": [
    "import pandas as pd\n",
    "import numpy"
   ]
  },
  {
   "cell_type": "code",
   "execution_count": 3,
   "metadata": {},
   "outputs": [],
   "source": [
    "dtype = {\n",
    "    '交易id': numpy.str,\n",
    "    '資料日期': numpy.str,\n",
    "    '資料時間': numpy.str,\n",
    "    '餐別帶': numpy.str,\n",
    "    '縣市別': numpy.str,\n",
    "    '店舖代號': numpy.uint32,\n",
    "    '主商圈': numpy.str,\n",
    "    '品號-品名稱': numpy.str,\n",
    "    '群號-群名稱': numpy.str,\n",
    "    '單品名稱': numpy.str,\n",
    "    '銷售數量': numpy.uint16,\n",
    "    '銷售單價': numpy.float,\n",
    "    '交易金額': numpy.float\n",
    "}\n",
    "USE_COLUMNS = ['交易id', '資料日期', '資料時間', '餐別帶', '縣市別', '店舖代號', '主商圈', '品號-品名稱',\n",
    "       '群號-群名稱', '單品名稱', '銷售數量', '銷售單價', '交易金額']\n",
    "PARSE_DATES = {\n",
    "    '資料日期與時間': [\n",
    "        '資料日期',\n",
    "        '資料時間'\n",
    "    ]\n",
    "}"
   ]
  },
  {
   "cell_type": "code",
   "execution_count": 4,
   "metadata": {},
   "outputs": [],
   "source": [
    "file = pd.read_csv('customer_data(utf-8).csv',\n",
    "                   index_col=1,\n",
    "                   nrows=100000,\n",
    "                   usecols=USE_COLUMNS,\n",
    "                   dtype=dtype,\n",
    "                   parse_dates=PARSE_DATES,\n",
    "        )"
   ]
  },
  {
   "cell_type": "code",
   "execution_count": 5,
   "metadata": {},
   "outputs": [],
   "source": [
    "file = file.dropna()"
   ]
  },
  {
   "cell_type": "code",
   "execution_count": 6,
   "metadata": {
    "scrolled": true
   },
   "outputs": [
    {
     "data": {
      "text/plain": [
       "(99981, 11)"
      ]
     },
     "execution_count": 6,
     "metadata": {},
     "output_type": "execute_result"
    }
   ],
   "source": [
    "file.shape"
   ]
  },
  {
   "cell_type": "code",
   "execution_count": 7,
   "metadata": {},
   "outputs": [],
   "source": [
    "def get_copurchase_df(df):\n",
    "    count_size = df.index.unique()\n",
    "    size_df = df.groupby('交易id').size()\n",
    "    size_df = size_df[size_df < 2]\n",
    "    return df.drop(list(size_df.index), axis=0)"
   ]
  },
  {
   "cell_type": "code",
   "execution_count": 8,
   "metadata": {},
   "outputs": [],
   "source": [
    "data = get_copurchase_df(file)"
   ]
  },
  {
   "cell_type": "code",
   "execution_count": 9,
   "metadata": {},
   "outputs": [
    {
     "data": {
      "text/html": [
       "<div>\n",
       "<style scoped>\n",
       "    .dataframe tbody tr th:only-of-type {\n",
       "        vertical-align: middle;\n",
       "    }\n",
       "\n",
       "    .dataframe tbody tr th {\n",
       "        vertical-align: top;\n",
       "    }\n",
       "\n",
       "    .dataframe thead th {\n",
       "        text-align: right;\n",
       "    }\n",
       "</style>\n",
       "<table border=\"1\" class=\"dataframe\">\n",
       "  <thead>\n",
       "    <tr style=\"text-align: right;\">\n",
       "      <th></th>\n",
       "      <th>資料日期與時間</th>\n",
       "      <th>餐別帶</th>\n",
       "      <th>縣市別</th>\n",
       "      <th>店舖代號</th>\n",
       "      <th>主商圈</th>\n",
       "      <th>品號-品名稱</th>\n",
       "      <th>群號-群名稱</th>\n",
       "      <th>單品名稱</th>\n",
       "      <th>銷售數量</th>\n",
       "      <th>銷售單價</th>\n",
       "      <th>交易金額</th>\n",
       "    </tr>\n",
       "    <tr>\n",
       "      <th>交易id</th>\n",
       "      <th></th>\n",
       "      <th></th>\n",
       "      <th></th>\n",
       "      <th></th>\n",
       "      <th></th>\n",
       "      <th></th>\n",
       "      <th></th>\n",
       "      <th></th>\n",
       "      <th></th>\n",
       "      <th></th>\n",
       "      <th></th>\n",
       "    </tr>\n",
       "  </thead>\n",
       "  <tbody>\n",
       "    <tr>\n",
       "      <th>01637920171201184556000112534201</th>\n",
       "      <td>2017-12-01 18:45:56</td>\n",
       "      <td>晚餐時間帶</td>\n",
       "      <td>台中市</td>\n",
       "      <td>11148</td>\n",
       "      <td>住宅型</td>\n",
       "      <td>72-家庭雜貨</td>\n",
       "      <td>722-家雜用品</td>\n",
       "      <td>（新）銷售用購物袋１８號袋</td>\n",
       "      <td>1</td>\n",
       "      <td>1.0</td>\n",
       "      <td>1.0</td>\n",
       "    </tr>\n",
       "    <tr>\n",
       "      <th>01614720171201163042000114405402</th>\n",
       "      <td>2017-12-01 16:30:42</td>\n",
       "      <td>下午茶時間帶</td>\n",
       "      <td>台中市</td>\n",
       "      <td>10697</td>\n",
       "      <td>住宅型</td>\n",
       "      <td>29-冷藏飲料</td>\n",
       "      <td>296-冷藏奶茶</td>\n",
       "      <td>飲冰室茶集綠奶茶</td>\n",
       "      <td>1</td>\n",
       "      <td>25.0</td>\n",
       "      <td>25.0</td>\n",
       "    </tr>\n",
       "    <tr>\n",
       "      <th>01384020171201130558000119295301</th>\n",
       "      <td>2017-12-01 13:05:58</td>\n",
       "      <td>午餐時間帶</td>\n",
       "      <td>彰化縣</td>\n",
       "      <td>13840</td>\n",
       "      <td>文教型</td>\n",
       "      <td>12-調理麵</td>\n",
       "      <td>122-熱食麵２配</td>\n",
       "      <td>沙茶牛肉炒麵</td>\n",
       "      <td>1</td>\n",
       "      <td>69.0</td>\n",
       "      <td>69.0</td>\n",
       "    </tr>\n",
       "    <tr>\n",
       "      <th>01475120171201153506000111697202</th>\n",
       "      <td>2017-12-01 15:35:06</td>\n",
       "      <td>下午茶時間帶</td>\n",
       "      <td>新竹市</td>\n",
       "      <td>4151</td>\n",
       "      <td>工業型</td>\n",
       "      <td>29-冷藏飲料</td>\n",
       "      <td>291-冷藏茶飲料</td>\n",
       "      <td>冷泡茶台茶１２號紅茶</td>\n",
       "      <td>1</td>\n",
       "      <td>25.0</td>\n",
       "      <td>21.0</td>\n",
       "    </tr>\n",
       "    <tr>\n",
       "      <th>01564720171201180924000113751602</th>\n",
       "      <td>2017-12-01 18:09:24</td>\n",
       "      <td>晚餐時間帶</td>\n",
       "      <td>台中市</td>\n",
       "      <td>3860</td>\n",
       "      <td>住宅型</td>\n",
       "      <td>34-健康飲料</td>\n",
       "      <td>343-水</td>\n",
       "      <td>多喝水２Ｌ</td>\n",
       "      <td>2</td>\n",
       "      <td>35.0</td>\n",
       "      <td>49.0</td>\n",
       "    </tr>\n",
       "  </tbody>\n",
       "</table>\n",
       "</div>"
      ],
      "text/plain": [
       "                                             資料日期與時間     餐別帶  縣市別   店舖代號  主商圈  \\\n",
       "交易id                                                                            \n",
       "01637920171201184556000112534201 2017-12-01 18:45:56   晚餐時間帶  台中市  11148  住宅型   \n",
       "01614720171201163042000114405402 2017-12-01 16:30:42  下午茶時間帶  台中市  10697  住宅型   \n",
       "01384020171201130558000119295301 2017-12-01 13:05:58   午餐時間帶  彰化縣  13840  文教型   \n",
       "01475120171201153506000111697202 2017-12-01 15:35:06  下午茶時間帶  新竹市   4151  工業型   \n",
       "01564720171201180924000113751602 2017-12-01 18:09:24   晚餐時間帶  台中市   3860  住宅型   \n",
       "\n",
       "                                   品號-品名稱     群號-群名稱           單品名稱  銷售數量  \\\n",
       "交易id                                                                        \n",
       "01637920171201184556000112534201  72-家庭雜貨   722-家雜用品  （新）銷售用購物袋１８號袋     1   \n",
       "01614720171201163042000114405402  29-冷藏飲料   296-冷藏奶茶       飲冰室茶集綠奶茶     1   \n",
       "01384020171201130558000119295301   12-調理麵  122-熱食麵２配         沙茶牛肉炒麵     1   \n",
       "01475120171201153506000111697202  29-冷藏飲料  291-冷藏茶飲料     冷泡茶台茶１２號紅茶     1   \n",
       "01564720171201180924000113751602  34-健康飲料      343-水          多喝水２Ｌ     2   \n",
       "\n",
       "                                  銷售單價  交易金額  \n",
       "交易id                                          \n",
       "01637920171201184556000112534201   1.0   1.0  \n",
       "01614720171201163042000114405402  25.0  25.0  \n",
       "01384020171201130558000119295301  69.0  69.0  \n",
       "01475120171201153506000111697202  25.0  21.0  \n",
       "01564720171201180924000113751602  35.0  49.0  "
      ]
     },
     "execution_count": 9,
     "metadata": {},
     "output_type": "execute_result"
    }
   ],
   "source": [
    "data.head()"
   ]
  },
  {
   "cell_type": "code",
   "execution_count": 10,
   "metadata": {},
   "outputs": [],
   "source": [
    "def aggregate(df):\n",
    "    dic = {}\n",
    "    for index, row in df.iterrows():\n",
    "        if index not in dic:\n",
    "            dic[index] = []\n",
    "        dic[index].append({\n",
    "            'name': row['單品名稱'],\n",
    "            'amount': row['銷售單價']\n",
    "        })\n",
    "    dic = { index : value for index, value in dic.items() if len(value) > 1}\n",
    "    return dic"
   ]
  },
  {
   "cell_type": "code",
   "execution_count": 11,
   "metadata": {},
   "outputs": [],
   "source": [
    "purchase_list = aggregate(data)"
   ]
  },
  {
   "cell_type": "code",
   "execution_count": 12,
   "metadata": {},
   "outputs": [],
   "source": [
    "from pymongo import MongoClient"
   ]
  },
  {
   "cell_type": "code",
   "execution_count": 13,
   "metadata": {},
   "outputs": [],
   "source": [
    "client = MongoClient('localhost', 27017)\n",
    "db = client['pn']"
   ]
  },
  {
   "cell_type": "code",
   "execution_count": 14,
   "metadata": {},
   "outputs": [],
   "source": [
    "purchase_list = list(db['transactions'].find({'items.1': { '$exists': True } }, projection=['items']))"
   ]
  },
  {
   "cell_type": "code",
   "execution_count": 131,
   "metadata": {},
   "outputs": [
    {
     "data": {
      "text/plain": [
       "{'_id': ObjectId('5ccfa1068e090479028fdd8b'),\n",
       " 'items': [{'品號-品名稱': '19-吐司蛋糕',\n",
       "   '群號-群名稱': '192-蛋糕',\n",
       "   '銷售單價': 35.0,\n",
       "   '單品名稱': '雞蛋牛奶捲',\n",
       "   'amount': 70.0},\n",
       "  {'品號-品名稱': '00-傳統代收',\n",
       "   '群號-群名稱': '18-代碼繳費',\n",
       "   '銷售單價': 0.0,\n",
       "   '單品名稱': '代碼繳費１',\n",
       "   'amount': 0.0}]}"
      ]
     },
     "execution_count": 131,
     "metadata": {},
     "output_type": "execute_result"
    }
   ],
   "source": [
    "purchase_list[1]"
   ]
  },
  {
   "cell_type": "code",
   "execution_count": 16,
   "metadata": {},
   "outputs": [
    {
     "data": {
      "text/plain": [
       "23288"
      ]
     },
     "execution_count": 16,
     "metadata": {},
     "output_type": "execute_result"
    }
   ],
   "source": [
    "len(purchase_list)"
   ]
  },
  {
   "cell_type": "markdown",
   "metadata": {
    "collapsed": true
   },
   "source": [
    "# Network Analysis"
   ]
  },
  {
   "cell_type": "code",
   "execution_count": 160,
   "metadata": {},
   "outputs": [],
   "source": [
    "from itertools import filterfalse\n",
    "def convert(purchase_list, support):\n",
    "    def find_edges_in_list(itemsets):\n",
    "        from itertools import combinations\n",
    "        result = []\n",
    "        return combinations(itemsets, 2)\n",
    "    result = {}\n",
    "    nodes = set()\n",
    "    for transaction in purchase_list:\n",
    "        itemsets = transaction['items']\n",
    "        if len(itemsets) > 1:\n",
    "            for edge_dict_tuple in find_edges_in_list(itemsets):\n",
    "                edge = tuple([dic['單品名稱'] for dic in edge_dict_tuple])\n",
    "                weight = sum([dic['amount'] for dic in edge_dict_tuple])\n",
    "                if edge in result:\n",
    "                    result[edge]['count'] += 1\n",
    "                    result[edge]['weight'] += weight\n",
    "                else:\n",
    "                    result[edge] = {}\n",
    "                    result[edge]['count'] = 1\n",
    "                    result[edge]['weight'] = weight\n",
    "    for key in list(result.keys()):\n",
    "        if result[key]['count']/len(purchase_list) < support:\n",
    "            del result[key]\n",
    "    for items in result.keys():\n",
    "        for item in items:\n",
    "            if item not in nodes:\n",
    "                nodes.add(item)\n",
    "    return (nodes, result)"
   ]
  },
  {
   "cell_type": "code",
   "execution_count": 215,
   "metadata": {},
   "outputs": [],
   "source": [
    "nodes, edges_dict = convert(purchase_list, 0.0003)"
   ]
  },
  {
   "cell_type": "code",
   "execution_count": 216,
   "metadata": {
    "scrolled": true
   },
   "outputs": [
    {
     "name": "stdout",
     "output_type": "stream",
     "text": [
      "Node number: 231\n",
      "Edge number: 571\n"
     ]
    }
   ],
   "source": [
    "print('Node number: {}\\nEdge number: {}'.format(len(nodes), len(edges_dict)))"
   ]
  },
  {
   "cell_type": "code",
   "execution_count": 217,
   "metadata": {},
   "outputs": [],
   "source": [
    "import igraph"
   ]
  },
  {
   "cell_type": "code",
   "execution_count": 218,
   "metadata": {},
   "outputs": [],
   "source": [
    "g = igraph.Graph()"
   ]
  },
  {
   "cell_type": "code",
   "execution_count": 219,
   "metadata": {},
   "outputs": [],
   "source": [
    "for node in nodes:\n",
    "    g.add_vertex(node)"
   ]
  },
  {
   "cell_type": "code",
   "execution_count": 220,
   "metadata": {
    "scrolled": false
   },
   "outputs": [
    {
     "data": {
      "text/plain": [
       "231"
      ]
     },
     "execution_count": 220,
     "metadata": {},
     "output_type": "execute_result"
    }
   ],
   "source": [
    "len(g.vs)"
   ]
  },
  {
   "cell_type": "code",
   "execution_count": 221,
   "metadata": {},
   "outputs": [],
   "source": [
    "for edge, attrs in edges_dict.items():\n",
    "    weight = attrs['weight'] * attrs['count'] if attrs['weight'] > 0 else 1\n",
    "    g.add_edge(edge[0], edge[1], weight=weight)"
   ]
  },
  {
   "cell_type": "code",
   "execution_count": 222,
   "metadata": {},
   "outputs": [],
   "source": [
    "g.simplify(combine_edges={ \"weight\": \"sum\" })\n",
    "g.to_undirected(mode='mutual', combine_edges={ \"weight\": \"sum\" })"
   ]
  },
  {
   "cell_type": "code",
   "execution_count": 223,
   "metadata": {
    "scrolled": true
   },
   "outputs": [],
   "source": [
    "communities = g.community_fastgreedy('weight')"
   ]
  },
  {
   "cell_type": "code",
   "execution_count": 224,
   "metadata": {},
   "outputs": [],
   "source": [
    "cluster = communities.as_clustering()"
   ]
  },
  {
   "cell_type": "code",
   "execution_count": 225,
   "metadata": {
    "scrolled": true
   },
   "outputs": [
    {
     "data": {
      "text/plain": [
       "35"
      ]
     },
     "execution_count": 225,
     "metadata": {},
     "output_type": "execute_result"
    }
   ],
   "source": [
    "len(cluster)"
   ]
  },
  {
   "cell_type": "code",
   "execution_count": 188,
   "metadata": {
    "scrolled": false
   },
   "outputs": [
    {
     "name": "stdout",
     "output_type": "stream",
     "text": [
      "（新）銷售用購物袋１８號袋 伯朗咖啡 蘋果冰茶 御茶園特上奶茶 保力達蠻牛維他命Ｂ飲料 麥香錫蘭奶茶 全家紅豆麵包 奶油雞排歐姆蛋燴飯 鹼性離子水 衛生冰 麥香奶茶ＴＰ３００ 茶裏王日式綠茶 台鹽海洋鹼性離子水 金牌台灣啤酒 冷泡茶冷萃綠茶無糖 全家克林姆麵包 蔥爆牛肉燴飯 可口可樂ＰＥＴ 純喫茶鮮柚綠茶６５０ｍｌ 寶礦力水得 茶裏王英式紅茶 雲絲頓紅１０毫克香煙 金蘋果調味乳蘋果風味 金牌台啤罐裝（６入） 義美奶茶 藍山咖啡 純喫茶紅茶 （新）４５號銷售用購物袋 冷泡茶冰釀烏龍 飲冰室茶集綠奶茶 飲冰室茶集紅奶茶 統一布丁（雞蛋口味） 科學麵 泡沫綠茶ＴＰ３００ 純喫茶無糖綠茶６５０ｍｌ 麥香綠茶ＴＰ３００ 義美錫蘭紅茶 麥香阿薩姆奶茶 紫米紅豆湯圓 麥香紅茶ＴＰ３００ 金牌台灣啤酒５００ＭＬ 原萃日式綠茶 ＦＩＮ深海健康補給飲料 皇家奶茶 貝納頌經典拿鐵 海苔肉鬆沙拉麵包 舒跑運動飲料ＰＥＴ 天然水２．２Ｌ 泡沫紅茶ＴＰ３００ 日式蒜香燒豚飯 葡萄冰茶 長壽黃硬盒香煙 純喫茶綠茶６５０ｍｌ 咖啡廣場奶香特調咖啡 天然水 芒果冰茶 七星１０毫克硬盒香煙 純喫茶紅茶６５０ｍｌ\n",
      "==================\n",
      "熱美式中杯 養樂多 頂級鮮奶優格－莓果穀物脆片 蕃薯（２５元） 香蕉單入 肉鬆起酥麵包 特濃咖啡拿鐵 蝦皮取件Ｃ 蕃薯（３０元） 雪花蛋糕 麥香奶茶（罐裝） 經典原味熱狗 大口奶油蕈菇起司雞排飯糰 肉鬆飯糰 光泉無加糖鮮豆漿 熱拿鐵大杯 全家熱狗麵包 茶葉蛋（銷售用） 重黑巧克力蛋糕 爆濃起司熱狗 蕃薯（２０元） 番薯（３５元） 蕃薯（１５元） 統一陽光無糖高纖豆漿 ＬＣＡ活菌原味發酵乳 光泉米漿 熱美式小杯 簡單點原味優酪乳 特濃黑可可 熱美式大杯 熱拿鐵中杯 綠豆沙牛乳 黑胡椒熱狗 林鳳營全脂鮮乳 全家花生夾心土司（２入） 鮮奶茶 義美古早傳統無糖豆奶 商店街取件 光泉無加糖黑豆漿 義美全脂鮮乳２３６ｍｌ 熱拿鐵小杯 簡單點無加糖優酪乳 統一大布丁（雞蛋口味） ＦＰ取件 ＥＣ代收一 鮪魚飯糰 特濃抹茶拿鐵 大口法香烤雞飯糰 冰拿鐵大杯\n",
      "==================\n",
      "午后時光鐵觀音奶茶 午后時光王室大吉嶺奶茶 午后時光皇家伯爵奶茶\n",
      "==================\n",
      "冰鎮檸檬紅茶６５０ｍｌ 冰鎮芭樂綠茶６５０ｍｌ\n",
      "==================\n",
      "Ｃｒｅａｍ－Ｏ黑巧克力三明治餅 促銷券０６ 伊藤園蘋果紅茶 頑皮滷蛋－原味\n",
      "==================\n",
      "戰禍邪神第１１章 戰禍邪神第１２章\n",
      "==================\n",
      "關東煮本舖拉麵 手工高麗菜捲 究極味付蛋 讚岐烏龍麵 海鮮魚卵棒 日式黑輪 關東煮本舖冬粉 野菜多多魚餅 特級花枝丸 鮮香菇 旗魚黑輪 筊白筍 蟹肉糰子 黃金魚豆腐 王子麵 千層玉子燒 白玉蘿蔔 杏鮑菇 黃金厚切魚板\n",
      "==================\n",
      "台鐵取票 台鐵手續費\n",
      "==================\n",
      "健保費代收 國民年金代 玉山信用卡 合庫瓦斯費 中信有線代 聯邦信用卡 花旗信用卡 欣中天然氣 代收手續費４ 台灣電力 地方查核稅款 台灣大哥大 亞太電信代 國泰世華卡 欣林瓦斯費 勞工退休金 台灣自來水 勞保費代收 遠傳電信 富邦信用卡 中華電信 台新信用卡 台中二段停\n",
      "==================\n",
      "紅標料理米酒 空瓶回收（銷售用）\n",
      "==================\n",
      "雅虎拍賣寄件 蝦皮寄件Ｆ 商店街寄件Ｆ 店到店雅虎拍賣手續費\n",
      "==================\n",
      "台中裁即銷罰 交通罰鍰代收即銷手續費\n",
      "==================\n",
      "促銷券１０ ＭＭ花生巧克力\n",
      "==================\n",
      "奶香綠茶３３０ＭＬ ＡＷ極酷嗆涼紫冰野莓口香糖 超涼口香糖（袋） 優格軟糖（Ｐｅａｃｈ） 優格軟糖（Ｏｒａｎｇｅ） 潤喉糖－蜂蜜檸檬 代收折價卷\n",
      "==================\n",
      "蝦皮寄件Ｗ 露天寄件Ｗ 店到店雅虎拍賣線上手續費 雅虎線上寄件 商店街寄件Ｗ\n",
      "==================\n",
      "ＦＰ店到店 店到店ＦＰ手續費\n",
      "==================\n",
      "合庫代１５ 玉山淘寶款 中信外１５ 代收手續費１５ 雅虎拍賣繳費\n",
      "==================\n",
      "牛奶杏仁乳加 黑巧杏仁乳加\n",
      "==================\n",
      "代收手續費６ 台中裁罰單 台銀學雜費\n",
      "==================\n",
      "焗烤鮪魚歐姆蛋三明治 貝納頌海鹽風味拿鐵\n",
      "==================\n",
      "原味ＹＵＲＯＣＫ魚薯條無 辣味ＹＵＲＯＣＫ魚薯條無\n",
      "==================\n",
      "國光購票 國光客運手續費\n",
      "==================\n",
      "高鐵手續費 高鐵取票\n",
      "==================\n",
      "代收手續費５ 通行繳費 ｅＴａｇ繳費\n",
      "==================\n",
      "麥香奶茶ＴＰ３７５ 麥香紅茶ＴＰ３７５\n",
      "==================\n",
      "能多益隨手杯 促銷券０９\n",
      "==================\n",
      "熱美式中杯－票券優惠專用 票券優惠條碼１\n",
      "==================\n",
      "渣打一般３ 代收手續費１３\n",
      "==================\n",
      "健達奇趣蛋單顆（女孩版） 健達奇趣蛋單顆（男孩版）\n",
      "==================\n",
      "代收手續費２５ 寶物交易代\n",
      "==================\n",
      "統聯客運購票 統聯客運手續費 統聯客運取票\n",
      "==================\n",
      "聯合報 自由時報 蘋果日報\n",
      "==================\n",
      "遠銀一般代Ｚ 代收手續費１０\n",
      "==================\n",
      "火腿青蔬洋芋沙拉 千島醬\n",
      "==================\n",
      "樂事鹽烤蒜味洋芋片－日本版 大波浪炙燒海鮮味洋芋片\n",
      "==================\n"
     ]
    }
   ],
   "source": [
    "for comm in cluster:\n",
    "    comm_name = [g.vs[index]['name'] for index in comm]\n",
    "    print(\" \".join(comm_name))\n",
    "    print(\"==================\")"
   ]
  },
  {
   "cell_type": "code",
   "execution_count": 226,
   "metadata": {
    "scrolled": true
   },
   "outputs": [
    {
     "data": {
      "text/plain": [
       "0.6625472802880235"
      ]
     },
     "execution_count": 226,
     "metadata": {},
     "output_type": "execute_result"
    }
   ],
   "source": [
    "cluster.modularity"
   ]
  },
  {
   "cell_type": "code",
   "execution_count": 227,
   "metadata": {},
   "outputs": [],
   "source": [
    "items = []\n",
    "for index, value in enumerate(g.betweenness(weights='weight')):\n",
    "    if value > 0:\n",
    "        items.append({ 'name': g.vs[index]['name'], 'betweeness': value })\n",
    "items.sort(key=lambda x: x['betweeness'], reverse=True)"
   ]
  },
  {
   "cell_type": "code",
   "execution_count": 191,
   "metadata": {
    "scrolled": false
   },
   "outputs": [
    {
     "data": {
      "text/plain": [
       "[{'name': '（新）銷售用購物袋１８號袋', 'betweeness': 5390.0},\n",
       " {'name': '茶葉蛋（銷售用）', 'betweeness': 4178.0},\n",
       " {'name': '統一大布丁（雞蛋口味）', 'betweeness': 3035.0},\n",
       " {'name': '促銷券０６', 'betweeness': 987.0},\n",
       " {'name': '代收折價卷', 'betweeness': 680.0},\n",
       " {'name': '熱拿鐵中杯', 'betweeness': 564.0},\n",
       " {'name': '肉鬆飯糰', 'betweeness': 440.0},\n",
       " {'name': '蝦皮取件Ｃ', 'betweeness': 344.0},\n",
       " {'name': '經典原味熱狗', 'betweeness': 343.0},\n",
       " {'name': '鮪魚飯糰', 'betweeness': 338.0}]"
      ]
     },
     "execution_count": 191,
     "metadata": {},
     "output_type": "execute_result"
    }
   ],
   "source": [
    "items[0:10]"
   ]
  },
  {
   "cell_type": "code",
   "execution_count": 192,
   "metadata": {},
   "outputs": [
    {
     "data": {
      "text/plain": [
       "[54,\n",
       " 1,\n",
       " 1,\n",
       " 5,\n",
       " 1,\n",
       " 1,\n",
       " 1,\n",
       " 3,\n",
       " 1,\n",
       " 1,\n",
       " 1,\n",
       " 1,\n",
       " 2,\n",
       " 1,\n",
       " 1,\n",
       " 15,\n",
       " 15,\n",
       " 1,\n",
       " 10,\n",
       " 1,\n",
       " 1,\n",
       " 4,\n",
       " 1,\n",
       " 1,\n",
       " 1,\n",
       " 10,\n",
       " 5,\n",
       " 5,\n",
       " 1,\n",
       " 1,\n",
       " 1,\n",
       " 5,\n",
       " 2,\n",
       " 1,\n",
       " 1,\n",
       " 5,\n",
       " 1,\n",
       " 2,\n",
       " 1,\n",
       " 1,\n",
       " 5,\n",
       " 2,\n",
       " 3,\n",
       " 5,\n",
       " 1,\n",
       " 12,\n",
       " 4,\n",
       " 1,\n",
       " 1,\n",
       " 1,\n",
       " 3,\n",
       " 1,\n",
       " 1,\n",
       " 1,\n",
       " 3,\n",
       " 15,\n",
       " 3,\n",
       " 33,\n",
       " 6,\n",
       " 1,\n",
       " 1,\n",
       " 1,\n",
       " 2,\n",
       " 3,\n",
       " 5,\n",
       " 1,\n",
       " 2,\n",
       " 1,\n",
       " 1,\n",
       " 1,\n",
       " 1,\n",
       " 2,\n",
       " 1,\n",
       " 3,\n",
       " 1,\n",
       " 1,\n",
       " 1,\n",
       " 1,\n",
       " 1,\n",
       " 1,\n",
       " 1,\n",
       " 1,\n",
       " 1,\n",
       " 2,\n",
       " 2,\n",
       " 13,\n",
       " 1,\n",
       " 1,\n",
       " 4,\n",
       " 1,\n",
       " 1,\n",
       " 1,\n",
       " 1,\n",
       " 14,\n",
       " 7,\n",
       " 2,\n",
       " 1,\n",
       " 3,\n",
       " 1,\n",
       " 1,\n",
       " 1,\n",
       " 3,\n",
       " 2,\n",
       " 2,\n",
       " 5,\n",
       " 1,\n",
       " 1,\n",
       " 1,\n",
       " 1,\n",
       " 1,\n",
       " 2,\n",
       " 2,\n",
       " 1,\n",
       " 1,\n",
       " 2,\n",
       " 4,\n",
       " 5,\n",
       " 12,\n",
       " 1,\n",
       " 1,\n",
       " 2,\n",
       " 1,\n",
       " 8,\n",
       " 1,\n",
       " 1,\n",
       " 1,\n",
       " 1,\n",
       " 1,\n",
       " 1,\n",
       " 1,\n",
       " 2,\n",
       " 1,\n",
       " 2,\n",
       " 15,\n",
       " 3,\n",
       " 3,\n",
       " 1,\n",
       " 2,\n",
       " 4,\n",
       " 2,\n",
       " 13,\n",
       " 2,\n",
       " 1,\n",
       " 1,\n",
       " 2,\n",
       " 1,\n",
       " 4,\n",
       " 2,\n",
       " 1,\n",
       " 1,\n",
       " 1,\n",
       " 1,\n",
       " 1,\n",
       " 1,\n",
       " 11,\n",
       " 14,\n",
       " 1,\n",
       " 1,\n",
       " 1,\n",
       " 1,\n",
       " 1,\n",
       " 12,\n",
       " 1,\n",
       " 2,\n",
       " 2,\n",
       " 2,\n",
       " 2,\n",
       " 1,\n",
       " 1,\n",
       " 3,\n",
       " 1,\n",
       " 1,\n",
       " 1,\n",
       " 1,\n",
       " 1,\n",
       " 1,\n",
       " 1,\n",
       " 3,\n",
       " 1,\n",
       " 1,\n",
       " 2,\n",
       " 1,\n",
       " 1,\n",
       " 1,\n",
       " 1,\n",
       " 16,\n",
       " 1,\n",
       " 2,\n",
       " 1,\n",
       " 2,\n",
       " 1,\n",
       " 2,\n",
       " 1,\n",
       " 2,\n",
       " 1,\n",
       " 15,\n",
       " 1,\n",
       " 1,\n",
       " 1,\n",
       " 14,\n",
       " 17,\n",
       " 1,\n",
       " 5,\n",
       " 1,\n",
       " 1,\n",
       " 4,\n",
       " 3,\n",
       " 2,\n",
       " 4,\n",
       " 1,\n",
       " 1,\n",
       " 3,\n",
       " 2,\n",
       " 2,\n",
       " 3,\n",
       " 2,\n",
       " 1,\n",
       " 1,\n",
       " 15,\n",
       " 13,\n",
       " 1,\n",
       " 9,\n",
       " 1,\n",
       " 8,\n",
       " 2,\n",
       " 1,\n",
       " 1,\n",
       " 4,\n",
       " 7,\n",
       " 1,\n",
       " 1]"
      ]
     },
     "execution_count": 192,
     "metadata": {},
     "output_type": "execute_result"
    }
   ],
   "source": [
    "g.degree()"
   ]
  },
  {
   "cell_type": "code",
   "execution_count": 193,
   "metadata": {},
   "outputs": [],
   "source": [
    "for index, vertex in enumerate(g.vs):\n",
    "    vertex.update_attributes({ 'community': cluster.membership[index], 'id': index })"
   ]
  },
  {
   "cell_type": "code",
   "execution_count": 194,
   "metadata": {},
   "outputs": [],
   "source": [
    "def normalizer(max_degree):\n",
    "    max_value = max_degree\n",
    "    min_value = 1\n",
    "    def normalize(value):\n",
    "        return (value - min_value) / max_value + 1\n",
    "    return normalize"
   ]
  },
  {
   "cell_type": "code",
   "execution_count": 195,
   "metadata": {},
   "outputs": [],
   "source": [
    "import json\n",
    "def to_json(graph, cluster):\n",
    "    for index, vertex in enumerate(graph.vs):\n",
    "        vertex.update_attributes({ 'community': cluster.membership[index], 'id': index })\n",
    "    norm= normalizer(graph.maxdegree())\n",
    "    nodes = []\n",
    "    edges = []\n",
    "    for edge in graph.es:\n",
    "        edge_attr = {}\n",
    "        edge_attr['from'], edge_attr['to'] = edge.tuple\n",
    "        edge_attr['weight'] = edge['weight']\n",
    "        edges.append(edge_attr)\n",
    "    for node in graph.vs:\n",
    "        node_attr = {}\n",
    "        node_attr = { key: node[key] for key in node.attributes()}\n",
    "        node_attr['degree'] = node.degree()\n",
    "        nodes.append(node_attr)\n",
    "    return json.dumps({\n",
    "        'nodes': nodes,\n",
    "        'edges': edges,\n",
    "    }, indent=4)"
   ]
  },
  {
   "cell_type": "code",
   "execution_count": 72,
   "metadata": {},
   "outputs": [],
   "source": [
    "data = to_json(g, cluster)"
   ]
  },
  {
   "cell_type": "code",
   "execution_count": 74,
   "metadata": {},
   "outputs": [],
   "source": [
    "with open('default.json', 'w', encoding='utf-8') as file:\n",
    "    file.write(data)"
   ]
  },
  {
   "cell_type": "code",
   "execution_count": null,
   "metadata": {},
   "outputs": [],
   "source": []
  },
  {
   "cell_type": "code",
   "execution_count": null,
   "metadata": {},
   "outputs": [],
   "source": []
  },
  {
   "cell_type": "code",
   "execution_count": 1,
   "metadata": {},
   "outputs": [],
   "source": [
    "import numpy as np  \n",
    "import matplotlib.pyplot as plt  \n",
    "import pandas as pd  \n",
    "from apyori import apriori "
   ]
  },
  {
   "cell_type": "code",
   "execution_count": 228,
   "metadata": {},
   "outputs": [],
   "source": [
    "records = []  \n",
    "for i in range(0, len(purchase_list)):  \n",
    "    records.append([str(purchase_list[i]['items'][j]['單品名稱']) for j in range(0, len(purchase_list[i]))])"
   ]
  },
  {
   "cell_type": "code",
   "execution_count": 229,
   "metadata": {},
   "outputs": [],
   "source": [
    "association_rules = apriori(records, min_support=0.0003, min_confidence=0.0001, min_lift=1, min_length=2)  \n",
    "association_results = list(association_rules) "
   ]
  },
  {
   "cell_type": "code",
   "execution_count": 204,
   "metadata": {},
   "outputs": [
    {
     "name": "stdout",
     "output_type": "stream",
     "text": [
      "[RelationRecord(items=frozenset({'中信外１５', '代收手續費１５'}), support=0.002232909653040192, ordered_statistics=[OrderedStatistic(items_base=frozenset({'中信外１５'}), items_add=frozenset({'代收手續費１５'}), confidence=0.8666666666666666, lift=109.09693693693694), OrderedStatistic(items_base=frozenset({'代收手續費１５'}), items_add=frozenset({'中信外１５'}), confidence=0.2810810810810811, lift=109.09693693693694)]), RelationRecord(items=frozenset({'台灣自來水', '中華電信'}), support=0.002447612504294057, ordered_statistics=[OrderedStatistic(items_base=frozenset({'中華電信'}), items_add=frozenset({'台灣自來水'}), confidence=0.2446351931330472, lift=21.417535254445124), OrderedStatistic(items_base=frozenset({'台灣自來水'}), items_add=frozenset({'中華電信'}), confidence=0.21428571428571427, lift=21.417535254445124)]), RelationRecord(items=frozenset({'遠傳電信', '中華電信'}), support=0.000644108553761594, ordered_statistics=[OrderedStatistic(items_base=frozenset({'中華電信'}), items_add=frozenset({'遠傳電信'}), confidence=0.06437768240343347, lift=12.188841201716738), OrderedStatistic(items_base=frozenset({'遠傳電信'}), items_add=frozenset({'中華電信'}), confidence=0.12195121951219513, lift=12.18884120171674)]), RelationRecord(items=frozenset({'交通罰鍰代收即銷手續費', '台中裁即銷罰'}), support=0.0006870491240123669, ordered_statistics=[OrderedStatistic(items_base=frozenset({'交通罰鍰代收即銷手續費'}), items_add=frozenset({'台中裁即銷罰'}), confidence=0.4848484848484849, lift=627.2861952861954), OrderedStatistic(items_base=frozenset({'台中裁即銷罰'}), items_add=frozenset({'交通罰鍰代收即銷手續費'}), confidence=0.888888888888889, lift=627.2861952861954)]), RelationRecord(items=frozenset({'渣打一般３', '代收手續費１３'}), support=0.0006870491240123669, ordered_statistics=[OrderedStatistic(items_base=frozenset({'代收手續費１３'}), items_add=frozenset({'渣打一般３'}), confidence=0.9411764705882353, lift=1369.8823529411764), OrderedStatistic(items_base=frozenset({'渣打一般３'}), items_add=frozenset({'代收手續費１３'}), confidence=1.0, lift=1369.8823529411764)]), RelationRecord(items=frozenset({'合庫代１５', '代收手續費１５'}), support=0.0016746822397801443, ordered_statistics=[OrderedStatistic(items_base=frozenset({'代收手續費１５'}), items_add=frozenset({'合庫代１５'}), confidence=0.21081081081081082, lift=116.8895752895753), OrderedStatistic(items_base=frozenset({'合庫代１５'}), items_add=frozenset({'代收手續費１５'}), confidence=0.9285714285714286, lift=116.8895752895753)]), RelationRecord(items=frozenset({'玉山淘寶款', '代收手續費１５'}), support=0.0017605633802816902, ordered_statistics=[OrderedStatistic(items_base=frozenset({'代收手續費１５'}), items_add=frozenset({'玉山淘寶款'}), confidence=0.22162162162162163, lift=125.88108108108109), OrderedStatistic(items_base=frozenset({'玉山淘寶款'}), items_add=frozenset({'代收手續費１５'}), confidence=1.0, lift=125.88108108108109)]), RelationRecord(items=frozenset({'雅虎拍賣繳費', '代收手續費１５'}), support=0.001116454826520096, ordered_statistics=[OrderedStatistic(items_base=frozenset({'代收手續費１５'}), items_add=frozenset({'雅虎拍賣繳費'}), confidence=0.14054054054054055, lift=112.85890027958995), OrderedStatistic(items_base=frozenset({'雅虎拍賣繳費'}), items_add=frozenset({'代收手續費１５'}), confidence=0.8965517241379309, lift=112.85890027958993)]), RelationRecord(items=frozenset({'代收手續費２５', '寶物交易代'}), support=0.0015458605290278255, ordered_statistics=[OrderedStatistic(items_base=frozenset({'代收手續費２５'}), items_add=frozenset({'寶物交易代'}), confidence=0.72, lift=441.24631578947367), OrderedStatistic(items_base=frozenset({'寶物交易代'}), items_add=frozenset({'代收手續費２５'}), confidence=0.9473684210526316, lift=441.2463157894737)]), RelationRecord(items=frozenset({'健保費代收', '代收手續費４'}), support=0.005324630711095843, ordered_statistics=[OrderedStatistic(items_base=frozenset({'代收手續費４'}), items_add=frozenset({'健保費代收'}), confidence=0.3263157894736842, lift=45.233583959899754), OrderedStatistic(items_base=frozenset({'健保費代收'}), items_add=frozenset({'代收手續費４'}), confidence=0.7380952380952381, lift=45.233583959899754)]), RelationRecord(items=frozenset({'國民年金代', '代收手續費４'}), support=0.006956372380625215, ordered_statistics=[OrderedStatistic(items_base=frozenset({'代收手續費４'}), items_add=frozenset({'國民年金代'}), confidence=0.42631578947368426, lift=50.14162679425838), OrderedStatistic(items_base=frozenset({'國民年金代'}), items_add=frozenset({'代收手續費４'}), confidence=0.8181818181818182, lift=50.14162679425838)]), RelationRecord(items=frozenset({'代收手續費５', '通行繳費'}), support=0.0016746822397801443, ordered_statistics=[OrderedStatistic(items_base=frozenset({'代收手續費５'}), items_add=frozenset({'通行繳費'}), confidence=0.6, lift=273.9764705882353), OrderedStatistic(items_base=frozenset({'通行繳費'}), items_add=frozenset({'代收手續費５'}), confidence=0.7647058823529412, lift=273.9764705882353)]), RelationRecord(items=frozenset({'代收手續費５', 'ｅＴａｇ繳費'}), support=0.000644108553761594, ordered_statistics=[OrderedStatistic(items_base=frozenset({'代收手續費５'}), items_add=frozenset({'ｅＴａｇ繳費'}), confidence=0.23076923076923078, lift=255.91208791208794), OrderedStatistic(items_base=frozenset({'ｅＴａｇ繳費'}), items_add=frozenset({'代收手續費５'}), confidence=0.7142857142857143, lift=255.9120879120879)]), RelationRecord(items=frozenset({'代收手續費６', '台中裁罰單'}), support=0.0011593953967708691, ordered_statistics=[OrderedStatistic(items_base=frozenset({'代收手續費６'}), items_add=frozenset({'台中裁罰單'}), confidence=0.35064935064935066, lift=281.5835199283475), OrderedStatistic(items_base=frozenset({'台中裁罰單'}), items_add=frozenset({'代收手續費６'}), confidence=0.9310344827586207, lift=281.5835199283475)]), RelationRecord(items=frozenset({'優格軟糖（Ｏｒａｎｇｅ）', '代收折價卷'}), support=0.0005152868430092751, ordered_statistics=[OrderedStatistic(items_base=frozenset({'代收折價卷'}), items_add=frozenset({'優格軟糖（Ｏｒａｎｇｅ）'}), confidence=0.08955223880597014, lift=104.27462686567164), OrderedStatistic(items_base=frozenset({'優格軟糖（Ｏｒａｎｇｅ）'}), items_add=frozenset({'代收折價卷'}), confidence=0.6, lift=104.27462686567164)]), RelationRecord(items=frozenset({'奶香綠茶３３０ＭＬ', '代收折價卷'}), support=0.0020611473720371005, ordered_statistics=[OrderedStatistic(items_base=frozenset({'代收折價卷'}), items_add=frozenset({'奶香綠茶３３０ＭＬ'}), confidence=0.3582089552238806, lift=108.33727466563288), OrderedStatistic(items_base=frozenset({'奶香綠茶３３０ＭＬ'}), items_add=frozenset({'代收折價卷'}), confidence=0.6233766233766234, lift=108.33727466563286)]), RelationRecord(items=frozenset({'伊藤園蘋果紅茶', '促銷券０６'}), support=0.005882858124355891, ordered_statistics=[OrderedStatistic(items_base=frozenset({'伊藤園蘋果紅茶'}), items_add=frozenset({'促銷券０６'}), confidence=0.8353658536585366, lift=84.95196506550218), OrderedStatistic(items_base=frozenset({'促銷券０６'}), items_add=frozenset({'伊藤園蘋果紅茶'}), confidence=0.5982532751091704, lift=84.9519650655022)]), RelationRecord(items=frozenset({'頑皮滷蛋－原味', '促銷券０６'}), support=0.0009876331157677774, ordered_statistics=[OrderedStatistic(items_base=frozenset({'促銷券０６'}), items_add=frozenset({'頑皮滷蛋－原味'}), confidence=0.10043668122270744, lift=73.09279475982534), OrderedStatistic(items_base=frozenset({'頑皮滷蛋－原味'}), items_add=frozenset({'促銷券０６'}), confidence=0.71875, lift=73.09279475982534)]), RelationRecord(items=frozenset({'促銷券０６', 'Ｃｒｅａｍ－Ｏ黑巧克力三明治餅'}), support=0.0007299896942631398, ordered_statistics=[OrderedStatistic(items_base=frozenset({'促銷券０６'}), items_add=frozenset({'Ｃｒｅａｍ－Ｏ黑巧克力三明治餅'}), confidence=0.07423580786026202, lift=78.58197697499008), OrderedStatistic(items_base=frozenset({'Ｃｒｅａｍ－Ｏ黑巧克力三明治餅'}), items_add=frozenset({'促銷券０６'}), confidence=0.7727272727272728, lift=78.58197697499008)]), RelationRecord(items=frozenset({'ＭＭ花生巧克力', '促銷券１０'}), support=0.0008588114050154586, ordered_statistics=[OrderedStatistic(items_base=frozenset({'促銷券１０'}), items_add=frozenset({'ＭＭ花生巧克力'}), confidence=0.8333333333333334, lift=510.70175438596493), OrderedStatistic(items_base=frozenset({'ＭＭ花生巧克力'}), items_add=frozenset({'促銷券１０'}), confidence=0.5263157894736842, lift=510.70175438596493)]), RelationRecord(items=frozenset({'光泉無加糖黑豆漿', '茶葉蛋（銷售用）'}), support=0.0005152868430092751, ordered_statistics=[OrderedStatistic(items_base=frozenset({'光泉無加糖黑豆漿'}), items_add=frozenset({'茶葉蛋（銷售用）'}), confidence=0.3333333333333333, lift=7.953551912568305), OrderedStatistic(items_base=frozenset({'茶葉蛋（銷售用）'}), items_add=frozenset({'光泉無加糖黑豆漿'}), confidence=0.012295081967213115, lift=7.953551912568306)]), RelationRecord(items=frozenset({'肉鬆飯糰', '光泉米漿'}), support=0.000644108553761594, ordered_statistics=[OrderedStatistic(items_base=frozenset({'光泉米漿'}), items_add=frozenset({'肉鬆飯糰'}), confidence=0.07389162561576354, lift=11.246981551241186), OrderedStatistic(items_base=frozenset({'肉鬆飯糰'}), items_add=frozenset({'光泉米漿'}), confidence=0.09803921568627452, lift=11.246981551241186)]), RelationRecord(items=frozenset({'鮪魚飯糰', '光泉米漿'}), support=0.0010305736860185502, ordered_statistics=[OrderedStatistic(items_base=frozenset({'光泉米漿'}), items_add=frozenset({'鮪魚飯糰'}), confidence=0.11822660098522166, lift=12.182571167008149), OrderedStatistic(items_base=frozenset({'鮪魚飯糰'}), items_add=frozenset({'光泉米漿'}), confidence=0.10619469026548671, lift=12.182571167008149)]), RelationRecord(items=frozenset({'全家熱狗麵包', '經典原味熱狗'}), support=0.001846444520783236, ordered_statistics=[OrderedStatistic(items_base=frozenset({'全家熱狗麵包'}), items_add=frozenset({'經典原味熱狗'}), confidence=0.4777777777777778, lift=65.44993464052287), OrderedStatistic(items_base=frozenset({'經典原味熱狗'}), items_add=frozenset({'全家熱狗麵包'}), confidence=0.2529411764705882, lift=65.44993464052287)]), RelationRecord(items=frozenset({'熱拿鐵大杯', '冰拿鐵大杯'}), support=0.0007729302645139127, ordered_statistics=[OrderedStatistic(items_base=frozenset({'冰拿鐵大杯'}), items_add=frozenset({'熱拿鐵大杯'}), confidence=0.13432835820895522, lift=15.259701492537312), OrderedStatistic(items_base=frozenset({'熱拿鐵大杯'}), items_add=frozenset({'冰拿鐵大杯'}), confidence=0.08780487804878048, lift=15.259701492537312)]), RelationRecord(items=frozenset({'辣味ＹＵＲＯＣＫ魚薯條無', '原味ＹＵＲＯＣＫ魚薯條無'}), support=0.0008588114050154586, ordered_statistics=[OrderedStatistic(items_base=frozenset({'原味ＹＵＲＯＣＫ魚薯條無'}), items_add=frozenset({'辣味ＹＵＲＯＣＫ魚薯條無'}), confidence=0.8333333333333334, lift=776.2666666666667), OrderedStatistic(items_base=frozenset({'辣味ＹＵＲＯＣＫ魚薯條無'}), items_add=frozenset({'原味ＹＵＲＯＣＫ魚薯條無'}), confidence=0.7999999999999999, lift=776.2666666666667)]), RelationRecord(items=frozenset({'國泰世華卡', '台新信用卡'}), support=0.0007299896942631398, ordered_statistics=[OrderedStatistic(items_base=frozenset({'台新信用卡'}), items_add=frozenset({'國泰世華卡'}), confidence=0.0821256038647343, lift=10.684586943027556), OrderedStatistic(items_base=frozenset({'國泰世華卡'}), items_add=frozenset({'台新信用卡'}), confidence=0.09497206703910614, lift=10.684586943027554)]), RelationRecord(items=frozenset({'台新信用卡', '聯邦信用卡'}), support=0.0006011679835108211, ordered_statistics=[OrderedStatistic(items_base=frozenset({'台新信用卡'}), items_add=frozenset({'聯邦信用卡'}), confidence=0.0676328502415459, lift=14.318489240228374), OrderedStatistic(items_base=frozenset({'聯邦信用卡'}), items_add=frozenset({'台新信用卡'}), confidence=0.1272727272727273, lift=14.318489240228372)]), RelationRecord(items=frozenset({'台新信用卡', '花旗信用卡'}), support=0.0006011679835108211, ordered_statistics=[OrderedStatistic(items_base=frozenset({'台新信用卡'}), items_add=frozenset({'花旗信用卡'}), confidence=0.0676328502415459, lift=14.318489240228374), OrderedStatistic(items_base=frozenset({'花旗信用卡'}), items_add=frozenset({'台新信用卡'}), confidence=0.1272727272727273, lift=14.318489240228372)]), RelationRecord(items=frozenset({'台灣自來水', '台灣大哥大'}), support=0.000644108553761594, ordered_statistics=[OrderedStatistic(items_base=frozenset({'台灣大哥大'}), items_add=frozenset({'台灣自來水'}), confidence=0.12711864406779663, lift=11.129093921243788), OrderedStatistic(items_base=frozenset({'台灣自來水'}), items_add=frozenset({'台灣大哥大'}), confidence=0.05639097744360902, lift=11.129093921243788)]), RelationRecord(items=frozenset({'台灣自來水', '台灣電力'}), support=0.0014170388182755066, ordered_statistics=[OrderedStatistic(items_base=frozenset({'台灣自來水'}), items_add=frozenset({'台灣電力'}), confidence=0.12406015037593983, lift=22.22394447657605), OrderedStatistic(items_base=frozenset({'台灣電力'}), items_add=frozenset({'台灣自來水'}), confidence=0.25384615384615383, lift=22.22394447657605)]), RelationRecord(items=frozenset({'台灣自來水', '欣林瓦斯費'}), support=0.000558227413260048, ordered_statistics=[OrderedStatistic(items_base=frozenset({'台灣自來水'}), items_add=frozenset({'欣林瓦斯費'}), confidence=0.04887218045112781, lift=27.759398496240596), OrderedStatistic(items_base=frozenset({'欣林瓦斯費'}), items_add=frozenset({'台灣自來水'}), confidence=0.31707317073170727, lift=27.759398496240596)]), RelationRecord(items=frozenset({'台鐵取票', '台鐵手續費'}), support=0.004036413603572655, ordered_statistics=[OrderedStatistic(items_base=frozenset({'台鐵取票'}), items_add=frozenset({'台鐵手續費'}), confidence=0.9894736842105264, lift=215.35386128873586), OrderedStatistic(items_base=frozenset({'台鐵手續費'}), items_add=frozenset({'台鐵取票'}), confidence=0.8785046728971962, lift=215.35386128873586)]), RelationRecord(items=frozenset({'商店街取件', '蝦皮取件Ｃ'}), support=0.0018893850910340088, ordered_statistics=[OrderedStatistic(items_base=frozenset({'商店街取件'}), items_add=frozenset({'蝦皮取件Ｃ'}), confidence=0.30344827586206896, lift=21.22133167650409), OrderedStatistic(items_base=frozenset({'蝦皮取件Ｃ'}), items_add=frozenset({'商店街取件'}), confidence=0.13213213213213212, lift=21.22133167650409)]), RelationRecord(items=frozenset({'蝦皮寄件Ｆ', '商店街寄件Ｆ'}), support=0.0016317416695293713, ordered_statistics=[OrderedStatistic(items_base=frozenset({'商店街寄件Ｆ'}), items_add=frozenset({'蝦皮寄件Ｆ'}), confidence=0.5846153846153846, lift=128.4388969521045), OrderedStatistic(items_base=frozenset({'蝦皮寄件Ｆ'}), items_add=frozenset({'商店街寄件Ｆ'}), confidence=0.3584905660377358, lift=128.4388969521045)]), RelationRecord(items=frozenset({'蝦皮寄件Ｗ', '商店街寄件Ｗ'}), support=0.0011593953967708691, ordered_statistics=[OrderedStatistic(items_base=frozenset({'商店街寄件Ｗ'}), items_add=frozenset({'蝦皮寄件Ｗ'}), confidence=0.75, lift=277.23809523809524), OrderedStatistic(items_base=frozenset({'蝦皮寄件Ｗ'}), items_add=frozenset({'商店街寄件Ｗ'}), confidence=0.42857142857142855, lift=277.23809523809524)]), RelationRecord(items=frozenset({'國光客運手續費', '國光購票'}), support=0.0006870491240123669, ordered_statistics=[OrderedStatistic(items_base=frozenset({'國光客運手續費'}), items_add=frozenset({'國光購票'}), confidence=0.7272727272727273, lift=1058.5454545454545), OrderedStatistic(items_base=frozenset({'國光購票'}), items_add=frozenset({'國光客運手續費'}), confidence=1.0, lift=1058.5454545454545)]), RelationRecord(items=frozenset({'國泰世華卡', '玉山信用卡'}), support=0.000558227413260048, ordered_statistics=[OrderedStatistic(items_base=frozenset({'國泰世華卡'}), items_add=frozenset({'玉山信用卡'}), confidence=0.07262569832402234, lift=17.08391174312962), OrderedStatistic(items_base=frozenset({'玉山信用卡'}), items_add=frozenset({'國泰世華卡'}), confidence=0.1313131313131313, lift=17.08391174312962)]), RelationRecord(items=frozenset({'國泰世華卡', '花旗信用卡'}), support=0.000644108553761594, ordered_statistics=[OrderedStatistic(items_base=frozenset({'國泰世華卡'}), items_add=frozenset({'花旗信用卡'}), confidence=0.08379888268156425, lift=17.74098527171153), OrderedStatistic(items_base=frozenset({'花旗信用卡'}), items_add=frozenset({'國泰世華卡'}), confidence=0.13636363636363638, lift=17.74098527171153)]), RelationRecord(items=frozenset({'大口奶油蕈菇起司雞排飯糰', '熱拿鐵中杯'}), support=0.0006011679835108211, ordered_statistics=[OrderedStatistic(items_base=frozenset({'大口奶油蕈菇起司雞排飯糰'}), items_add=frozenset({'熱拿鐵中杯'}), confidence=0.11570247933884298, lift=11.664412722263961), OrderedStatistic(items_base=frozenset({'熱拿鐵中杯'}), items_add=frozenset({'大口奶油蕈菇起司雞排飯糰'}), confidence=0.06060606060606061, lift=11.664412722263961)]), RelationRecord(items=frozenset({'大口奶油蕈菇起司雞排飯糰', '特濃抹茶拿鐵'}), support=0.0006011679835108211, ordered_statistics=[OrderedStatistic(items_base=frozenset({'大口奶油蕈菇起司雞排飯糰'}), items_add=frozenset({'特濃抹茶拿鐵'}), confidence=0.11570247933884298, lift=33.26517702275278), OrderedStatistic(items_base=frozenset({'特濃抹茶拿鐵'}), items_add=frozenset({'大口奶油蕈菇起司雞排飯糰'}), confidence=0.1728395061728395, lift=33.26517702275278)]), RelationRecord(items=frozenset({'大口法香烤雞飯糰', '熱拿鐵中杯'}), support=0.0007729302645139127, ordered_statistics=[OrderedStatistic(items_base=frozenset({'大口法香烤雞飯糰'}), items_add=frozenset({'熱拿鐵中杯'}), confidence=0.13043478260869565, lift=13.14963297571993), OrderedStatistic(items_base=frozenset({'熱拿鐵中杯'}), items_add=frozenset({'大口法香烤雞飯糰'}), confidence=0.07792207792207792, lift=13.149632975719932)]), RelationRecord(items=frozenset({'雅虎拍賣寄件', '店到店雅虎拍賣手續費'}), support=0.0011593953967708691, ordered_statistics=[OrderedStatistic(items_base=frozenset({'店到店雅虎拍賣手續費'}), items_add=frozenset({'雅虎拍賣寄件'}), confidence=0.8999999999999999, lift=582.1999999999999), OrderedStatistic(items_base=frozenset({'雅虎拍賣寄件'}), items_add=frozenset({'店到店雅虎拍賣手續費'}), confidence=0.75, lift=582.1999999999999)]), RelationRecord(items=frozenset({'ＦＰ店到店', '店到店ＦＰ手續費'}), support=0.0046375815870834764, ordered_statistics=[OrderedStatistic(items_base=frozenset({'店到店ＦＰ手續費'}), items_add=frozenset({'ＦＰ店到店'}), confidence=0.84375, lift=169.39008620689657), OrderedStatistic(items_base=frozenset({'ＦＰ店到店'}), items_add=frozenset({'店到店ＦＰ手續費'}), confidence=0.9310344827586207, lift=169.39008620689654)]), RelationRecord(items=frozenset({'戰禍邪神第１１章', '戰禍邪神第１２章'}), support=0.00923222260391618, ordered_statistics=[OrderedStatistic(items_base=frozenset({'戰禍邪神第１１章'}), items_add=frozenset({'戰禍邪神第１２章'}), confidence=0.903361344537815, lift=95.62490450725744), OrderedStatistic(items_base=frozenset({'戰禍邪神第１２章'}), items_add=frozenset({'戰禍邪神第１１章'}), confidence=0.9772727272727273, lift=95.62490450725744)]), RelationRecord(items=frozenset({'旗魚黑輪', '日式黑輪'}), support=0.000644108553761594, ordered_statistics=[OrderedStatistic(items_base=frozenset({'旗魚黑輪'}), items_add=frozenset({'日式黑輪'}), confidence=0.37500000000000006, lift=114.90789473684212), OrderedStatistic(items_base=frozenset({'日式黑輪'}), items_add=frozenset({'旗魚黑輪'}), confidence=0.19736842105263158, lift=114.90789473684211)]), RelationRecord(items=frozenset({'日式黑輪', '海鮮魚卵棒'}), support=0.000558227413260048, ordered_statistics=[OrderedStatistic(items_base=frozenset({'日式黑輪'}), items_add=frozenset({'海鮮魚卵棒'}), confidence=0.17105263157894735, lift=59.45483110761978), OrderedStatistic(items_base=frozenset({'海鮮魚卵棒'}), items_add=frozenset({'日式黑輪'}), confidence=0.19402985074626863, lift=59.45483110761979)]), RelationRecord(items=frozenset({'日式黑輪', '讚岐烏龍麵'}), support=0.0006011679835108211, ordered_statistics=[OrderedStatistic(items_base=frozenset({'日式黑輪'}), items_add=frozenset({'讚岐烏龍麵'}), confidence=0.1842105263157895, lift=104.63157894736842), OrderedStatistic(items_base=frozenset({'讚岐烏龍麵'}), items_add=frozenset({'日式黑輪'}), confidence=0.34146341463414637, lift=104.63157894736842)]), RelationRecord(items=frozenset({'黑巧杏仁乳加', '牛奶杏仁乳加'}), support=0.0005152868430092751, ordered_statistics=[OrderedStatistic(items_base=frozenset({'牛奶杏仁乳加'}), items_add=frozenset({'黑巧杏仁乳加'}), confidence=0.5714285714285714, lift=391.39495798319325), OrderedStatistic(items_base=frozenset({'黑巧杏仁乳加'}), items_add=frozenset({'牛奶杏仁乳加'}), confidence=0.3529411764705882, lift=391.39495798319325)]), RelationRecord(items=frozenset({'特濃咖啡拿鐵', '茶葉蛋（銷售用）'}), support=0.0005152868430092751, ordered_statistics=[OrderedStatistic(items_base=frozenset({'特濃咖啡拿鐵'}), items_add=frozenset({'茶葉蛋（銷售用）'}), confidence=0.2553191489361702, lift=6.0920823160097655), OrderedStatistic(items_base=frozenset({'茶葉蛋（銷售用）'}), items_add=frozenset({'特濃咖啡拿鐵'}), confidence=0.012295081967213115, lift=6.092082316009766)]), RelationRecord(items=frozenset({'空瓶回收（銷售用）', '紅標料理米酒'}), support=0.004079354173823428, ordered_statistics=[OrderedStatistic(items_base=frozenset({'空瓶回收（銷售用）'}), items_add=frozenset({'紅標料理米酒'}), confidence=0.8189655172413793, lift=153.80700778642938), OrderedStatistic(items_base=frozenset({'紅標料理米酒'}), items_add=frozenset({'空瓶回收（銷售用）'}), confidence=0.7661290322580645, lift=153.80700778642938)]), RelationRecord(items=frozenset({'茶葉蛋（銷售用）', '簡單點無加糖優酪乳'}), support=0.0008588114050154586, ordered_statistics=[OrderedStatistic(items_base=frozenset({'簡單點無加糖優酪乳'}), items_add=frozenset({'茶葉蛋（銷售用）'}), confidence=0.8695652173913043, lift=20.748396293656448), OrderedStatistic(items_base=frozenset({'茶葉蛋（銷售用）'}), items_add=frozenset({'簡單點無加糖優酪乳'}), confidence=0.020491803278688523, lift=20.748396293656448)]), RelationRecord(items=frozenset({'統一陽光無糖高纖豆漿', '茶葉蛋（銷售用）'}), support=0.0009446925455170044, ordered_statistics=[OrderedStatistic(items_base=frozenset({'統一陽光無糖高纖豆漿'}), items_add=frozenset({'茶葉蛋（銷售用）'}), confidence=0.20754716981132074, lift=4.952211568202907), OrderedStatistic(items_base=frozenset({'茶葉蛋（銷售用）'}), items_add=frozenset({'統一陽光無糖高纖豆漿'}), confidence=0.022540983606557374, lift=4.952211568202907)]), RelationRecord(items=frozenset({'統聯客運購票', '統聯客運手續費'}), support=0.000558227413260048, ordered_statistics=[OrderedStatistic(items_base=frozenset({'統聯客運手續費'}), items_add=frozenset({'統聯客運購票'}), confidence=0.5199999999999999, lift=931.5199999999999), OrderedStatistic(items_base=frozenset({'統聯客運購票'}), items_add=frozenset({'統聯客運手續費'}), confidence=1.0, lift=931.52)]), RelationRecord(items=frozenset({'聯合報', '蘋果日報'}), support=0.0009876331157677774, ordered_statistics=[OrderedStatistic(items_base=frozenset({'聯合報'}), items_add=frozenset({'蘋果日報'}), confidence=0.27710843373493976, lift=41.10382933005909), OrderedStatistic(items_base=frozenset({'蘋果日報'}), items_add=frozenset({'聯合報'}), confidence=0.1464968152866242, lift=41.10382933005909)]), RelationRecord(items=frozenset({'ＬＣＡ活菌原味發酵乳', '肉鬆飯糰'}), support=0.0006011679835108211, ordered_statistics=[OrderedStatistic(items_base=frozenset({'肉鬆飯糰'}), items_add=frozenset({'ＬＣＡ活菌原味發酵乳'}), confidence=0.09150326797385622, lift=18.52980960500142), OrderedStatistic(items_base=frozenset({'ＬＣＡ活菌原味發酵乳'}), items_add=frozenset({'肉鬆飯糰'}), confidence=0.12173913043478261, lift=18.52980960500142)]), RelationRecord(items=frozenset({'自由時報', '蘋果日報'}), support=0.0013311576777739608, ordered_statistics=[OrderedStatistic(items_base=frozenset({'自由時報'}), items_add=frozenset({'蘋果日報'}), confidence=0.15736040609137056, lift=23.34145947169323), OrderedStatistic(items_base=frozenset({'蘋果日報'}), items_add=frozenset({'自由時報'}), confidence=0.19745222929936304, lift=23.34145947169323)]), RelationRecord(items=frozenset({'蕃薯（２０元）', '茶葉蛋（銷售用）'}), support=0.001288217107523188, ordered_statistics=[OrderedStatistic(items_base=frozenset({'茶葉蛋（銷售用）'}), items_add=frozenset({'蕃薯（２０元）'}), confidence=0.03073770491803279, lift=3.7089102182961016), OrderedStatistic(items_base=frozenset({'蕃薯（２０元）'}), items_add=frozenset({'茶葉蛋（銷售用）'}), confidence=0.15544041450777202, lift=3.708910218296101)]), RelationRecord(items=frozenset({'茶葉蛋（銷售用）', '蕃薯（２５元）'}), support=0.0008588114050154586, ordered_statistics=[OrderedStatistic(items_base=frozenset({'茶葉蛋（銷售用）'}), items_add=frozenset({'蕃薯（２５元）'}), confidence=0.020491803278688523, lift=3.61525086934923), OrderedStatistic(items_base=frozenset({'蕃薯（２５元）'}), items_add=frozenset({'茶葉蛋（銷售用）'}), confidence=0.15151515151515152, lift=3.61525086934923)]), RelationRecord(items=frozenset({'鮮奶茶', '茶葉蛋（銷售用）'}), support=0.001116454826520096, ordered_statistics=[OrderedStatistic(items_base=frozenset({'茶葉蛋（銷售用）'}), items_add=frozenset({'鮮奶茶'}), confidence=0.02663934426229508, lift=5.797916347479699), OrderedStatistic(items_base=frozenset({'鮮奶茶'}), items_add=frozenset({'茶葉蛋（銷售用）'}), confidence=0.24299065420560745, lift=5.797916347479699)]), RelationRecord(items=frozenset({'葡萄冰茶', '蘋果冰茶'}), support=0.000644108553761594, ordered_statistics=[OrderedStatistic(items_base=frozenset({'葡萄冰茶'}), items_add=frozenset({'蘋果冰茶'}), confidence=0.31250000000000006, lift=98.34459459459461), OrderedStatistic(items_base=frozenset({'蘋果冰茶'}), items_add=frozenset({'葡萄冰茶'}), confidence=0.20270270270270271, lift=98.34459459459461)]), RelationRecord(items=frozenset({'蕃薯（１５元）', '蕃薯（２０元）'}), support=0.0026193747852971488, ordered_statistics=[OrderedStatistic(items_base=frozenset({'蕃薯（１５元）'}), items_add=frozenset({'蕃薯（２０元）'}), confidence=0.5, lift=60.33160621761658), OrderedStatistic(items_base=frozenset({'蕃薯（２０元）'}), items_add=frozenset({'蕃薯（１５元）'}), confidence=0.3160621761658031, lift=60.33160621761658)]), RelationRecord(items=frozenset({'蕃薯（２０元）', '蕃薯（２５元）'}), support=0.0008588114050154586, ordered_statistics=[OrderedStatistic(items_base=frozenset({'蕃薯（２０元）'}), items_add=frozenset({'蕃薯（２５元）'}), confidence=0.10362694300518134, lift=18.282304914429268), OrderedStatistic(items_base=frozenset({'蕃薯（２５元）'}), items_add=frozenset({'蕃薯（２０元）'}), confidence=0.15151515151515152, lift=18.282304914429268)]), RelationRecord(items=frozenset({'金牌台啤罐裝（６入）', '（新）銷售用購物袋１８號袋'}), support=0.000644108553761594, ordered_statistics=[OrderedStatistic(items_base=frozenset({'金牌台啤罐裝（６入）'}), items_add=frozenset({'（新）銷售用購物袋１８號袋'}), confidence=0.31250000000000006, lift=11.161809815950921), OrderedStatistic(items_base=frozenset({'（新）銷售用購物袋１８號袋'}), items_add=frozenset({'金牌台啤罐裝（６入）'}), confidence=0.023006134969325152, lift=11.161809815950921)]), RelationRecord(items=frozenset({'高鐵取票', '高鐵手續費'}), support=0.0032634833390587426, ordered_statistics=[OrderedStatistic(items_base=frozenset({'高鐵取票'}), items_add=frozenset({'高鐵手續費'}), confidence=0.987012987012987, lift=287.3194805194805), OrderedStatistic(items_base=frozenset({'高鐵手續費'}), items_add=frozenset({'高鐵取票'}), confidence=0.9500000000000001, lift=287.3194805194806)]), RelationRecord(items=frozenset({'ＬＣＡ活菌原味發酵乳', '鮪魚飯糰'}), support=0.0009017519752662315, ordered_statistics=[OrderedStatistic(items_base=frozenset({'鮪魚飯糰'}), items_add=frozenset({'ＬＣＡ活菌原味發酵乳'}), confidence=0.09292035398230088, lift=18.81677568295498), OrderedStatistic(items_base=frozenset({'ＬＣＡ活菌原味發酵乳'}), items_add=frozenset({'鮪魚飯糰'}), confidence=0.1826086956521739, lift=18.816775682954983)]), RelationRecord(items=frozenset({'麥香紅茶ＴＰ３００', '麥香奶茶ＴＰ３００'}), support=0.0015029199587770525, ordered_statistics=[OrderedStatistic(items_base=frozenset({'麥香奶茶ＴＰ３００'}), items_add=frozenset({'麥香紅茶ＴＰ３００'}), confidence=0.10769230769230768, lift=10.672078559738134), OrderedStatistic(items_base=frozenset({'麥香紅茶ＴＰ３００'}), items_add=frozenset({'麥香奶茶ＴＰ３００'}), confidence=0.14893617021276595, lift=10.672078559738134)])]\n"
     ]
    }
   ],
   "source": [
    "print(association_results)"
   ]
  },
  {
   "cell_type": "code",
   "execution_count": 230,
   "metadata": {},
   "outputs": [
    {
     "name": "stdout",
     "output_type": "stream",
     "text": [
      "0.045569253320576146\n",
      "['（新）銷售用購物袋１８號袋', '伯朗咖啡', '蘋果冰茶', '御茶園特上奶茶', '保力達蠻牛維他命Ｂ飲料', '麥香錫蘭奶茶', '全家紅豆麵包', '奶油雞排歐姆蛋燴飯', '鹼性離子水', '衛生冰', '麥香奶茶ＴＰ３００', '茶裏王日式綠茶', '台鹽海洋鹼性離子水', '金牌台灣啤酒', '冷泡茶冷萃綠茶無糖', '全家克林姆麵包', '蔥爆牛肉燴飯', '可口可樂ＰＥＴ', '純喫茶鮮柚綠茶６５０ｍｌ', '寶礦力水得', '茶裏王英式紅茶', '雲絲頓紅１０毫克香煙', '金蘋果調味乳蘋果風味', '金牌台啤罐裝（６入）', '義美奶茶', '藍山咖啡', '純喫茶紅茶', '（新）４５號銷售用購物袋', '冷泡茶冰釀烏龍', '飲冰室茶集綠奶茶', '飲冰室茶集紅奶茶', '統一布丁（雞蛋口味）', '科學麵', '泡沫綠茶ＴＰ３００', '純喫茶無糖綠茶６５０ｍｌ', '麥香綠茶ＴＰ３００', '義美錫蘭紅茶', '麥香阿薩姆奶茶', '紫米紅豆湯圓', '麥香紅茶ＴＰ３００', '金牌台灣啤酒５００ＭＬ', '原萃日式綠茶', 'ＦＩＮ深海健康補給飲料', '皇家奶茶', '貝納頌經典拿鐵', '海苔肉鬆沙拉麵包', '舒跑運動飲料ＰＥＴ', '天然水２．２Ｌ', '泡沫紅茶ＴＰ３００', '日式蒜香燒豚飯', '葡萄冰茶', '長壽黃硬盒香煙', '純喫茶綠茶６５０ｍｌ', '咖啡廣場奶香特調咖啡', '天然水', '芒果冰茶', '七星１０毫克硬盒香煙', '純喫茶紅茶６５０ｍｌ']\n",
      "0.09182471314506341\n",
      "['熱美式中杯', '養樂多', '頂級鮮奶優格－莓果穀物脆片', '蕃薯（２５元）', '香蕉單入', '肉鬆起酥麵包', '特濃咖啡拿鐵', '蝦皮取件Ｃ', '蕃薯（３０元）', '雪花蛋糕', '麥香奶茶（罐裝）', '經典原味熱狗', '大口奶油蕈菇起司雞排飯糰', '肉鬆飯糰', '光泉無加糖鮮豆漿', '熱拿鐵大杯', '全家熱狗麵包', '茶葉蛋（銷售用）', '重黑巧克力蛋糕', '爆濃起司熱狗', '蕃薯（２０元）', '番薯（３５元）', '蕃薯（１５元）', '統一陽光無糖高纖豆漿', 'ＬＣＡ活菌原味發酵乳', '光泉米漿', '熱美式小杯', '簡單點原味優酪乳', '特濃黑可可', '熱美式大杯', '熱拿鐵中杯', '綠豆沙牛乳', '黑胡椒熱狗', '林鳳營全脂鮮乳', '全家花生夾心土司（２入）', '鮮奶茶', '義美古早傳統無糖豆奶', '商店街取件', '光泉無加糖黑豆漿', '義美全脂鮮乳２３６ｍｌ', '熱拿鐵小杯', '簡單點無加糖優酪乳', '統一大布丁（雞蛋口味）', 'ＦＰ取件', 'ＥＣ代收一', '鮪魚飯糰', '特濃抹茶拿鐵', '大口法香烤雞飯糰', '冰拿鐵大杯']\n",
      "0.01988993689426747\n",
      "['午后時光鐵觀音奶茶', '午后時光王室大吉嶺奶茶', '午后時光皇家伯爵奶茶']\n",
      "0.10344972272660354\n",
      "['冰鎮檸檬紅茶６５０ｍｌ', '冰鎮芭樂綠茶６５０ｍｌ']\n",
      "0.17321436920239797\n",
      "['Ｃｒｅａｍ－Ｏ黑巧克力三明治餅', '促銷券０６', '伊藤園蘋果紅茶', '頑皮滷蛋－原味']\n",
      "0.36527789405009686\n",
      "['戰禍邪神第１１章', '戰禍邪神第１２章']\n",
      "0.10484282377214782\n",
      "['關東煮本舖拉麵', '手工高麗菜捲', '究極味付蛋', '讚岐烏龍麵', '海鮮魚卵棒', '日式黑輪', '關東煮本舖冬粉', '野菜多多魚餅', '特級花枝丸', '鮮香菇', '旗魚黑輪', '筊白筍', '蟹肉糰子', '黃金魚豆腐', '王子麵', '千層玉子燒', '白玉蘿蔔', '杏鮑菇', '黃金厚切魚板']\n",
      "0.3975242727223418\n",
      "['台鐵取票', '台鐵手續費']\n",
      "0.061957752979531044\n",
      "['健保費代收', '國民年金代', '玉山信用卡', '合庫瓦斯費', '中信有線代', '聯邦信用卡', '花旗信用卡', '欣中天然氣', '代收手續費４', '台灣電力', '地方查核稅款', '台灣大哥大', '亞太電信代', '國泰世華卡', '欣林瓦斯費', '勞工退休金', '台灣自來水', '勞保費代收', '遠傳電信', '富邦信用卡', '中華電信', '台新信用卡', '台中二段停']\n",
      "0.28620038143072063\n",
      "['紅標料理米酒', '空瓶回收（銷售用）']\n",
      "0.2784088791744059\n",
      "['雅虎拍賣寄件', '蝦皮寄件Ｆ', '商店街寄件Ｆ', '店到店雅虎拍賣手續費']\n",
      "0.19733469181682858\n",
      "['台中裁即銷罰', '交通罰鍰代收即銷手續費']\n",
      "0.33386579640444297\n",
      "['促銷券１０', 'ＭＭ花生巧克力']\n",
      "0.07575405564072457\n",
      "['奶香綠茶３３０ＭＬ', 'ＡＷ極酷嗆涼紫冰野莓口香糖', '超涼口香糖（袋）', '優格軟糖（Ｐｅａｃｈ）', '優格軟糖（Ｏｒａｎｇｅ）', '潤喉糖－蜂蜜檸檬', '代收折價卷']\n",
      "0.24101294760432507\n",
      "['蝦皮寄件Ｗ', '露天寄件Ｗ', '店到店雅虎拍賣線上手續費', '雅虎線上寄件', '商店街寄件Ｗ']\n",
      "0.3395954998282378\n",
      "['ＦＰ店到店', '店到店ＦＰ手續費']\n",
      "0.20675779020420035\n",
      "['合庫代１５', '玉山淘寶款', '中信外１５', '代收手續費１５', '雅虎拍賣繳費']\n",
      "0.22904377484418706\n",
      "['牛奶杏仁乳加', '黑巧杏仁乳加']\n",
      "0.12402609950166629\n",
      "['代收手續費６', '台中裁罰單', '台銀學雜費']\n",
      "0.06481698623736307\n",
      "['焗烤鮪魚歐姆蛋三明治', '貝納頌海鹽風味拿鐵']\n",
      "0.33375415092179095\n",
      "['原味ＹＵＲＯＣＫ魚薯條無', '辣味ＹＵＲＯＣＫ魚薯條無']\n",
      "0.29123543924299683\n",
      "['國光購票', '國光客運手續費']\n",
      "0.3961535287110691\n",
      "['高鐵手續費', '高鐵取票']\n",
      "0.2084276649578522\n",
      "['代收手續費５', '通行繳費', 'ｅＴａｇ繳費']\n",
      "0.03420647301973431\n",
      "['麥香奶茶ＴＰ３７５', '麥香紅茶ＴＰ３７５']\n",
      "0.2335480361845872\n",
      "['能多益隨手杯', '促銷券０９']\n",
      "0.4001889385091034\n",
      "['熱美式中杯－票券優惠專用', '票券優惠條碼１']\n",
      "0.3767539959989492\n",
      "['渣打一般３', '代收手續費１３']\n",
      "0.000558227413260048\n",
      "['健達奇趣蛋單顆（女孩版）', '健達奇趣蛋單顆（男孩版）']\n",
      "0.28875575403641357\n",
      "['代收手續費２５', '寶物交易代']\n",
      "0.38025764342150464\n",
      "['統聯客運購票', '統聯客運手續費', '統聯客運取票']\n",
      "0.11096283860652606\n",
      "['聯合報', '自由時報', '蘋果日報']\n",
      "0.10356933101361908\n",
      "['遠銀一般代Ｚ', '代收手續費１０']\n",
      "0.2336253292110386\n",
      "['火腿青蔬洋芋沙拉', '千島醬']\n",
      "0.0004007786556738807\n",
      "['樂事鹽烤蒜味洋芋片－日本版', '大波浪炙燒海鮮味洋芋片']\n"
     ]
    }
   ],
   "source": [
    "for num in range(0,35):\n",
    "    item_name = [g.vs[index]['name'] for index in cluster[num]]\n",
    "    info = 0\n",
    "    count = 0\n",
    "\n",
    "    for rule in association_results:\n",
    "        pair = rule[0] \n",
    "        items = [x for x in pair]\n",
    "        for item in items:\n",
    "            if item in item_name:\n",
    "                info += rule[2][0][2]\n",
    "                count += 1\n",
    "\n",
    "    density = info / count\n",
    "    utility = density*(count/(count+1))\n",
    "    print(utility)\n",
    "    print(item_name)"
   ]
  },
  {
   "cell_type": "code",
   "execution_count": null,
   "metadata": {},
   "outputs": [],
   "source": []
  }
 ],
 "metadata": {
  "kernelspec": {
   "display_name": "Python 3",
   "language": "python",
   "name": "python3"
  },
  "language_info": {
   "codemirror_mode": {
    "name": "ipython",
    "version": 3
   },
   "file_extension": ".py",
   "mimetype": "text/x-python",
   "name": "python",
   "nbconvert_exporter": "python",
   "pygments_lexer": "ipython3",
   "version": "3.7.1"
  }
 },
 "nbformat": 4,
 "nbformat_minor": 2
}
