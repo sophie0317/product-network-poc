{
 "cells": [
  {
   "cell_type": "code",
   "execution_count": 2,
   "metadata": {},
   "outputs": [],
   "source": [
    "import pandas as pd\n",
    "import numpy"
   ]
  },
  {
   "cell_type": "code",
   "execution_count": 3,
   "metadata": {},
   "outputs": [],
   "source": [
    "dtype = {\n",
    "    '交易id': numpy.str,\n",
    "    '資料日期': numpy.str,\n",
    "    '資料時間': numpy.str,\n",
    "    '餐別帶': numpy.str,\n",
    "    '縣市別': numpy.str,\n",
    "    '店舖代號': numpy.uint32,\n",
    "    '主商圈': numpy.str,\n",
    "    '品號-品名稱': numpy.str,\n",
    "    '群號-群名稱': numpy.str,\n",
    "    '單品名稱': numpy.str,\n",
    "    '銷售數量': numpy.uint16,\n",
    "    '銷售單價': numpy.float,\n",
    "    '交易金額': numpy.float\n",
    "}\n",
    "USE_COLUMNS = ['交易id', '資料日期', '資料時間', '餐別帶', '縣市別', '店舖代號', '主商圈', '品號-品名稱',\n",
    "       '群號-群名稱', '單品名稱', '銷售數量', '銷售單價', '交易金額']\n",
    "PARSE_DATES = {\n",
    "    '資料日期與時間': [\n",
    "        '資料日期',\n",
    "        '資料時間'\n",
    "    ]\n",
    "}"
   ]
  },
  {
   "cell_type": "code",
   "execution_count": 4,
   "metadata": {},
   "outputs": [],
   "source": [
    "file = pd.read_csv('customer_data(utf-8).csv',\n",
    "                   index_col=1,\n",
    "                   nrows=100000,\n",
    "                   usecols=USE_COLUMNS,\n",
    "                   dtype=dtype,\n",
    "                   parse_dates=PARSE_DATES,\n",
    "        )"
   ]
  },
  {
   "cell_type": "code",
   "execution_count": 5,
   "metadata": {},
   "outputs": [],
   "source": [
    "file = file.dropna()"
   ]
  },
  {
   "cell_type": "code",
   "execution_count": 6,
   "metadata": {
    "scrolled": true
   },
   "outputs": [
    {
     "data": {
      "text/plain": [
       "(99981, 11)"
      ]
     },
     "execution_count": 6,
     "metadata": {},
     "output_type": "execute_result"
    }
   ],
   "source": [
    "file.shape"
   ]
  },
  {
   "cell_type": "code",
   "execution_count": 7,
   "metadata": {},
   "outputs": [],
   "source": [
    "def get_copurchase_df(df):\n",
    "    count_size = df.index.unique()\n",
    "    size_df = df.groupby('交易id').size()\n",
    "    size_df = size_df[size_df < 2]\n",
    "    return df.drop(list(size_df.index), axis=0)"
   ]
  },
  {
   "cell_type": "code",
   "execution_count": 8,
   "metadata": {},
   "outputs": [],
   "source": [
    "data = get_copurchase_df(file)"
   ]
  },
  {
   "cell_type": "code",
   "execution_count": 9,
   "metadata": {},
   "outputs": [
    {
     "data": {
      "text/html": [
       "<div>\n",
       "<style scoped>\n",
       "    .dataframe tbody tr th:only-of-type {\n",
       "        vertical-align: middle;\n",
       "    }\n",
       "\n",
       "    .dataframe tbody tr th {\n",
       "        vertical-align: top;\n",
       "    }\n",
       "\n",
       "    .dataframe thead th {\n",
       "        text-align: right;\n",
       "    }\n",
       "</style>\n",
       "<table border=\"1\" class=\"dataframe\">\n",
       "  <thead>\n",
       "    <tr style=\"text-align: right;\">\n",
       "      <th></th>\n",
       "      <th>資料日期與時間</th>\n",
       "      <th>餐別帶</th>\n",
       "      <th>縣市別</th>\n",
       "      <th>店舖代號</th>\n",
       "      <th>主商圈</th>\n",
       "      <th>品號-品名稱</th>\n",
       "      <th>群號-群名稱</th>\n",
       "      <th>單品名稱</th>\n",
       "      <th>銷售數量</th>\n",
       "      <th>銷售單價</th>\n",
       "      <th>交易金額</th>\n",
       "    </tr>\n",
       "    <tr>\n",
       "      <th>交易id</th>\n",
       "      <th></th>\n",
       "      <th></th>\n",
       "      <th></th>\n",
       "      <th></th>\n",
       "      <th></th>\n",
       "      <th></th>\n",
       "      <th></th>\n",
       "      <th></th>\n",
       "      <th></th>\n",
       "      <th></th>\n",
       "      <th></th>\n",
       "    </tr>\n",
       "  </thead>\n",
       "  <tbody>\n",
       "    <tr>\n",
       "      <th>01637920171201184556000112534201</th>\n",
       "      <td>2017-12-01 18:45:56</td>\n",
       "      <td>晚餐時間帶</td>\n",
       "      <td>台中市</td>\n",
       "      <td>11148</td>\n",
       "      <td>住宅型</td>\n",
       "      <td>72-家庭雜貨</td>\n",
       "      <td>722-家雜用品</td>\n",
       "      <td>（新）銷售用購物袋１８號袋</td>\n",
       "      <td>1</td>\n",
       "      <td>1.0</td>\n",
       "      <td>1.0</td>\n",
       "    </tr>\n",
       "    <tr>\n",
       "      <th>01614720171201163042000114405402</th>\n",
       "      <td>2017-12-01 16:30:42</td>\n",
       "      <td>下午茶時間帶</td>\n",
       "      <td>台中市</td>\n",
       "      <td>10697</td>\n",
       "      <td>住宅型</td>\n",
       "      <td>29-冷藏飲料</td>\n",
       "      <td>296-冷藏奶茶</td>\n",
       "      <td>飲冰室茶集綠奶茶</td>\n",
       "      <td>1</td>\n",
       "      <td>25.0</td>\n",
       "      <td>25.0</td>\n",
       "    </tr>\n",
       "    <tr>\n",
       "      <th>01384020171201130558000119295301</th>\n",
       "      <td>2017-12-01 13:05:58</td>\n",
       "      <td>午餐時間帶</td>\n",
       "      <td>彰化縣</td>\n",
       "      <td>13840</td>\n",
       "      <td>文教型</td>\n",
       "      <td>12-調理麵</td>\n",
       "      <td>122-熱食麵２配</td>\n",
       "      <td>沙茶牛肉炒麵</td>\n",
       "      <td>1</td>\n",
       "      <td>69.0</td>\n",
       "      <td>69.0</td>\n",
       "    </tr>\n",
       "    <tr>\n",
       "      <th>01475120171201153506000111697202</th>\n",
       "      <td>2017-12-01 15:35:06</td>\n",
       "      <td>下午茶時間帶</td>\n",
       "      <td>新竹市</td>\n",
       "      <td>4151</td>\n",
       "      <td>工業型</td>\n",
       "      <td>29-冷藏飲料</td>\n",
       "      <td>291-冷藏茶飲料</td>\n",
       "      <td>冷泡茶台茶１２號紅茶</td>\n",
       "      <td>1</td>\n",
       "      <td>25.0</td>\n",
       "      <td>21.0</td>\n",
       "    </tr>\n",
       "    <tr>\n",
       "      <th>01564720171201180924000113751602</th>\n",
       "      <td>2017-12-01 18:09:24</td>\n",
       "      <td>晚餐時間帶</td>\n",
       "      <td>台中市</td>\n",
       "      <td>3860</td>\n",
       "      <td>住宅型</td>\n",
       "      <td>34-健康飲料</td>\n",
       "      <td>343-水</td>\n",
       "      <td>多喝水２Ｌ</td>\n",
       "      <td>2</td>\n",
       "      <td>35.0</td>\n",
       "      <td>49.0</td>\n",
       "    </tr>\n",
       "  </tbody>\n",
       "</table>\n",
       "</div>"
      ],
      "text/plain": [
       "                                             資料日期與時間     餐別帶  縣市別   店舖代號  主商圈  \\\n",
       "交易id                                                                            \n",
       "01637920171201184556000112534201 2017-12-01 18:45:56   晚餐時間帶  台中市  11148  住宅型   \n",
       "01614720171201163042000114405402 2017-12-01 16:30:42  下午茶時間帶  台中市  10697  住宅型   \n",
       "01384020171201130558000119295301 2017-12-01 13:05:58   午餐時間帶  彰化縣  13840  文教型   \n",
       "01475120171201153506000111697202 2017-12-01 15:35:06  下午茶時間帶  新竹市   4151  工業型   \n",
       "01564720171201180924000113751602 2017-12-01 18:09:24   晚餐時間帶  台中市   3860  住宅型   \n",
       "\n",
       "                                   品號-品名稱     群號-群名稱           單品名稱  銷售數量  \\\n",
       "交易id                                                                        \n",
       "01637920171201184556000112534201  72-家庭雜貨   722-家雜用品  （新）銷售用購物袋１８號袋     1   \n",
       "01614720171201163042000114405402  29-冷藏飲料   296-冷藏奶茶       飲冰室茶集綠奶茶     1   \n",
       "01384020171201130558000119295301   12-調理麵  122-熱食麵２配         沙茶牛肉炒麵     1   \n",
       "01475120171201153506000111697202  29-冷藏飲料  291-冷藏茶飲料     冷泡茶台茶１２號紅茶     1   \n",
       "01564720171201180924000113751602  34-健康飲料      343-水          多喝水２Ｌ     2   \n",
       "\n",
       "                                  銷售單價  交易金額  \n",
       "交易id                                          \n",
       "01637920171201184556000112534201   1.0   1.0  \n",
       "01614720171201163042000114405402  25.0  25.0  \n",
       "01384020171201130558000119295301  69.0  69.0  \n",
       "01475120171201153506000111697202  25.0  21.0  \n",
       "01564720171201180924000113751602  35.0  49.0  "
      ]
     },
     "execution_count": 9,
     "metadata": {},
     "output_type": "execute_result"
    }
   ],
   "source": [
    "data.head()"
   ]
  },
  {
   "cell_type": "code",
   "execution_count": 10,
   "metadata": {},
   "outputs": [],
   "source": [
    "def aggregate(df):\n",
    "    dic = {}\n",
    "    for index, row in df.iterrows():\n",
    "        if index not in dic:\n",
    "            dic[index] = []\n",
    "        dic[index].append({\n",
    "            'name': row['單品名稱'],\n",
    "            'amount': row['銷售單價']\n",
    "        })\n",
    "    dic = { index : value for index, value in dic.items() if len(value) > 1}\n",
    "    return dic"
   ]
  },
  {
   "cell_type": "code",
   "execution_count": 11,
   "metadata": {},
   "outputs": [],
   "source": [
    "purchase_list = aggregate(data)"
   ]
  },
  {
   "cell_type": "code",
   "execution_count": 47,
   "metadata": {},
   "outputs": [],
   "source": [
    "from pymongo import MongoClient"
   ]
  },
  {
   "cell_type": "code",
   "execution_count": 48,
   "metadata": {},
   "outputs": [],
   "source": [
    "client = MongoClient('localhost', 27017)\n",
    "db = client['pn']"
   ]
  },
  {
   "cell_type": "code",
   "execution_count": 58,
   "metadata": {},
   "outputs": [],
   "source": [
    "purchase_list = list(db['transactions'].find({'items.1': { '$exists': True } }, projection=['items']))"
   ]
  },
  {
   "cell_type": "code",
   "execution_count": 59,
   "metadata": {},
   "outputs": [
    {
     "data": {
      "text/plain": [
       "{'_id': ObjectId('5cc94a6608c78d51c024704f'),\n",
       " 'items': [{'品號-品名稱': '31-茶飲料',\n",
       "   '群號-群名稱': '311-紅茶',\n",
       "   '銷售單價': 10.0,\n",
       "   '單品名稱': '麥香紅茶ＴＰ３００',\n",
       "   'amount': 10.0},\n",
       "  {'品號-品名稱': '58-香煙',\n",
       "   '群號-群名稱': '584-進口淡煙',\n",
       "   '銷售單價': 95.0,\n",
       "   '單品名稱': '萬寶路金軟包活性碳濾嘴香菸',\n",
       "   'amount': 95.0}]}"
      ]
     },
     "execution_count": 59,
     "metadata": {},
     "output_type": "execute_result"
    }
   ],
   "source": [
    "purchase_list[0]"
   ]
  },
  {
   "cell_type": "markdown",
   "metadata": {
    "collapsed": true
   },
   "source": [
    "# Network Analysis"
   ]
  },
  {
   "cell_type": "code",
   "execution_count": 60,
   "metadata": {},
   "outputs": [],
   "source": [
    "from itertools import filterfalse\n",
    "def convert(purchase_list, support):\n",
    "    def find_edges_in_list(itemsets):\n",
    "        from itertools import combinations\n",
    "        result = []\n",
    "        return combinations(itemsets, 2)\n",
    "    result = {}\n",
    "    nodes = set()\n",
    "    for transaction in purchase_list:\n",
    "        itemsets = transaction['items']\n",
    "        if len(itemsets) > 1:\n",
    "            for edge_dict_tuple in find_edges_in_list(itemsets):\n",
    "                edge = tuple([dic['單品名稱'] for dic in edge_dict_tuple])\n",
    "                weight = sum([dic['amount'] for dic in edge_dict_tuple])\n",
    "                if edge in result:\n",
    "                    result[edge]['count'] += 1\n",
    "                else:\n",
    "                    result[edge] = {}\n",
    "                    result[edge]['count'] = 1\n",
    "                    result[edge]['weight'] = weight\n",
    "    for key in list(result.keys()):\n",
    "        if result[key]['count'] < support:\n",
    "            del result[key]\n",
    "    for items in result.keys():\n",
    "        for item in items:\n",
    "            if item not in nodes:\n",
    "                nodes.add(item)\n",
    "    return (nodes, result)"
   ]
  },
  {
   "cell_type": "code",
   "execution_count": 64,
   "metadata": {},
   "outputs": [],
   "source": [
    "nodes, edges_dict = convert(purchase_list, 8)"
   ]
  },
  {
   "cell_type": "code",
   "execution_count": 65,
   "metadata": {
    "scrolled": true
   },
   "outputs": [
    {
     "name": "stdout",
     "output_type": "stream",
     "text": [
      "Node number: 194\n",
      "Edge number: 453\n"
     ]
    }
   ],
   "source": [
    "print('Node number: {}\\nEdge number: {}'.format(len(nodes), len(edges_dict)))"
   ]
  },
  {
   "cell_type": "code",
   "execution_count": 33,
   "metadata": {},
   "outputs": [],
   "source": [
    "import igraph"
   ]
  },
  {
   "cell_type": "code",
   "execution_count": 34,
   "metadata": {},
   "outputs": [],
   "source": [
    "g = igraph.Graph()"
   ]
  },
  {
   "cell_type": "code",
   "execution_count": 35,
   "metadata": {},
   "outputs": [],
   "source": [
    "for node in nodes:\n",
    "    g.add_vertex(node)"
   ]
  },
  {
   "cell_type": "code",
   "execution_count": 36,
   "metadata": {
    "scrolled": false
   },
   "outputs": [
    {
     "data": {
      "text/plain": [
       "44"
      ]
     },
     "execution_count": 36,
     "metadata": {},
     "output_type": "execute_result"
    }
   ],
   "source": [
    "len(g.vs)"
   ]
  },
  {
   "cell_type": "code",
   "execution_count": 37,
   "metadata": {},
   "outputs": [],
   "source": [
    "for edge, attrs in edges_dict.items():\n",
    "    weight = attrs['weight'] * attrs['count'] if attrs['weight'] > 0 else 1\n",
    "    g.add_edge(edge[0], edge[1], weight=weight)"
   ]
  },
  {
   "cell_type": "code",
   "execution_count": 38,
   "metadata": {},
   "outputs": [],
   "source": [
    "g.simplify(combine_edges={ \"weight\": \"sum\" })\n",
    "g.to_undirected(mode='mutual', combine_edges={ \"weight\": \"sum\" })"
   ]
  },
  {
   "cell_type": "code",
   "execution_count": 39,
   "metadata": {
    "scrolled": true
   },
   "outputs": [],
   "source": [
    "communities = g.community_fastgreedy('weight')"
   ]
  },
  {
   "cell_type": "code",
   "execution_count": 40,
   "metadata": {},
   "outputs": [],
   "source": [
    "cluster = communities.as_clustering()"
   ]
  },
  {
   "cell_type": "code",
   "execution_count": 41,
   "metadata": {
    "scrolled": true
   },
   "outputs": [
    {
     "data": {
      "text/plain": [
       "20"
      ]
     },
     "execution_count": 41,
     "metadata": {},
     "output_type": "execute_result"
    }
   ],
   "source": [
    "len(cluster)"
   ]
  },
  {
   "cell_type": "code",
   "execution_count": 42,
   "metadata": {
    "scrolled": false
   },
   "outputs": [
    {
     "name": "stdout",
     "output_type": "stream",
     "text": [
      "蕃薯（１５元） 蕃薯（２０元）\n",
      "==================\n",
      "蝦皮取件Ｃ 商店街取件\n",
      "==================\n",
      "高鐵手續費 高鐵取票\n",
      "==================\n",
      "空瓶回收（銷售用） 紅標料理米酒\n",
      "==================\n",
      "健保費代收 代收手續費４ 國民年金代\n",
      "==================\n",
      "台中裁罰單 代收手續費６\n",
      "==================\n",
      "伊藤園蘋果紅茶 促銷券０６\n",
      "==================\n",
      "蝦皮寄件Ｆ 商店街寄件Ｆ\n",
      "==================\n",
      "通行繳費 代收手續費５\n",
      "==================\n",
      "戰禍邪神第１１章 戰禍邪神第１２章\n",
      "==================\n",
      "麥香奶茶ＴＰ３００ 麥香紅茶ＴＰ３００\n",
      "==================\n",
      "寶物交易代 代收手續費２５\n",
      "==================\n",
      "店到店雅虎拍賣手續費 雅虎拍賣寄件\n",
      "==================\n",
      "ＦＰ店到店 店到店ＦＰ手續費\n",
      "==================\n",
      "蘋果日報 自由時報\n",
      "==================\n",
      "代收手續費１３ 渣打一般３\n",
      "==================\n",
      "代收手續費１５ 玉山淘寶款 雅虎拍賣繳費 中信外１５ 合庫代１５\n",
      "==================\n",
      "台灣自來水 中華電信\n",
      "==================\n",
      "代收折價卷 奶香綠茶３３０ＭＬ\n",
      "==================\n",
      "台鐵取票 台鐵手續費\n",
      "==================\n"
     ]
    }
   ],
   "source": [
    "for comm in cluster:\n",
    "    comm_name = [ g.vs[index]['name'] for index in comm]\n",
    "    print(\" \".join(comm_name))\n",
    "    print(\"==================\")"
   ]
  },
  {
   "cell_type": "code",
   "execution_count": 43,
   "metadata": {
    "scrolled": true
   },
   "outputs": [
    {
     "data": {
      "text/plain": [
       "0.6157882031074606"
      ]
     },
     "execution_count": 43,
     "metadata": {},
     "output_type": "execute_result"
    }
   ],
   "source": [
    "cluster.modularity"
   ]
  },
  {
   "cell_type": "code",
   "execution_count": 44,
   "metadata": {},
   "outputs": [],
   "source": [
    "items = []\n",
    "for index, value in enumerate(g.betweenness(weights='weight')):\n",
    "    if value > 0:\n",
    "        items.append({ 'name': g.vs[index]['name'], 'betweeness': value })\n",
    "items.sort(key=lambda x: x['betweeness'], reverse=True)"
   ]
  },
  {
   "cell_type": "code",
   "execution_count": 45,
   "metadata": {
    "scrolled": false
   },
   "outputs": [
    {
     "data": {
      "text/plain": [
       "[{'name': '代收手續費１５', 'betweeness': 6.0}, {'name': '代收手續費４', 'betweeness': 1.0}]"
      ]
     },
     "execution_count": 45,
     "metadata": {},
     "output_type": "execute_result"
    }
   ],
   "source": [
    "items[0:10]"
   ]
  },
  {
   "cell_type": "code",
   "execution_count": 46,
   "metadata": {},
   "outputs": [
    {
     "data": {
      "text/plain": [
       "[1,\n",
       " 1,\n",
       " 1,\n",
       " 1,\n",
       " 1,\n",
       " 1,\n",
       " 1,\n",
       " 1,\n",
       " 1,\n",
       " 1,\n",
       " 1,\n",
       " 1,\n",
       " 1,\n",
       " 1,\n",
       " 1,\n",
       " 1,\n",
       " 1,\n",
       " 2,\n",
       " 1,\n",
       " 1,\n",
       " 1,\n",
       " 4,\n",
       " 1,\n",
       " 1,\n",
       " 1,\n",
       " 1,\n",
       " 1,\n",
       " 1,\n",
       " 1,\n",
       " 1,\n",
       " 1,\n",
       " 1,\n",
       " 1,\n",
       " 1,\n",
       " 1,\n",
       " 1,\n",
       " 1,\n",
       " 1,\n",
       " 1,\n",
       " 1,\n",
       " 1,\n",
       " 1,\n",
       " 1,\n",
       " 1]"
      ]
     },
     "execution_count": 46,
     "metadata": {},
     "output_type": "execute_result"
    }
   ],
   "source": [
    "g.degree()"
   ]
  },
  {
   "cell_type": "code",
   "execution_count": 75,
   "metadata": {},
   "outputs": [],
   "source": [
    "for index, vertex in enumerate(g.vs):\n",
    "    vertex.update_attributes({ 'community': cluster.membership[index], 'id': index })"
   ]
  },
  {
   "cell_type": "code",
   "execution_count": 87,
   "metadata": {},
   "outputs": [],
   "source": [
    "def normalizer(max_degree):\n",
    "    max_value = max_degree\n",
    "    min_value = 1\n",
    "    def normalize(value):\n",
    "        return (value - min_value) / max_value + 1\n",
    "    return normalize"
   ]
  },
  {
   "cell_type": "code",
   "execution_count": 94,
   "metadata": {},
   "outputs": [],
   "source": [
    "import json\n",
    "def to_json(graph, cluster):\n",
    "    for index, vertex in enumerate(graph.vs):\n",
    "        vertex.update_attributes({ 'community': cluster.membership[index], 'id': index })\n",
    "    norm= normalizer(graph.maxdegree())\n",
    "    nodes = []\n",
    "    edges = []\n",
    "    for edge in graph.es:\n",
    "        edge_attr = {}\n",
    "        edge_attr['from'], edge_attr['to'] = edge.tuple\n",
    "        edge_attr['weight'] = edge['weight']\n",
    "        edges.append(edge_attr)\n",
    "    for node in graph.vs:\n",
    "        node_attr = {}\n",
    "        node_attr = { key: node[key] for key in node.attributes()}\n",
    "        node_attr['degree'] = node.degree()\n",
    "        nodes.append(node_attr)\n",
    "    return json.dumps({\n",
    "        'nodes': nodes,\n",
    "        'edges': edges,\n",
    "    }, indent=4)"
   ]
  },
  {
   "cell_type": "code",
   "execution_count": 95,
   "metadata": {},
   "outputs": [],
   "source": [
    "data = to_json(g, cluster)"
   ]
  },
  {
   "cell_type": "code",
   "execution_count": 96,
   "metadata": {},
   "outputs": [],
   "source": [
    "with open('data.json', 'w', encoding='utf-8') as file:\n",
    "    file.write(data)"
   ]
  },
  {
   "cell_type": "code",
   "execution_count": null,
   "metadata": {},
   "outputs": [],
   "source": []
  }
 ],
 "metadata": {
  "kernelspec": {
   "display_name": "Python 3",
   "language": "python",
   "name": "python3"
  },
  "language_info": {
   "codemirror_mode": {
    "name": "ipython",
    "version": 3
   },
   "file_extension": ".py",
   "mimetype": "text/x-python",
   "name": "python",
   "nbconvert_exporter": "python",
   "pygments_lexer": "ipython3",
   "version": "3.7.2"
  }
 },
 "nbformat": 4,
 "nbformat_minor": 2
}
