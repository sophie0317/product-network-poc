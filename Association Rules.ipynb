{
 "cells": [
  {
   "cell_type": "code",
   "execution_count": 1,
   "metadata": {},
   "outputs": [],
   "source": [
    "import pandas as pd\n",
    "import numpy"
   ]
  },
  {
   "cell_type": "code",
   "execution_count": 2,
   "metadata": {
    "scrolled": false
   },
   "outputs": [
    {
     "ename": "FileNotFoundError",
     "evalue": "[Errno 2] No such file or directory: 'customer_data.csv'",
     "output_type": "error",
     "traceback": [
      "\u001b[1;31m---------------------------------------------------------------------------\u001b[0m",
      "\u001b[1;31mFileNotFoundError\u001b[0m                         Traceback (most recent call last)",
      "\u001b[1;32m<ipython-input-2-ee9a04f36113>\u001b[0m in \u001b[0;36m<module>\u001b[1;34m\u001b[0m\n\u001b[0;32m      1\u001b[0m \u001b[1;32mimport\u001b[0m \u001b[0mcodecs\u001b[0m\u001b[1;33m\u001b[0m\u001b[1;33m\u001b[0m\u001b[0m\n\u001b[0;32m      2\u001b[0m \u001b[1;32mimport\u001b[0m \u001b[0mos\u001b[0m\u001b[1;33m\u001b[0m\u001b[1;33m\u001b[0m\u001b[0m\n\u001b[1;32m----> 3\u001b[1;33m \u001b[1;32mwith\u001b[0m \u001b[0mcodecs\u001b[0m\u001b[1;33m.\u001b[0m\u001b[0mopen\u001b[0m\u001b[1;33m(\u001b[0m\u001b[1;34m'customer_data.csv'\u001b[0m\u001b[1;33m,\u001b[0m \u001b[1;34m'r'\u001b[0m\u001b[1;33m)\u001b[0m \u001b[1;32mas\u001b[0m \u001b[0mfile\u001b[0m\u001b[1;33m:\u001b[0m\u001b[1;33m\u001b[0m\u001b[1;33m\u001b[0m\u001b[0m\n\u001b[0m\u001b[0;32m      4\u001b[0m     \u001b[0mBLOCKSIZE\u001b[0m \u001b[1;33m=\u001b[0m \u001b[1;36m512\u001b[0m\u001b[1;33m\u001b[0m\u001b[1;33m\u001b[0m\u001b[0m\n\u001b[0;32m      5\u001b[0m     \u001b[1;32mif\u001b[0m \u001b[1;32mnot\u001b[0m \u001b[0mos\u001b[0m\u001b[1;33m.\u001b[0m\u001b[0mpath\u001b[0m\u001b[1;33m.\u001b[0m\u001b[0mexists\u001b[0m\u001b[1;33m(\u001b[0m\u001b[1;34m'customer_data(utf-8).csv'\u001b[0m\u001b[1;33m)\u001b[0m\u001b[1;33m:\u001b[0m\u001b[1;33m\u001b[0m\u001b[1;33m\u001b[0m\u001b[0m\n",
      "\u001b[1;32mc:\\users\\phil\\appdata\\local\\programs\\python\\python37-32\\lib\\codecs.py\u001b[0m in \u001b[0;36mopen\u001b[1;34m(filename, mode, encoding, errors, buffering)\u001b[0m\n\u001b[0;32m    896\u001b[0m         \u001b[1;31m# Force opening of the file in binary mode\u001b[0m\u001b[1;33m\u001b[0m\u001b[1;33m\u001b[0m\u001b[1;33m\u001b[0m\u001b[0m\n\u001b[0;32m    897\u001b[0m         \u001b[0mmode\u001b[0m \u001b[1;33m=\u001b[0m \u001b[0mmode\u001b[0m \u001b[1;33m+\u001b[0m \u001b[1;34m'b'\u001b[0m\u001b[1;33m\u001b[0m\u001b[1;33m\u001b[0m\u001b[0m\n\u001b[1;32m--> 898\u001b[1;33m     \u001b[0mfile\u001b[0m \u001b[1;33m=\u001b[0m \u001b[0mbuiltins\u001b[0m\u001b[1;33m.\u001b[0m\u001b[0mopen\u001b[0m\u001b[1;33m(\u001b[0m\u001b[0mfilename\u001b[0m\u001b[1;33m,\u001b[0m \u001b[0mmode\u001b[0m\u001b[1;33m,\u001b[0m \u001b[0mbuffering\u001b[0m\u001b[1;33m)\u001b[0m\u001b[1;33m\u001b[0m\u001b[1;33m\u001b[0m\u001b[0m\n\u001b[0m\u001b[0;32m    899\u001b[0m     \u001b[1;32mif\u001b[0m \u001b[0mencoding\u001b[0m \u001b[1;32mis\u001b[0m \u001b[1;32mNone\u001b[0m\u001b[1;33m:\u001b[0m\u001b[1;33m\u001b[0m\u001b[1;33m\u001b[0m\u001b[0m\n\u001b[0;32m    900\u001b[0m         \u001b[1;32mreturn\u001b[0m \u001b[0mfile\u001b[0m\u001b[1;33m\u001b[0m\u001b[1;33m\u001b[0m\u001b[0m\n",
      "\u001b[1;31mFileNotFoundError\u001b[0m: [Errno 2] No such file or directory: 'customer_data.csv'"
     ]
    }
   ],
   "source": [
    "import codecs\n",
    "import os\n",
    "with codecs.open('customer_data.csv', 'r') as file:\n",
    "    BLOCKSIZE = 512\n",
    "    if not os.path.exists('customer_data(utf-8).csv'):\n",
    "        with codecs.open('customer_data(utf-8).csv', \"w\", \"utf-8\") as targetFile:\n",
    "            while True:\n",
    "                contents = file.read(BLOCKSIZE)\n",
    "                if not contents:\n",
    "                    break\n",
    "                targetFile.write(contents)"
   ]
  },
  {
   "cell_type": "code",
   "execution_count": 2,
   "metadata": {},
   "outputs": [],
   "source": [
    "dtype = {\n",
    "    '交易id': numpy.str,\n",
    "    '資料日期': numpy.str,\n",
    "    '資料時間': numpy.str,\n",
    "    '餐別帶': numpy.str,\n",
    "    '縣市別': numpy.str,\n",
    "    '店舖代號': numpy.uint32,\n",
    "    '主商圈': numpy.str,\n",
    "    '品號-品名稱': numpy.str,\n",
    "    '群號-群名稱': numpy.str,\n",
    "    '單品名稱': numpy.str,\n",
    "    '銷售數量': numpy.uint16,\n",
    "    '銷售單價': numpy.float,\n",
    "    '交易金額': numpy.float\n",
    "}\n",
    "USE_COLUMNS = ['交易id', '資料日期', '資料時間', '餐別帶', '縣市別', '店舖代號', '主商圈', '品號-品名稱',\n",
    "       '群號-群名稱', '單品名稱', '銷售數量', '銷售單價', '交易金額']\n",
    "PARSE_DATES = {\n",
    "    '資料日期與時間': [\n",
    "        '資料日期',\n",
    "        '資料時間'\n",
    "    ]\n",
    "}"
   ]
  },
  {
   "cell_type": "code",
   "execution_count": 3,
   "metadata": {},
   "outputs": [],
   "source": [
    "file = pd.read_csv('customer_data(utf-8).csv',\n",
    "                   index_col=1,\n",
    "                   nrows=100000,\n",
    "                   usecols=USE_COLUMNS,\n",
    "                   dtype=dtype,\n",
    "                   parse_dates=PARSE_DATES,\n",
    "        )"
   ]
  },
  {
   "cell_type": "code",
   "execution_count": 4,
   "metadata": {},
   "outputs": [],
   "source": [
    "file = file.dropna()"
   ]
  },
  {
   "cell_type": "code",
   "execution_count": 5,
   "metadata": {
    "scrolled": true
   },
   "outputs": [
    {
     "data": {
      "text/plain": [
       "(99981, 11)"
      ]
     },
     "execution_count": 5,
     "metadata": {},
     "output_type": "execute_result"
    }
   ],
   "source": [
    "file.shape"
   ]
  },
  {
   "cell_type": "code",
   "execution_count": 6,
   "metadata": {},
   "outputs": [],
   "source": [
    "def get_copurchase_df(df):\n",
    "    count_size = df.index.unique()\n",
    "    size_df = df.groupby('交易id').size()\n",
    "    size_df = size_df[size_df < 2]\n",
    "    return df.drop(list(size_df.index), axis=0)"
   ]
  },
  {
   "cell_type": "code",
   "execution_count": 7,
   "metadata": {},
   "outputs": [],
   "source": [
    "data = get_copurchase_df(file)"
   ]
  },
  {
   "cell_type": "code",
   "execution_count": 8,
   "metadata": {},
   "outputs": [
    {
     "data": {
      "text/html": [
       "<div>\n",
       "<style scoped>\n",
       "    .dataframe tbody tr th:only-of-type {\n",
       "        vertical-align: middle;\n",
       "    }\n",
       "\n",
       "    .dataframe tbody tr th {\n",
       "        vertical-align: top;\n",
       "    }\n",
       "\n",
       "    .dataframe thead th {\n",
       "        text-align: right;\n",
       "    }\n",
       "</style>\n",
       "<table border=\"1\" class=\"dataframe\">\n",
       "  <thead>\n",
       "    <tr style=\"text-align: right;\">\n",
       "      <th></th>\n",
       "      <th>資料日期與時間</th>\n",
       "      <th>餐別帶</th>\n",
       "      <th>縣市別</th>\n",
       "      <th>店舖代號</th>\n",
       "      <th>主商圈</th>\n",
       "      <th>品號-品名稱</th>\n",
       "      <th>群號-群名稱</th>\n",
       "      <th>單品名稱</th>\n",
       "      <th>銷售數量</th>\n",
       "      <th>銷售單價</th>\n",
       "      <th>交易金額</th>\n",
       "    </tr>\n",
       "    <tr>\n",
       "      <th>交易id</th>\n",
       "      <th></th>\n",
       "      <th></th>\n",
       "      <th></th>\n",
       "      <th></th>\n",
       "      <th></th>\n",
       "      <th></th>\n",
       "      <th></th>\n",
       "      <th></th>\n",
       "      <th></th>\n",
       "      <th></th>\n",
       "      <th></th>\n",
       "    </tr>\n",
       "  </thead>\n",
       "  <tbody>\n",
       "    <tr>\n",
       "      <th>01637920171201184556000112534201</th>\n",
       "      <td>2017-12-01 18:45:56</td>\n",
       "      <td>晚餐時間帶</td>\n",
       "      <td>台中市</td>\n",
       "      <td>11148</td>\n",
       "      <td>住宅型</td>\n",
       "      <td>72-家庭雜貨</td>\n",
       "      <td>722-家雜用品</td>\n",
       "      <td>（新）銷售用購物袋１８號袋</td>\n",
       "      <td>1</td>\n",
       "      <td>1.0</td>\n",
       "      <td>1.0</td>\n",
       "    </tr>\n",
       "    <tr>\n",
       "      <th>01614720171201163042000114405402</th>\n",
       "      <td>2017-12-01 16:30:42</td>\n",
       "      <td>下午茶時間帶</td>\n",
       "      <td>台中市</td>\n",
       "      <td>10697</td>\n",
       "      <td>住宅型</td>\n",
       "      <td>29-冷藏飲料</td>\n",
       "      <td>296-冷藏奶茶</td>\n",
       "      <td>飲冰室茶集綠奶茶</td>\n",
       "      <td>1</td>\n",
       "      <td>25.0</td>\n",
       "      <td>25.0</td>\n",
       "    </tr>\n",
       "    <tr>\n",
       "      <th>01384020171201130558000119295301</th>\n",
       "      <td>2017-12-01 13:05:58</td>\n",
       "      <td>午餐時間帶</td>\n",
       "      <td>彰化縣</td>\n",
       "      <td>13840</td>\n",
       "      <td>文教型</td>\n",
       "      <td>12-調理麵</td>\n",
       "      <td>122-熱食麵２配</td>\n",
       "      <td>沙茶牛肉炒麵</td>\n",
       "      <td>1</td>\n",
       "      <td>69.0</td>\n",
       "      <td>69.0</td>\n",
       "    </tr>\n",
       "    <tr>\n",
       "      <th>01475120171201153506000111697202</th>\n",
       "      <td>2017-12-01 15:35:06</td>\n",
       "      <td>下午茶時間帶</td>\n",
       "      <td>新竹市</td>\n",
       "      <td>4151</td>\n",
       "      <td>工業型</td>\n",
       "      <td>29-冷藏飲料</td>\n",
       "      <td>291-冷藏茶飲料</td>\n",
       "      <td>冷泡茶台茶１２號紅茶</td>\n",
       "      <td>1</td>\n",
       "      <td>25.0</td>\n",
       "      <td>21.0</td>\n",
       "    </tr>\n",
       "    <tr>\n",
       "      <th>01564720171201180924000113751602</th>\n",
       "      <td>2017-12-01 18:09:24</td>\n",
       "      <td>晚餐時間帶</td>\n",
       "      <td>台中市</td>\n",
       "      <td>3860</td>\n",
       "      <td>住宅型</td>\n",
       "      <td>34-健康飲料</td>\n",
       "      <td>343-水</td>\n",
       "      <td>多喝水２Ｌ</td>\n",
       "      <td>2</td>\n",
       "      <td>35.0</td>\n",
       "      <td>49.0</td>\n",
       "    </tr>\n",
       "  </tbody>\n",
       "</table>\n",
       "</div>"
      ],
      "text/plain": [
       "                                             資料日期與時間     餐別帶  縣市別   店舖代號  主商圈  \\\n",
       "交易id                                                                            \n",
       "01637920171201184556000112534201 2017-12-01 18:45:56   晚餐時間帶  台中市  11148  住宅型   \n",
       "01614720171201163042000114405402 2017-12-01 16:30:42  下午茶時間帶  台中市  10697  住宅型   \n",
       "01384020171201130558000119295301 2017-12-01 13:05:58   午餐時間帶  彰化縣  13840  文教型   \n",
       "01475120171201153506000111697202 2017-12-01 15:35:06  下午茶時間帶  新竹市   4151  工業型   \n",
       "01564720171201180924000113751602 2017-12-01 18:09:24   晚餐時間帶  台中市   3860  住宅型   \n",
       "\n",
       "                                   品號-品名稱     群號-群名稱           單品名稱  銷售數量  \\\n",
       "交易id                                                                        \n",
       "01637920171201184556000112534201  72-家庭雜貨   722-家雜用品  （新）銷售用購物袋１８號袋     1   \n",
       "01614720171201163042000114405402  29-冷藏飲料   296-冷藏奶茶       飲冰室茶集綠奶茶     1   \n",
       "01384020171201130558000119295301   12-調理麵  122-熱食麵２配         沙茶牛肉炒麵     1   \n",
       "01475120171201153506000111697202  29-冷藏飲料  291-冷藏茶飲料     冷泡茶台茶１２號紅茶     1   \n",
       "01564720171201180924000113751602  34-健康飲料      343-水          多喝水２Ｌ     2   \n",
       "\n",
       "                                  銷售單價  交易金額  \n",
       "交易id                                          \n",
       "01637920171201184556000112534201   1.0   1.0  \n",
       "01614720171201163042000114405402  25.0  25.0  \n",
       "01384020171201130558000119295301  69.0  69.0  \n",
       "01475120171201153506000111697202  25.0  21.0  \n",
       "01564720171201180924000113751602  35.0  49.0  "
      ]
     },
     "execution_count": 8,
     "metadata": {},
     "output_type": "execute_result"
    }
   ],
   "source": [
    "data.head()"
   ]
  },
  {
   "cell_type": "code",
   "execution_count": 9,
   "metadata": {},
   "outputs": [],
   "source": [
    "def aggregate(df):\n",
    "    dic = {}\n",
    "    for index, row in df.iterrows():\n",
    "        if index not in dic:\n",
    "            dic[index] = []\n",
    "        dic[index].append({\n",
    "            'name': row['單品名稱'],\n",
    "            'amount': row['銷售單價']\n",
    "        })\n",
    "    dic = { index : value for index, value in dic.items() if len(value) > 1}\n",
    "    return dic"
   ]
  },
  {
   "cell_type": "code",
   "execution_count": 10,
   "metadata": {},
   "outputs": [],
   "source": [
    "purchase_list = aggregate(data)"
   ]
  },
  {
   "cell_type": "code",
   "execution_count": 11,
   "metadata": {
    "scrolled": true
   },
   "outputs": [
    {
     "data": {
      "text/plain": [
       "23288"
      ]
     },
     "execution_count": 11,
     "metadata": {},
     "output_type": "execute_result"
    }
   ],
   "source": [
    "len(purchase_list)"
   ]
  },
  {
   "cell_type": "markdown",
   "metadata": {
    "collapsed": true
   },
   "source": [
    "# Network Analysis"
   ]
  },
  {
   "cell_type": "code",
   "execution_count": 12,
   "metadata": {},
   "outputs": [],
   "source": [
    "from itertools import filterfalse\n",
    "def convert(purchase_list, support):\n",
    "    def find_edges_in_list(itemsets):\n",
    "        from itertools import combinations\n",
    "        result = []\n",
    "        return combinations(itemsets, 2)\n",
    "    result = {}\n",
    "    nodes = set()\n",
    "    for key, itemsets in purchase_list.items():\n",
    "        if len(itemsets) > 1:\n",
    "            for edge_dict_tuple in find_edges_in_list(itemsets):\n",
    "                edge = tuple([dic['name'] for dic in edge_dict_tuple])\n",
    "                weight = sum([dic['amount'] for dic in edge_dict_tuple])\n",
    "                if edge in result:\n",
    "                    result[edge]['count'] += 1\n",
    "                else:\n",
    "                    result[edge] = {}\n",
    "                    result[edge]['count'] = 1\n",
    "                    result[edge]['weight'] = weight\n",
    "    for key in list(result.keys()):\n",
    "        if result[key]['count'] < support:\n",
    "            del result[key]\n",
    "    for items in result.keys():\n",
    "        for item in items:\n",
    "            if item not in nodes:\n",
    "                nodes.add(item)\n",
    "    return (nodes, result)"
   ]
  },
  {
   "cell_type": "code",
   "execution_count": 13,
   "metadata": {},
   "outputs": [],
   "source": [
    "nodes, edges_dict = convert(purchase_list, 8)"
   ]
  },
  {
   "cell_type": "code",
   "execution_count": 14,
   "metadata": {
    "scrolled": true
   },
   "outputs": [
    {
     "name": "stdout",
     "output_type": "stream",
     "text": [
      "Node number: 194\n",
      "Edge number: 453\n"
     ]
    }
   ],
   "source": [
    "print('Node number: {}\\nEdge number: {}'.format(len(nodes), len(edges_dict)))"
   ]
  },
  {
   "cell_type": "code",
   "execution_count": 35,
   "metadata": {},
   "outputs": [],
   "source": [
    "import igraph"
   ]
  },
  {
   "cell_type": "code",
   "execution_count": 44,
   "metadata": {},
   "outputs": [],
   "source": [
    "g = igraph.Graph()"
   ]
  },
  {
   "cell_type": "code",
   "execution_count": 45,
   "metadata": {},
   "outputs": [],
   "source": [
    "for node in nodes:\n",
    "    g.add_vertex(node)"
   ]
  },
  {
   "cell_type": "code",
   "execution_count": 46,
   "metadata": {
    "scrolled": false
   },
   "outputs": [
    {
     "data": {
      "text/plain": [
       "194"
      ]
     },
     "execution_count": 46,
     "metadata": {},
     "output_type": "execute_result"
    }
   ],
   "source": [
    "len(g.vs)"
   ]
  },
  {
   "cell_type": "code",
   "execution_count": 47,
   "metadata": {},
   "outputs": [],
   "source": [
    "for edge, attrs in edges_dict.items():\n",
    "    weight = attrs['weight'] * attrs['count'] if attrs['weight'] > 0 else 1\n",
    "    g.add_edge(edge[0], edge[1], weight=weight)"
   ]
  },
  {
   "cell_type": "code",
   "execution_count": 50,
   "metadata": {},
   "outputs": [],
   "source": [
    "g.simplify(combine_edges={ \"weight\": \"sum\" })\n",
    "g.to_undirected(mode='mutual', combine_edges={ \"weight\": \"sum\" })"
   ]
  },
  {
   "cell_type": "code",
   "execution_count": 51,
   "metadata": {
    "scrolled": true
   },
   "outputs": [],
   "source": [
    "communities = g.community_fastgreedy('weight')"
   ]
  },
  {
   "cell_type": "code",
   "execution_count": 55,
   "metadata": {},
   "outputs": [],
   "source": [
    "cluster = communities.as_clustering()"
   ]
  },
  {
   "cell_type": "code",
   "execution_count": 56,
   "metadata": {
    "scrolled": true
   },
   "outputs": [
    {
     "data": {
      "text/plain": [
       "36"
      ]
     },
     "execution_count": 56,
     "metadata": {},
     "output_type": "execute_result"
    }
   ],
   "source": [
    "len(cluster)"
   ]
  },
  {
   "cell_type": "code",
   "execution_count": 57,
   "metadata": {
    "scrolled": false
   },
   "outputs": [
    {
     "name": "stdout",
     "output_type": "stream",
     "text": [
      "優格軟糖（Ｐｅａｃｈ） 潤喉糖－蜂蜜檸檬 超涼口香糖（袋） 優格軟糖（Ｏｒａｎｇｅ） 奶香綠茶３３０ＭＬ ＡＷ極酷嗆涼紫冰野莓口香糖 代收折價卷\n",
      "==================\n",
      "雲絲頓紅１０毫克香煙 七星１０毫克硬盒香煙 （新）４５號銷售用購物袋 麥香錫蘭奶茶 伯朗咖啡 純喫茶紅茶 冷泡茶冷萃綠茶無糖 飲冰室茶集紅奶茶 紫米紅豆湯圓 咖啡廣場奶香特調咖啡 麥香阿薩姆奶茶 冷泡茶冰釀烏龍 金牌台啤罐裝（６入） 天然水２．２Ｌ 金蘋果調味乳蘋果風味 麥香紅茶ＴＰ３００ 奶油雞排歐姆蛋燴飯 義美奶茶 鹼性離子水 日式蒜香燒豚飯 金牌台灣啤酒５００ＭＬ 天然水 台鹽海洋鹼性離子水 藍山咖啡 泡沫紅茶ＴＰ３００ （新）銷售用購物袋１８號袋 麥香綠茶ＴＰ３００ 純喫茶無糖綠茶６５０ｍｌ 麥香奶茶ＴＰ３００ 飲冰室茶集綠奶茶 純喫茶綠茶６５０ｍｌ 泡沫綠茶ＴＰ３００ 原萃日式綠茶 蔥爆牛肉燴飯 金牌台灣啤酒 茶裏王日式綠茶 全家克林姆麵包 統一大布丁（雞蛋口味） 可口可樂ＰＥＴ 衛生冰\n",
      "==================\n",
      "欣中天然氣 健保費代收 花旗信用卡 勞保費代收 國泰世華卡 勞工退休金 台中二段停 遠傳電信 地方查核稅款 台灣電力 欣林瓦斯費 代收手續費４ 台灣自來水 玉山信用卡 聯邦信用卡 台新信用卡 台灣大哥大 國民年金代 中華電信 中信有線代\n",
      "==================\n",
      "鮪魚飯糰 簡單點無加糖優酪乳 統一陽光無糖高纖豆漿 義美古早傳統無糖豆奶 全家熱狗麵包 商店街取件 熱拿鐵小杯 鮮奶茶 茶葉蛋（銷售用） 特濃黑可可 蕃薯（２５元） 養樂多 林鳳營全脂鮮乳 光泉無加糖鮮豆漿 肉鬆起酥麵包 蕃薯（２０元） 特濃咖啡拿鐵 香蕉單入 肉鬆飯糰 爆濃起司熱狗 蕃薯（１５元） 光泉米漿 頂級鮮奶優格－莓果穀物脆片 簡單點原味優酪乳 經典原味熱狗 蕃薯（３０元） 雪花蛋糕 ＬＣＡ活菌原味發酵乳 蝦皮取件Ｃ 黑胡椒熱狗\n",
      "==================\n",
      "熱拿鐵大杯 冰拿鐵大杯\n",
      "==================\n",
      "台鐵手續費 台鐵取票\n",
      "==================\n",
      "ｅＴａｇ繳費 通行繳費 代收手續費５\n",
      "==================\n",
      "黃金魚豆腐 關東煮本舖拉麵 蟹肉糰子 千層玉子燒 野菜多多魚餅 杏鮑菇 黃金厚切魚板 鮮香菇 王子麵 白玉蘿蔔 讚岐烏龍麵 究極味付蛋 日式黑輪 關東煮本舖冬粉 手工高麗菜捲 旗魚黑輪 筊白筍 特級花枝丸 海鮮魚卵棒\n",
      "==================\n",
      "紅標料理米酒 空瓶回收（銷售用）\n",
      "==================\n",
      "店到店雅虎拍賣手續費 雅虎拍賣寄件\n",
      "==================\n",
      "商店街寄件Ｗ 雅虎線上寄件 店到店雅虎拍賣線上手續費 露天寄件Ｗ 蝦皮寄件Ｗ\n",
      "==================\n",
      "蘋果日報 聯合報 自由時報\n",
      "==================\n",
      "國光購票 國光客運手續費\n",
      "==================\n",
      "辣味ＹＵＲＯＣＫ魚薯條無 原味ＹＵＲＯＣＫ魚薯條無\n",
      "==================\n",
      "黑巧杏仁乳加 牛奶杏仁乳加\n",
      "==================\n",
      "代收手續費１０ 遠銀一般代Ｚ\n",
      "==================\n",
      "能多益隨手杯 促銷券０９\n",
      "==================\n",
      "台中裁罰單 台銀學雜費 代收手續費６\n",
      "==================\n",
      "冰鎮檸檬紅茶６５０ｍｌ 冰鎮芭樂綠茶６５０ｍｌ\n",
      "==================\n",
      "代收手續費１３ 渣打一般３\n",
      "==================\n",
      "麥香紅茶ＴＰ３７５ 麥香奶茶ＴＰ３７５\n",
      "==================\n",
      "戰禍邪神第１２章 戰禍邪神第１１章\n",
      "==================\n",
      "特濃抹茶拿鐵 熱美式中杯 熱拿鐵中杯 大口法香烤雞飯糰 大口奶油蕈菇起司雞排飯糰 綠豆沙牛乳\n",
      "==================\n",
      "代收手續費２５ 寶物交易代\n",
      "==================\n",
      "台中裁即銷罰 交通罰鍰代收即銷手續費\n",
      "==================\n",
      "火腿青蔬洋芋沙拉 千島醬\n",
      "==================\n",
      "Ｃｒｅａｍ－Ｏ黑巧克力三明治餅 伊藤園蘋果紅茶 促銷券０６ 頑皮滷蛋－原味\n",
      "==================\n",
      "貝納頌海鹽風味拿鐵 焗烤鮪魚歐姆蛋三明治\n",
      "==================\n",
      "芒果冰茶 葡萄冰茶 蘋果冰茶\n",
      "==================\n",
      "統聯客運手續費 統聯客運購票\n",
      "==================\n",
      "ＭＭ花生巧克力 促銷券１０\n",
      "==================\n",
      "店到店ＦＰ手續費 ＦＰ店到店\n",
      "==================\n",
      "代收手續費１５ 合庫代１５ 雅虎拍賣繳費 中信外１５ 玉山淘寶款\n",
      "==================\n",
      "高鐵取票 高鐵手續費\n",
      "==================\n",
      "午后時光王室大吉嶺奶茶 午后時光鐵觀音奶茶\n",
      "==================\n",
      "蝦皮寄件Ｆ 商店街寄件Ｆ\n",
      "==================\n"
     ]
    }
   ],
   "source": [
    "for comm in cluster:\n",
    "    comm_name = [ g.vs[index]['name'] for index in comm]\n",
    "    print(\" \".join(comm_name))\n",
    "    print(\"==================\")"
   ]
  },
  {
   "cell_type": "code",
   "execution_count": 58,
   "metadata": {
    "scrolled": true
   },
   "outputs": [
    {
     "data": {
      "text/plain": [
       "0.821130910093025"
      ]
     },
     "execution_count": 58,
     "metadata": {},
     "output_type": "execute_result"
    }
   ],
   "source": [
    "cluster.modularity"
   ]
  },
  {
   "cell_type": "code",
   "execution_count": 59,
   "metadata": {},
   "outputs": [],
   "source": [
    "items = []\n",
    "for index, value in enumerate(g.betweenness(weights='weight')):\n",
    "    if value > 0:\n",
    "        items.append({ 'name': g.vs[index]['name'], 'betweeness': value })\n",
    "items.sort(key=lambda x: x['betweeness'], reverse=True)"
   ]
  },
  {
   "cell_type": "code",
   "execution_count": 60,
   "metadata": {
    "scrolled": false
   },
   "outputs": [
    {
     "data": {
      "text/plain": [
       "[{'name': '（新）銷售用購物袋１８號袋', 'betweeness': 2790.0},\n",
       " {'name': '茶葉蛋（銷售用）', 'betweeness': 2564.0},\n",
       " {'name': '麥香奶茶ＴＰ３００', 'betweeness': 2011.0},\n",
       " {'name': '促銷券０６', 'betweeness': 726.0},\n",
       " {'name': '代收折價卷', 'betweeness': 506.0},\n",
       " {'name': '熱拿鐵中杯', 'betweeness': 419.0},\n",
       " {'name': '經典原味熱狗', 'betweeness': 255.0},\n",
       " {'name': '肉鬆飯糰', 'betweeness': 248.0},\n",
       " {'name': '鮪魚飯糰', 'betweeness': 173.0},\n",
       " {'name': '黑胡椒熱狗', 'betweeness': 172.0}]"
      ]
     },
     "execution_count": 60,
     "metadata": {},
     "output_type": "execute_result"
    }
   ],
   "source": [
    "items[0:10]"
   ]
  },
  {
   "cell_type": "code",
   "execution_count": 71,
   "metadata": {},
   "outputs": [
    {
     "data": {
      "text/plain": [
       "[2,\n",
       " 1,\n",
       " 1,\n",
       " 1,\n",
       " 1,\n",
       " 5,\n",
       " 2,\n",
       " 1,\n",
       " 1,\n",
       " 1,\n",
       " 1,\n",
       " 1,\n",
       " 13,\n",
       " 1,\n",
       " 2,\n",
       " 1,\n",
       " 13,\n",
       " 1,\n",
       " 1,\n",
       " 1,\n",
       " 2,\n",
       " 1,\n",
       " 1,\n",
       " 1,\n",
       " 1,\n",
       " 1,\n",
       " 1,\n",
       " 7,\n",
       " 3,\n",
       " 1,\n",
       " 3,\n",
       " 1,\n",
       " 12,\n",
       " 1,\n",
       " 1,\n",
       " 1,\n",
       " 1,\n",
       " 1,\n",
       " 15,\n",
       " 1,\n",
       " 1,\n",
       " 1,\n",
       " 1,\n",
       " 1,\n",
       " 1,\n",
       " 1,\n",
       " 2,\n",
       " 1,\n",
       " 3,\n",
       " 1,\n",
       " 2,\n",
       " 11,\n",
       " 1,\n",
       " 1,\n",
       " 9,\n",
       " 1,\n",
       " 4,\n",
       " 1,\n",
       " 2,\n",
       " 1,\n",
       " 2,\n",
       " 1,\n",
       " 1,\n",
       " 1,\n",
       " 2,\n",
       " 2,\n",
       " 1,\n",
       " 1,\n",
       " 25,\n",
       " 12,\n",
       " 1,\n",
       " 1,\n",
       " 1,\n",
       " 3,\n",
       " 1,\n",
       " 1,\n",
       " 1,\n",
       " 1,\n",
       " 2,\n",
       " 2,\n",
       " 1,\n",
       " 2,\n",
       " 1,\n",
       " 2,\n",
       " 1,\n",
       " 2,\n",
       " 1,\n",
       " 4,\n",
       " 1,\n",
       " 1,\n",
       " 16,\n",
       " 4,\n",
       " 3,\n",
       " 1,\n",
       " 3,\n",
       " 1,\n",
       " 1,\n",
       " 6,\n",
       " 1,\n",
       " 2,\n",
       " 1,\n",
       " 1,\n",
       " 2,\n",
       " 11,\n",
       " 1,\n",
       " 12,\n",
       " 1,\n",
       " 13,\n",
       " 1,\n",
       " 3,\n",
       " 8,\n",
       " 1,\n",
       " 1,\n",
       " 4,\n",
       " 1,\n",
       " 1,\n",
       " 13,\n",
       " 1,\n",
       " 35,\n",
       " 1,\n",
       " 1,\n",
       " 1,\n",
       " 2,\n",
       " 7,\n",
       " 4,\n",
       " 1,\n",
       " 1,\n",
       " 5,\n",
       " 3,\n",
       " 1,\n",
       " 1,\n",
       " 5,\n",
       " 2,\n",
       " 1,\n",
       " 2,\n",
       " 1,\n",
       " 2,\n",
       " 2,\n",
       " 3,\n",
       " 2,\n",
       " 1,\n",
       " 2,\n",
       " 1,\n",
       " 1,\n",
       " 1,\n",
       " 3,\n",
       " 1,\n",
       " 12,\n",
       " 1,\n",
       " 5,\n",
       " 1,\n",
       " 1,\n",
       " 1,\n",
       " 3,\n",
       " 1,\n",
       " 1,\n",
       " 1,\n",
       " 8,\n",
       " 7,\n",
       " 1,\n",
       " 1,\n",
       " 1,\n",
       " 1,\n",
       " 1,\n",
       " 11,\n",
       " 1,\n",
       " 1,\n",
       " 1,\n",
       " 1,\n",
       " 1,\n",
       " 1,\n",
       " 4,\n",
       " 1,\n",
       " 14,\n",
       " 2,\n",
       " 5,\n",
       " 14,\n",
       " 1,\n",
       " 1,\n",
       " 2,\n",
       " 1,\n",
       " 1,\n",
       " 1,\n",
       " 1,\n",
       " 2,\n",
       " 14,\n",
       " 4,\n",
       " 1,\n",
       " 1,\n",
       " 1,\n",
       " 1,\n",
       " 4,\n",
       " 2,\n",
       " 2]"
      ]
     },
     "execution_count": 71,
     "metadata": {},
     "output_type": "execute_result"
    }
   ],
   "source": [
    "g.degree()"
   ]
  },
  {
   "cell_type": "code",
   "execution_count": 75,
   "metadata": {},
   "outputs": [],
   "source": [
    "for index, vertex in enumerate(g.vs):\n",
    "    vertex.update_attributes({ 'community': cluster.membership[index], 'id': index })"
   ]
  },
  {
   "cell_type": "code",
   "execution_count": 87,
   "metadata": {},
   "outputs": [],
   "source": [
    "def normalizer(max_degree):\n",
    "    max_value = max_degree\n",
    "    min_value = 1\n",
    "    def normalize(value):\n",
    "        return (value - min_value) / max_value + 1\n",
    "    return normalize"
   ]
  },
  {
   "cell_type": "code",
   "execution_count": 94,
   "metadata": {},
   "outputs": [],
   "source": [
    "import json\n",
    "def to_json(graph, cluster):\n",
    "    for index, vertex in enumerate(graph.vs):\n",
    "        vertex.update_attributes({ 'community': cluster.membership[index], 'id': index })\n",
    "    norm= normalizer(graph.maxdegree())\n",
    "    nodes = []\n",
    "    edges = []\n",
    "    for edge in graph.es:\n",
    "        edge_attr = {}\n",
    "        edge_attr['from'], edge_attr['to'] = edge.tuple\n",
    "        edge_attr['weight'] = edge['weight']\n",
    "        edges.append(edge_attr)\n",
    "    for node in graph.vs:\n",
    "        node_attr = {}\n",
    "        node_attr = { key: node[key] for key in node.attributes()}\n",
    "        node_attr['degree'] = node.degree()\n",
    "        nodes.append(node_attr)\n",
    "    return json.dumps({\n",
    "        'nodes': nodes,\n",
    "        'edges': edges,\n",
    "    }, indent=4)"
   ]
  },
  {
   "cell_type": "code",
   "execution_count": 95,
   "metadata": {},
   "outputs": [],
   "source": [
    "data = to_json(g, cluster)"
   ]
  },
  {
   "cell_type": "code",
   "execution_count": 96,
   "metadata": {},
   "outputs": [],
   "source": [
    "with open('data.json', 'w', encoding='utf-8') as file:\n",
    "    file.write(data)"
   ]
  },
  {
   "cell_type": "code",
   "execution_count": null,
   "metadata": {},
   "outputs": [],
   "source": []
  }
 ],
 "metadata": {
  "kernelspec": {
   "display_name": "Python 3",
   "language": "python",
   "name": "python3"
  },
  "language_info": {
   "codemirror_mode": {
    "name": "ipython",
    "version": 3
   },
   "file_extension": ".py",
   "mimetype": "text/x-python",
   "name": "python",
   "nbconvert_exporter": "python",
   "pygments_lexer": "ipython3",
   "version": "3.7.2"
  }
 },
 "nbformat": 4,
 "nbformat_minor": 2
}
