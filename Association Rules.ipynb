{
 "cells": [
  {
   "cell_type": "code",
   "execution_count": 1,
   "metadata": {},
   "outputs": [],
   "source": [
    "from pymongo import MongoClient"
   ]
  },
  {
   "cell_type": "code",
   "execution_count": 2,
   "metadata": {},
   "outputs": [],
   "source": [
    "client = MongoClient('localhost', 27017)\n",
    "db = client['pn']"
   ]
  },
  {
   "cell_type": "code",
   "execution_count": 3,
   "metadata": {},
   "outputs": [],
   "source": [
    "purchase_list = list(db['transactions'].find({'items.1': { '$exists': True } }, projection=['items']))"
   ]
  },
  {
   "cell_type": "code",
   "execution_count": 5,
   "metadata": {},
   "outputs": [
    {
     "data": {
      "text/plain": [
       "23288"
      ]
     },
     "execution_count": 5,
     "metadata": {},
     "output_type": "execute_result"
    }
   ],
   "source": [
    "len(purchase_list)"
   ]
  },
  {
   "cell_type": "markdown",
   "metadata": {
    "collapsed": true
   },
   "source": [
    "# Network Analysis"
   ]
  },
  {
   "cell_type": "code",
   "execution_count": 6,
   "metadata": {},
   "outputs": [],
   "source": [
    "from itertools import filterfalse, combinations\n",
    "\n",
    "def find_edges_in_list(itemsets):\n",
    "    result = []\n",
    "    return combinations(itemsets, 2)\n",
    "\n",
    "def convert(purchase_list, support):\n",
    "    result = {}\n",
    "    nodes = set()\n",
    "    for transaction in purchase_list:\n",
    "        itemsets = transaction['items']\n",
    "        if len(itemsets) > 1:\n",
    "            edge_list = list(find_edges_in_list(itemsets))\n",
    "            length = len(edge_list)\n",
    "            for edge_dict_tuple in edge_list:\n",
    "                edge = tuple([dic['單品名稱'] for dic in edge_dict_tuple])\n",
    "                weight = sum([dic['amount'] for dic in edge_dict_tuple]) / length\n",
    "                if edge in result:\n",
    "                    result[edge]['count'] += 1\n",
    "                    result[edge]['weight'] += weight\n",
    "                else:\n",
    "                    result[edge] = {}\n",
    "                    result[edge]['count'] = 1\n",
    "                    result[edge]['weight'] = weight\n",
    "    for key in list(result.keys()):\n",
    "        if result[key]['count'] < support:\n",
    "            del result[key]\n",
    "    for items in result.keys():\n",
    "        for item in items:\n",
    "            if item not in nodes:\n",
    "                nodes.add(item)\n",
    "    return (nodes, result)"
   ]
  },
  {
   "cell_type": "code",
   "execution_count": 7,
   "metadata": {},
   "outputs": [],
   "source": [
    "nodes, edges_dict = convert(purchase_list, 8)"
   ]
  },
  {
   "cell_type": "code",
   "execution_count": 8,
   "metadata": {
    "scrolled": true
   },
   "outputs": [
    {
     "name": "stdout",
     "output_type": "stream",
     "text": [
      "Node number: 194\n",
      "Edge number: 453\n"
     ]
    }
   ],
   "source": [
    "print('Node number: {}\\nEdge number: {}'.format(len(nodes), len(edges_dict)))"
   ]
  },
  {
   "cell_type": "code",
   "execution_count": 9,
   "metadata": {},
   "outputs": [],
   "source": [
    "import igraph"
   ]
  },
  {
   "cell_type": "code",
   "execution_count": 10,
   "metadata": {},
   "outputs": [],
   "source": [
    "g = igraph.Graph()"
   ]
  },
  {
   "cell_type": "code",
   "execution_count": 11,
   "metadata": {},
   "outputs": [],
   "source": [
    "for node in nodes:\n",
    "    g.add_vertex(node)"
   ]
  },
  {
   "cell_type": "code",
   "execution_count": 12,
   "metadata": {
    "scrolled": false
   },
   "outputs": [
    {
     "data": {
      "text/plain": [
       "194"
      ]
     },
     "execution_count": 12,
     "metadata": {},
     "output_type": "execute_result"
    }
   ],
   "source": [
    "len(g.vs)"
   ]
  },
  {
   "cell_type": "code",
   "execution_count": 13,
   "metadata": {},
   "outputs": [],
   "source": [
    "for edge, attrs in edges_dict.items():\n",
    "    weight = attrs['weight'] if attrs['weight'] > 0 else 1\n",
    "    g.add_edge(edge[0], edge[1], weight=weight)"
   ]
  },
  {
   "cell_type": "code",
   "execution_count": 14,
   "metadata": {},
   "outputs": [],
   "source": [
    "g.simplify(combine_edges={ \"weight\": \"sum\" })\n",
    "g.to_undirected(mode='mutual', combine_edges={ \"weight\": \"sum\" })"
   ]
  },
  {
   "cell_type": "code",
   "execution_count": 15,
   "metadata": {
    "scrolled": true
   },
   "outputs": [],
   "source": [
    "communities = g.community_fastgreedy('weight')"
   ]
  },
  {
   "cell_type": "code",
   "execution_count": 16,
   "metadata": {},
   "outputs": [],
   "source": [
    "cluster = communities.as_clustering()"
   ]
  },
  {
   "cell_type": "markdown",
   "metadata": {},
   "source": [
    "# 排序Community"
   ]
  },
  {
   "cell_type": "code",
   "execution_count": 17,
   "metadata": {
    "scrolled": false
   },
   "outputs": [
    {
     "name": "stdout",
     "output_type": "stream",
     "text": [
      "戰禍邪神第１１章 戰禍邪神第１２章\n",
      "===========\n",
      "ＦＰ店到店 店到店ＦＰ手續費\n",
      "===========\n",
      "紅標料理米酒 空瓶回收（銷售用）\n",
      "===========\n",
      "頑皮滷蛋－原味 Ｃｒｅａｍ－Ｏ黑巧克力三明治餅 促銷券０６ 伊藤園蘋果紅茶\n",
      "===========\n",
      "冰拿鐵大杯 熱拿鐵大杯\n",
      "===========\n",
      "原味ＹＵＲＯＣＫ魚薯條無 辣味ＹＵＲＯＣＫ魚薯條無\n",
      "===========\n",
      "店到店雅虎拍賣手續費 雅虎拍賣寄件\n",
      "===========\n",
      "熱美式中杯 大口奶油蕈菇起司雞排飯糰 綠豆沙牛乳 特濃抹茶拿鐵 熱拿鐵中杯 大口法香烤雞飯糰\n",
      "===========\n",
      "特濃黑可可 蕃薯（２０元） 商店街取件 簡單點原味優酪乳 全家熱狗麵包 黑胡椒熱狗 義美古早傳統無糖豆奶 茶葉蛋（銷售用） 蕃薯（１５元） 蝦皮取件Ｃ 統一陽光無糖高纖豆漿 特濃咖啡拿鐵 蕃薯（２５元） 香蕉單入 義美奶茶 簡單點無加糖優酪乳 蕃薯（３０元） 鮮奶茶 爆濃起司熱狗 養樂多 經典原味熱狗 頂級鮮奶優格－莓果穀物脆片 肉鬆起酥麵包 熱拿鐵小杯\n",
      "===========\n",
      "千層玉子燒 手工高麗菜捲 鮮香菇 黃金魚豆腐 關東煮本舖冬粉 日式黑輪 白玉蘿蔔 野菜多多魚餅 關東煮本舖拉麵 究極味付蛋 蟹肉糰子 王子麵 杏鮑菇 特級花枝丸 黃金厚切魚板 讚岐烏龍麵 筊白筍 旗魚黑輪 海鮮魚卵棒\n",
      "===========\n",
      "肉鬆飯糰 ＬＣＡ活菌原味發酵乳 光泉無加糖鮮豆漿 光泉米漿 林鳳營全脂鮮乳 雪花蛋糕 鮪魚飯糰\n",
      "===========\n",
      "台鐵手續費 台鐵取票\n",
      "===========\n",
      "合庫代１５ 雅虎拍賣繳費 代收手續費１５ 玉山淘寶款 中信外１５\n",
      "===========\n",
      "高鐵手續費 高鐵取票\n",
      "===========\n",
      "促銷券１０ ＭＭ花生巧克力\n",
      "===========\n",
      "聯合報 蘋果日報 自由時報\n",
      "===========\n",
      "代收手續費２５ 寶物交易代\n",
      "===========\n",
      "優格軟糖（Ｏｒａｎｇｅ） 優格軟糖（Ｐｅａｃｈ） ＡＷ極酷嗆涼紫冰野莓口香糖 超涼口香糖（袋） 代收折價卷 奶香綠茶３３０ＭＬ 潤喉糖－蜂蜜檸檬\n",
      "===========\n",
      "衛生冰 麥香阿薩姆奶茶 原萃日式綠茶 可口可樂ＰＥＴ 麥香綠茶ＴＰ３００ 飲冰室茶集紅奶茶 奶油雞排歐姆蛋燴飯 飲冰室茶集綠奶茶 紫米紅豆湯圓 純喫茶紅茶 蔥爆牛肉燴飯 純喫茶綠茶６５０ｍｌ 金牌台灣啤酒５００ＭＬ 麥香錫蘭奶茶 麥香紅茶ＴＰ３００ 藍山咖啡 純喫茶無糖綠茶６５０ｍｌ 茶裏王日式綠茶 統一大布丁（雞蛋口味） 金牌台啤罐裝（６入） 天然水２．２Ｌ 台鹽海洋鹼性離子水 （新）銷售用購物袋１８號袋 鹼性離子水 冷泡茶冷萃綠茶無糖 泡沫綠茶ＴＰ３００ 冷泡茶冰釀烏龍 天然水 金牌台灣啤酒 七星１０毫克硬盒香煙 雲絲頓紅１０毫克香煙 （新）４５號銷售用購物袋 伯朗咖啡 日式蒜香燒豚飯 金蘋果調味乳蘋果風味 麥香奶茶ＴＰ３００ 泡沫紅茶ＴＰ３００ 全家克林姆麵包 咖啡廣場奶香特調咖啡\n",
      "===========\n",
      "雅虎線上寄件 蝦皮寄件Ｗ 露天寄件Ｗ 商店街寄件Ｗ 店到店雅虎拍賣線上手續費\n",
      "===========\n",
      "芒果冰茶 蘋果冰茶 葡萄冰茶\n",
      "===========\n",
      "代收手續費５ ｅＴａｇ繳費 通行繳費\n",
      "===========\n",
      "冰鎮檸檬紅茶６５０ｍｌ 冰鎮芭樂綠茶６５０ｍｌ\n",
      "===========\n",
      "牛奶杏仁乳加 黑巧杏仁乳加\n",
      "===========\n",
      "促銷券０９ 能多益隨手杯\n",
      "===========\n",
      "貝納頌海鹽風味拿鐵 焗烤鮪魚歐姆蛋三明治\n",
      "===========\n",
      "台中裁即銷罰 交通罰鍰代收即銷手續費\n",
      "===========\n",
      "中信有線代 台灣自來水 地方查核稅款 國泰世華卡 聯邦信用卡 台灣電力 國民年金代 代收手續費４ 健保費代收 勞工退休金 中華電信 台灣大哥大 花旗信用卡 遠傳電信 台中二段停 玉山信用卡 勞保費代收 欣中天然氣 台新信用卡 欣林瓦斯費\n",
      "===========\n",
      "麥香奶茶ＴＰ３７５ 麥香紅茶ＴＰ３７５\n",
      "===========\n",
      "午后時光鐵觀音奶茶 午后時光王室大吉嶺奶茶\n",
      "===========\n",
      "千島醬 火腿青蔬洋芋沙拉\n",
      "===========\n",
      "台銀學雜費 代收手續費６ 台中裁罰單\n",
      "===========\n",
      "渣打一般３ 代收手續費１３\n",
      "===========\n",
      "統聯客運購票 統聯客運手續費\n",
      "===========\n",
      "國光客運手續費 國光購票\n",
      "===========\n",
      "代收手續費１０ 遠銀一般代Ｚ\n",
      "===========\n",
      "蝦皮寄件Ｆ 商店街寄件Ｆ\n",
      "===========\n"
     ]
    }
   ],
   "source": [
    "dics = []\n",
    "for subgraph in cluster.subgraphs():\n",
    "    nums = len(subgraph.vs)\n",
    "    weight_sum = sum([edge['weight'] for edge in subgraph.es]) * (nums) / nums / (nums + 1)\n",
    "    comm_name = [ node['name'] for node in subgraph.vs]\n",
    "    dic = {\n",
    "        'weight': weight_sum,\n",
    "        'comms': ' '.join(comm_name)\n",
    "    }\n",
    "    dics.append(dic)\n",
    "a = sorted(dics, key=lambda x : x['weight'], reverse=True)\n",
    "for dic in a:\n",
    "    print(dic['comms'])\n",
    "    print(\"===========\")"
   ]
  },
  {
   "cell_type": "markdown",
   "metadata": {},
   "source": [
    "# 利用Betweeness找出可能是connector的節點"
   ]
  },
  {
   "cell_type": "code",
   "execution_count": 19,
   "metadata": {},
   "outputs": [],
   "source": [
    "items = []\n",
    "for index, value in enumerate(g.betweenness(weights='weight')):\n",
    "    if value > 0:\n",
    "        items.append({ 'name': g.vs[index]['name'], 'betweeness': value })\n",
    "items.sort(key=lambda x: x['betweeness'], reverse=True)"
   ]
  },
  {
   "cell_type": "code",
   "execution_count": 20,
   "metadata": {
    "scrolled": true
   },
   "outputs": [
    {
     "data": {
      "text/plain": [
       "[{'name': '（新）銷售用購物袋１８號袋', 'betweeness': 2875.0},\n",
       " {'name': '茶葉蛋（銷售用）', 'betweeness': 2560.0},\n",
       " {'name': '促銷券０６', 'betweeness': 726.0},\n",
       " {'name': '代收折價卷', 'betweeness': 506.0},\n",
       " {'name': '熱拿鐵中杯', 'betweeness': 419.0},\n",
       " {'name': '麥香奶茶ＴＰ３００', 'betweeness': 256.0},\n",
       " {'name': '經典原味熱狗', 'betweeness': 255.0},\n",
       " {'name': '肉鬆飯糰', 'betweeness': 248.0},\n",
       " {'name': '鮪魚飯糰', 'betweeness': 173.0},\n",
       " {'name': '黑胡椒熱狗', 'betweeness': 172.0}]"
      ]
     },
     "execution_count": 20,
     "metadata": {},
     "output_type": "execute_result"
    }
   ],
   "source": [
    "items[0:10]"
   ]
  },
  {
   "cell_type": "markdown",
   "metadata": {},
   "source": [
    "# 更新Vertex的attribute(Community)"
   ]
  },
  {
   "cell_type": "code",
   "execution_count": 21,
   "metadata": {},
   "outputs": [],
   "source": [
    "for index, vertex in enumerate(g.vs):\n",
    "    vertex.update_attributes({ 'community': cluster.membership[index], 'id': index })"
   ]
  },
  {
   "cell_type": "code",
   "execution_count": 22,
   "metadata": {},
   "outputs": [],
   "source": [
    "def normalizer(max_degree):\n",
    "    max_value = max_degree\n",
    "    min_value = 1\n",
    "    def normalize(value):\n",
    "        return (value - min_value) / max_value + 1\n",
    "    return normalize"
   ]
  },
  {
   "cell_type": "code",
   "execution_count": 35,
   "metadata": {},
   "outputs": [],
   "source": [
    "import json\n",
    "def to_json(graph, cluster):\n",
    "    for index, vertex in enumerate(graph.vs):\n",
    "        vertex.update_attributes({ 'community': cluster.membership[index], 'id': index })\n",
    "    norm= normalizer(graph.maxdegree())\n",
    "    nodes = []\n",
    "    edges = []\n",
    "    for edge in graph.es:\n",
    "        edge_attr = {}\n",
    "        edge_attr['from'], edge_attr['to'] = edge.tuple\n",
    "        edge_attr['weight'] = edge['weight']\n",
    "        edges.append(edge_attr)\n",
    "    for node in graph.vs:\n",
    "        node_attr = {}\n",
    "        node_attr = { key: node[key] for key in node.attributes()}\n",
    "        node_attr['degree'] = node.degree()\n",
    "        nodes.append(node_attr)\n",
    "    return json.dumps({\n",
    "        'nodes': nodes,\n",
    "        'edges': edges,\n",
    "    }, indent=4)"
   ]
  },
  {
   "cell_type": "code",
   "execution_count": 36,
   "metadata": {},
   "outputs": [],
   "source": [
    "data = to_json(g, cluster)"
   ]
  },
  {
   "cell_type": "code",
   "execution_count": 37,
   "metadata": {},
   "outputs": [],
   "source": [
    "with open('data.json', 'w', encoding='utf-8') as file:\n",
    "    file.write(data)"
   ]
  },
  {
   "cell_type": "code",
   "execution_count": null,
   "metadata": {},
   "outputs": [],
   "source": []
  }
 ],
 "metadata": {
  "kernelspec": {
   "display_name": "Python 3",
   "language": "python",
   "name": "python3"
  },
  "language_info": {
   "codemirror_mode": {
    "name": "ipython",
    "version": 3
   },
   "file_extension": ".py",
   "mimetype": "text/x-python",
   "name": "python",
   "nbconvert_exporter": "python",
   "pygments_lexer": "ipython3",
   "version": "3.7.2"
  }
 },
 "nbformat": 4,
 "nbformat_minor": 2
}
