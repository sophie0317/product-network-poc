{
 "cells": [
  {
   "cell_type": "code",
   "execution_count": 1,
   "metadata": {},
   "outputs": [],
   "source": [
    "import pandas as pd\n",
    "import numpy"
   ]
  },
  {
   "cell_type": "code",
   "execution_count": 2,
   "metadata": {
    "scrolled": false
   },
   "outputs": [
    {
     "ename": "FileNotFoundError",
     "evalue": "[Errno 2] No such file or directory: 'customer_data.csv'",
     "output_type": "error",
     "traceback": [
      "\u001b[1;31m---------------------------------------------------------------------------\u001b[0m",
      "\u001b[1;31mFileNotFoundError\u001b[0m                         Traceback (most recent call last)",
      "\u001b[1;32m<ipython-input-2-ee9a04f36113>\u001b[0m in \u001b[0;36m<module>\u001b[1;34m\u001b[0m\n\u001b[0;32m      1\u001b[0m \u001b[1;32mimport\u001b[0m \u001b[0mcodecs\u001b[0m\u001b[1;33m\u001b[0m\u001b[1;33m\u001b[0m\u001b[0m\n\u001b[0;32m      2\u001b[0m \u001b[1;32mimport\u001b[0m \u001b[0mos\u001b[0m\u001b[1;33m\u001b[0m\u001b[1;33m\u001b[0m\u001b[0m\n\u001b[1;32m----> 3\u001b[1;33m \u001b[1;32mwith\u001b[0m \u001b[0mcodecs\u001b[0m\u001b[1;33m.\u001b[0m\u001b[0mopen\u001b[0m\u001b[1;33m(\u001b[0m\u001b[1;34m'customer_data.csv'\u001b[0m\u001b[1;33m,\u001b[0m \u001b[1;34m'r'\u001b[0m\u001b[1;33m)\u001b[0m \u001b[1;32mas\u001b[0m \u001b[0mfile\u001b[0m\u001b[1;33m:\u001b[0m\u001b[1;33m\u001b[0m\u001b[1;33m\u001b[0m\u001b[0m\n\u001b[0m\u001b[0;32m      4\u001b[0m     \u001b[0mBLOCKSIZE\u001b[0m \u001b[1;33m=\u001b[0m \u001b[1;36m512\u001b[0m\u001b[1;33m\u001b[0m\u001b[1;33m\u001b[0m\u001b[0m\n\u001b[0;32m      5\u001b[0m     \u001b[1;32mif\u001b[0m \u001b[1;32mnot\u001b[0m \u001b[0mos\u001b[0m\u001b[1;33m.\u001b[0m\u001b[0mpath\u001b[0m\u001b[1;33m.\u001b[0m\u001b[0mexists\u001b[0m\u001b[1;33m(\u001b[0m\u001b[1;34m'customer_data(utf-8).csv'\u001b[0m\u001b[1;33m)\u001b[0m\u001b[1;33m:\u001b[0m\u001b[1;33m\u001b[0m\u001b[1;33m\u001b[0m\u001b[0m\n",
      "\u001b[1;32mc:\\users\\phil\\appdata\\local\\programs\\python\\python37-32\\lib\\codecs.py\u001b[0m in \u001b[0;36mopen\u001b[1;34m(filename, mode, encoding, errors, buffering)\u001b[0m\n\u001b[0;32m    896\u001b[0m         \u001b[1;31m# Force opening of the file in binary mode\u001b[0m\u001b[1;33m\u001b[0m\u001b[1;33m\u001b[0m\u001b[1;33m\u001b[0m\u001b[0m\n\u001b[0;32m    897\u001b[0m         \u001b[0mmode\u001b[0m \u001b[1;33m=\u001b[0m \u001b[0mmode\u001b[0m \u001b[1;33m+\u001b[0m \u001b[1;34m'b'\u001b[0m\u001b[1;33m\u001b[0m\u001b[1;33m\u001b[0m\u001b[0m\n\u001b[1;32m--> 898\u001b[1;33m     \u001b[0mfile\u001b[0m \u001b[1;33m=\u001b[0m \u001b[0mbuiltins\u001b[0m\u001b[1;33m.\u001b[0m\u001b[0mopen\u001b[0m\u001b[1;33m(\u001b[0m\u001b[0mfilename\u001b[0m\u001b[1;33m,\u001b[0m \u001b[0mmode\u001b[0m\u001b[1;33m,\u001b[0m \u001b[0mbuffering\u001b[0m\u001b[1;33m)\u001b[0m\u001b[1;33m\u001b[0m\u001b[1;33m\u001b[0m\u001b[0m\n\u001b[0m\u001b[0;32m    899\u001b[0m     \u001b[1;32mif\u001b[0m \u001b[0mencoding\u001b[0m \u001b[1;32mis\u001b[0m \u001b[1;32mNone\u001b[0m\u001b[1;33m:\u001b[0m\u001b[1;33m\u001b[0m\u001b[1;33m\u001b[0m\u001b[0m\n\u001b[0;32m    900\u001b[0m         \u001b[1;32mreturn\u001b[0m \u001b[0mfile\u001b[0m\u001b[1;33m\u001b[0m\u001b[1;33m\u001b[0m\u001b[0m\n",
      "\u001b[1;31mFileNotFoundError\u001b[0m: [Errno 2] No such file or directory: 'customer_data.csv'"
     ]
    }
   ],
   "source": [
    "import codecs\n",
    "import os\n",
    "with codecs.open('customer_data.csv', 'r') as file:\n",
    "    BLOCKSIZE = 512\n",
    "    if not os.path.exists('customer_data(utf-8).csv'):\n",
    "        with codecs.open('customer_data(utf-8).csv', \"w\", \"utf-8\") as targetFile:\n",
    "            while True:\n",
    "                contents = file.read(BLOCKSIZE)\n",
    "                if not contents:\n",
    "                    break\n",
    "                targetFile.write(contents)"
   ]
  },
  {
   "cell_type": "code",
   "execution_count": 2,
   "metadata": {},
   "outputs": [],
   "source": [
    "dtype = {\n",
    "    '交易id': numpy.str,\n",
    "    '資料日期': numpy.str,\n",
    "    '資料時間': numpy.str,\n",
    "    '餐別帶': numpy.str,\n",
    "    '縣市別': numpy.str,\n",
    "    '店舖代號': numpy.uint32,\n",
    "    '主商圈': numpy.str,\n",
    "    '品號-品名稱': numpy.str,\n",
    "    '群號-群名稱': numpy.str,\n",
    "    '單品名稱': numpy.str,\n",
    "    '銷售數量': numpy.uint16,\n",
    "    '銷售單價': numpy.float,\n",
    "    '交易金額': numpy.float\n",
    "}\n",
    "USE_COLUMNS = ['交易id', '資料日期', '資料時間', '餐別帶', '縣市別', '店舖代號', '主商圈', '品號-品名稱',\n",
    "       '群號-群名稱', '單品名稱', '銷售數量', '銷售單價', '交易金額']\n",
    "PARSE_DATES = {\n",
    "    '資料日期與時間': [\n",
    "        '資料日期',\n",
    "        '資料時間'\n",
    "    ]\n",
    "}"
   ]
  },
  {
   "cell_type": "code",
   "execution_count": 3,
   "metadata": {},
   "outputs": [],
   "source": [
    "file = pd.read_csv('customer_data(utf-8).csv',\n",
    "                   index_col=1,\n",
    "                   nrows=100000,\n",
    "                   usecols=USE_COLUMNS,\n",
    "                   dtype=dtype,\n",
    "                   parse_dates=PARSE_DATES,\n",
    "        )"
   ]
  },
  {
   "cell_type": "code",
   "execution_count": 4,
   "metadata": {},
   "outputs": [],
   "source": [
    "file = file.dropna()"
   ]
  },
  {
   "cell_type": "code",
   "execution_count": 5,
   "metadata": {
    "scrolled": true
   },
   "outputs": [
    {
     "data": {
      "text/plain": [
       "(99981, 11)"
      ]
     },
     "execution_count": 5,
     "metadata": {},
     "output_type": "execute_result"
    }
   ],
   "source": [
    "file.shape"
   ]
  },
  {
   "cell_type": "code",
   "execution_count": 6,
   "metadata": {},
   "outputs": [],
   "source": [
    "def get_copurchase_df(df):\n",
    "    count_size = df.index.unique()\n",
    "    size_df = df.groupby('交易id').size()\n",
    "    size_df = size_df[size_df < 2]\n",
    "    return df.drop(list(size_df.index), axis=0)"
   ]
  },
  {
   "cell_type": "code",
   "execution_count": 7,
   "metadata": {},
   "outputs": [],
   "source": [
    "data = get_copurchase_df(file)"
   ]
  },
  {
   "cell_type": "code",
   "execution_count": 8,
   "metadata": {},
   "outputs": [
    {
     "data": {
      "text/html": [
       "<div>\n",
       "<style scoped>\n",
       "    .dataframe tbody tr th:only-of-type {\n",
       "        vertical-align: middle;\n",
       "    }\n",
       "\n",
       "    .dataframe tbody tr th {\n",
       "        vertical-align: top;\n",
       "    }\n",
       "\n",
       "    .dataframe thead th {\n",
       "        text-align: right;\n",
       "    }\n",
       "</style>\n",
       "<table border=\"1\" class=\"dataframe\">\n",
       "  <thead>\n",
       "    <tr style=\"text-align: right;\">\n",
       "      <th></th>\n",
       "      <th>資料日期與時間</th>\n",
       "      <th>餐別帶</th>\n",
       "      <th>縣市別</th>\n",
       "      <th>店舖代號</th>\n",
       "      <th>主商圈</th>\n",
       "      <th>品號-品名稱</th>\n",
       "      <th>群號-群名稱</th>\n",
       "      <th>單品名稱</th>\n",
       "      <th>銷售數量</th>\n",
       "      <th>銷售單價</th>\n",
       "      <th>交易金額</th>\n",
       "    </tr>\n",
       "    <tr>\n",
       "      <th>交易id</th>\n",
       "      <th></th>\n",
       "      <th></th>\n",
       "      <th></th>\n",
       "      <th></th>\n",
       "      <th></th>\n",
       "      <th></th>\n",
       "      <th></th>\n",
       "      <th></th>\n",
       "      <th></th>\n",
       "      <th></th>\n",
       "      <th></th>\n",
       "    </tr>\n",
       "  </thead>\n",
       "  <tbody>\n",
       "    <tr>\n",
       "      <th>01637920171201184556000112534201</th>\n",
       "      <td>2017-12-01 18:45:56</td>\n",
       "      <td>晚餐時間帶</td>\n",
       "      <td>台中市</td>\n",
       "      <td>11148</td>\n",
       "      <td>住宅型</td>\n",
       "      <td>72-家庭雜貨</td>\n",
       "      <td>722-家雜用品</td>\n",
       "      <td>（新）銷售用購物袋１８號袋</td>\n",
       "      <td>1</td>\n",
       "      <td>1.0</td>\n",
       "      <td>1.0</td>\n",
       "    </tr>\n",
       "    <tr>\n",
       "      <th>01614720171201163042000114405402</th>\n",
       "      <td>2017-12-01 16:30:42</td>\n",
       "      <td>下午茶時間帶</td>\n",
       "      <td>台中市</td>\n",
       "      <td>10697</td>\n",
       "      <td>住宅型</td>\n",
       "      <td>29-冷藏飲料</td>\n",
       "      <td>296-冷藏奶茶</td>\n",
       "      <td>飲冰室茶集綠奶茶</td>\n",
       "      <td>1</td>\n",
       "      <td>25.0</td>\n",
       "      <td>25.0</td>\n",
       "    </tr>\n",
       "    <tr>\n",
       "      <th>01384020171201130558000119295301</th>\n",
       "      <td>2017-12-01 13:05:58</td>\n",
       "      <td>午餐時間帶</td>\n",
       "      <td>彰化縣</td>\n",
       "      <td>13840</td>\n",
       "      <td>文教型</td>\n",
       "      <td>12-調理麵</td>\n",
       "      <td>122-熱食麵２配</td>\n",
       "      <td>沙茶牛肉炒麵</td>\n",
       "      <td>1</td>\n",
       "      <td>69.0</td>\n",
       "      <td>69.0</td>\n",
       "    </tr>\n",
       "    <tr>\n",
       "      <th>01475120171201153506000111697202</th>\n",
       "      <td>2017-12-01 15:35:06</td>\n",
       "      <td>下午茶時間帶</td>\n",
       "      <td>新竹市</td>\n",
       "      <td>4151</td>\n",
       "      <td>工業型</td>\n",
       "      <td>29-冷藏飲料</td>\n",
       "      <td>291-冷藏茶飲料</td>\n",
       "      <td>冷泡茶台茶１２號紅茶</td>\n",
       "      <td>1</td>\n",
       "      <td>25.0</td>\n",
       "      <td>21.0</td>\n",
       "    </tr>\n",
       "    <tr>\n",
       "      <th>01564720171201180924000113751602</th>\n",
       "      <td>2017-12-01 18:09:24</td>\n",
       "      <td>晚餐時間帶</td>\n",
       "      <td>台中市</td>\n",
       "      <td>3860</td>\n",
       "      <td>住宅型</td>\n",
       "      <td>34-健康飲料</td>\n",
       "      <td>343-水</td>\n",
       "      <td>多喝水２Ｌ</td>\n",
       "      <td>2</td>\n",
       "      <td>35.0</td>\n",
       "      <td>49.0</td>\n",
       "    </tr>\n",
       "  </tbody>\n",
       "</table>\n",
       "</div>"
      ],
      "text/plain": [
       "                                             資料日期與時間     餐別帶  縣市別   店舖代號  主商圈  \\\n",
       "交易id                                                                            \n",
       "01637920171201184556000112534201 2017-12-01 18:45:56   晚餐時間帶  台中市  11148  住宅型   \n",
       "01614720171201163042000114405402 2017-12-01 16:30:42  下午茶時間帶  台中市  10697  住宅型   \n",
       "01384020171201130558000119295301 2017-12-01 13:05:58   午餐時間帶  彰化縣  13840  文教型   \n",
       "01475120171201153506000111697202 2017-12-01 15:35:06  下午茶時間帶  新竹市   4151  工業型   \n",
       "01564720171201180924000113751602 2017-12-01 18:09:24   晚餐時間帶  台中市   3860  住宅型   \n",
       "\n",
       "                                   品號-品名稱     群號-群名稱           單品名稱  銷售數量  \\\n",
       "交易id                                                                        \n",
       "01637920171201184556000112534201  72-家庭雜貨   722-家雜用品  （新）銷售用購物袋１８號袋     1   \n",
       "01614720171201163042000114405402  29-冷藏飲料   296-冷藏奶茶       飲冰室茶集綠奶茶     1   \n",
       "01384020171201130558000119295301   12-調理麵  122-熱食麵２配         沙茶牛肉炒麵     1   \n",
       "01475120171201153506000111697202  29-冷藏飲料  291-冷藏茶飲料     冷泡茶台茶１２號紅茶     1   \n",
       "01564720171201180924000113751602  34-健康飲料      343-水          多喝水２Ｌ     2   \n",
       "\n",
       "                                  銷售單價  交易金額  \n",
       "交易id                                          \n",
       "01637920171201184556000112534201   1.0   1.0  \n",
       "01614720171201163042000114405402  25.0  25.0  \n",
       "01384020171201130558000119295301  69.0  69.0  \n",
       "01475120171201153506000111697202  25.0  21.0  \n",
       "01564720171201180924000113751602  35.0  49.0  "
      ]
     },
     "execution_count": 8,
     "metadata": {},
     "output_type": "execute_result"
    }
   ],
   "source": [
    "data.head()"
   ]
  },
  {
   "cell_type": "code",
   "execution_count": 9,
   "metadata": {},
   "outputs": [],
   "source": [
    "def aggregate(df):\n",
    "    dic = {}\n",
    "    for index, row in df.iterrows():\n",
    "        if index not in dic:\n",
    "            dic[index] = []\n",
    "        dic[index].append({\n",
    "            'name': row['單品名稱'],\n",
    "            'amount': row['銷售單價']\n",
    "        })\n",
    "    dic = { index : value for index, value in dic.items() if len(value) > 1}\n",
    "    return dic"
   ]
  },
  {
   "cell_type": "code",
   "execution_count": 10,
   "metadata": {},
   "outputs": [],
   "source": [
    "purchase_list = aggregate(data)"
   ]
  },
  {
   "cell_type": "code",
   "execution_count": 11,
   "metadata": {
    "scrolled": true
   },
   "outputs": [
    {
     "data": {
      "text/plain": [
       "23288"
      ]
     },
     "execution_count": 11,
     "metadata": {},
     "output_type": "execute_result"
    }
   ],
   "source": [
    "len(purchase_list)"
   ]
  },
  {
   "cell_type": "markdown",
   "metadata": {
    "collapsed": true
   },
   "source": [
    "# Network Analysis"
   ]
  },
  {
   "cell_type": "code",
   "execution_count": 12,
   "metadata": {},
   "outputs": [],
   "source": [
    "from itertools import filterfalse\n",
    "def convert(purchase_list, support):\n",
    "    def find_edges_in_list(itemsets):\n",
    "        from itertools import combinations\n",
    "        result = []\n",
    "        return combinations(itemsets, 2)\n",
    "    result = {}\n",
    "    nodes = set()\n",
    "    for key, itemsets in purchase_list.items():\n",
    "        if len(itemsets) > 1:\n",
    "            for edge_dict_tuple in find_edges_in_list(itemsets):\n",
    "                edge = tuple([dic['name'] for dic in edge_dict_tuple])\n",
    "                weight = sum([dic['amount'] for dic in edge_dict_tuple])\n",
    "                if edge in result:\n",
    "                    result[edge]['count'] += 1\n",
    "                else:\n",
    "                    result[edge] = {}\n",
    "                    result[edge]['count'] = 1\n",
    "                    result[edge]['weight'] = weight\n",
    "    for key in list(result.keys()):\n",
    "        if result[key]['count'] < support:\n",
    "            del result[key]\n",
    "    for items in result.keys():\n",
    "        for item in items:\n",
    "            if item not in nodes:\n",
    "                nodes.add(item)\n",
    "    return (nodes, result)"
   ]
  },
  {
   "cell_type": "code",
   "execution_count": 15,
   "metadata": {},
   "outputs": [],
   "source": [
    "nodes, edges_dict = convert(purchase_list, 8)"
   ]
  },
  {
   "cell_type": "code",
   "execution_count": 16,
   "metadata": {
    "scrolled": true
   },
   "outputs": [
    {
     "name": "stdout",
     "output_type": "stream",
     "text": [
      "Node number: 194\n",
      "Edge number: 453\n"
     ]
    }
   ],
   "source": [
    "print('Node number: {}\\nEdge number: {}'.format(len(nodes), len(edges_dict)))"
   ]
  },
  {
   "cell_type": "code",
   "execution_count": 17,
   "metadata": {},
   "outputs": [],
   "source": [
    "import igraph"
   ]
  },
  {
   "cell_type": "code",
   "execution_count": 18,
   "metadata": {},
   "outputs": [],
   "source": [
    "g = igraph.Graph()"
   ]
  },
  {
   "cell_type": "code",
   "execution_count": 19,
   "metadata": {},
   "outputs": [],
   "source": [
    "for node in nodes:\n",
    "    g.add_vertex(node)"
   ]
  },
  {
   "cell_type": "code",
   "execution_count": 20,
   "metadata": {
    "scrolled": false
   },
   "outputs": [
    {
     "data": {
      "text/plain": [
       "194"
      ]
     },
     "execution_count": 20,
     "metadata": {},
     "output_type": "execute_result"
    }
   ],
   "source": [
    "len(g.vs)"
   ]
  },
  {
   "cell_type": "code",
   "execution_count": 21,
   "metadata": {},
   "outputs": [],
   "source": [
    "for edge, attrs in edges_dict.items():\n",
    "    weight = attrs['weight'] * attrs['count'] if attrs['weight'] > 0 else 1\n",
    "    g.add_edge(edge[0], edge[1], weight=weight)"
   ]
  },
  {
   "cell_type": "code",
   "execution_count": 22,
   "metadata": {
    "scrolled": false
   },
   "outputs": [
    {
     "data": {
      "text/plain": [
       "<igraph.Graph at 0x115a7c408>"
      ]
     },
     "execution_count": 22,
     "metadata": {},
     "output_type": "execute_result"
    }
   ],
   "source": [
    "g.simplify(combine_edges={ \"weight\": \"sum\" })"
   ]
  },
  {
   "cell_type": "code",
   "execution_count": 23,
   "metadata": {
    "scrolled": true
   },
   "outputs": [],
   "source": [
    "communities = g.community_fastgreedy('weight')"
   ]
  },
  {
   "cell_type": "code",
   "execution_count": 24,
   "metadata": {},
   "outputs": [],
   "source": [
    "cluster = communities.as_clustering()"
   ]
  },
  {
   "cell_type": "code",
   "execution_count": 25,
   "metadata": {
    "scrolled": true
   },
   "outputs": [
    {
     "data": {
      "text/plain": [
       "36"
      ]
     },
     "execution_count": 25,
     "metadata": {},
     "output_type": "execute_result"
    }
   ],
   "source": [
    "len(cluster)"
   ]
  },
  {
   "cell_type": "code",
   "execution_count": 26,
   "metadata": {
    "scrolled": false
   },
   "outputs": [
    {
     "name": "stdout",
     "output_type": "stream",
     "text": [
      "泡沫紅茶ＴＰ３００ 鹼性離子水 麥香阿薩姆奶茶 日式蒜香燒豚飯 （新）銷售用購物袋１８號袋 純喫茶紅茶 冷泡茶冰釀烏龍 （新）４５號銷售用購物袋 麥香奶茶ＴＰ３００ 台鹽海洋鹼性離子水 紫米紅豆湯圓 泡沫綠茶ＴＰ３００ 原萃日式綠茶 金蘋果調味乳蘋果風味 純喫茶綠茶６５０ｍｌ 全家克林姆麵包 伯朗咖啡 飲冰室茶集紅奶茶 純喫茶無糖綠茶６５０ｍｌ 蔥爆牛肉燴飯 義美奶茶 咖啡廣場奶香特調咖啡 冷泡茶冷萃綠茶無糖 麥香錫蘭奶茶 麥香綠茶ＴＰ３００ 奶油雞排歐姆蛋燴飯 金牌台灣啤酒 可口可樂ＰＥＴ 金牌台灣啤酒５００ＭＬ 雲絲頓紅１０毫克香煙 統一大布丁（雞蛋口味） 天然水 飲冰室茶集綠奶茶 天然水２．２Ｌ 茶裏王日式綠茶 金牌台啤罐裝（６入） 麥香紅茶ＴＰ３００ 藍山咖啡 七星１０毫克硬盒香煙 衛生冰\n",
      "==================\n",
      "伊藤園蘋果紅茶 頑皮滷蛋－原味 促銷券０６ Ｃｒｅａｍ－Ｏ黑巧克力三明治餅\n",
      "==================\n",
      "雅虎線上寄件 店到店雅虎拍賣線上手續費 露天寄件Ｗ 蝦皮寄件Ｗ 商店街寄件Ｗ\n",
      "==================\n",
      "特濃黑可可 商店街取件 鮪魚飯糰 簡單點原味優酪乳 光泉米漿 爆濃起司熱狗 鮮奶茶 簡單點無加糖優酪乳 茶葉蛋（銷售用） 頂級鮮奶優格－莓果穀物脆片 ＬＣＡ活菌原味發酵乳 蕃薯（２０元） 蕃薯（１５元） 經典原味熱狗 林鳳營全脂鮮乳 肉鬆起酥麵包 蕃薯（３０元） 黑胡椒熱狗 特濃咖啡拿鐵 肉鬆飯糰 熱拿鐵小杯 香蕉單入 蝦皮取件Ｃ 光泉無加糖鮮豆漿 蕃薯（２５元） 統一陽光無糖高纖豆漿 雪花蛋糕 養樂多 義美古早傳統無糖豆奶 全家熱狗麵包\n",
      "==================\n",
      "蝦皮寄件Ｆ 商店街寄件Ｆ\n",
      "==================\n",
      "中信外１５ 玉山淘寶款 合庫代１５ 代收手續費１５ 雅虎拍賣繳費\n",
      "==================\n",
      "讚岐烏龍麵 海鮮魚卵棒 黃金厚切魚板 鮮香菇 究極味付蛋 王子麵 日式黑輪 特級花枝丸 白玉蘿蔔 手工高麗菜捲 旗魚黑輪 關東煮本舖冬粉 千層玉子燒 筊白筍 蟹肉糰子 黃金魚豆腐 杏鮑菇 野菜多多魚餅 關東煮本舖拉麵\n",
      "==================\n",
      "大口法香烤雞飯糰 大口奶油蕈菇起司雞排飯糰 特濃抹茶拿鐵 綠豆沙牛乳 熱美式中杯 熱拿鐵中杯\n",
      "==================\n",
      "欣中天然氣 代收手續費４ 花旗信用卡 遠傳電信 台灣大哥大 國民年金代 台灣自來水 台新信用卡 地方查核稅款 台灣電力 勞工退休金 健保費代收 聯邦信用卡 勞保費代收 欣林瓦斯費 國泰世華卡 台中二段停 玉山信用卡 中華電信 中信有線代\n",
      "==================\n",
      "代收手續費１３ 渣打一般３\n",
      "==================\n",
      "葡萄冰茶 蘋果冰茶 芒果冰茶\n",
      "==================\n",
      "台鐵手續費 台鐵取票\n",
      "==================\n",
      "奶香綠茶３３０ＭＬ ＡＷ極酷嗆涼紫冰野莓口香糖 超涼口香糖（袋） 代收折價卷 優格軟糖（Ｐｅａｃｈ） 潤喉糖－蜂蜜檸檬 優格軟糖（Ｏｒａｎｇｅ）\n",
      "==================\n",
      "麥香紅茶ＴＰ３７５ 麥香奶茶ＴＰ３７５\n",
      "==================\n",
      "促銷券０９ 能多益隨手杯\n",
      "==================\n",
      "通行繳費 代收手續費５ ｅＴａｇ繳費\n",
      "==================\n",
      "千島醬 火腿青蔬洋芋沙拉\n",
      "==================\n",
      "交通罰鍰代收即銷手續費 台中裁即銷罰\n",
      "==================\n",
      "冰拿鐵大杯 熱拿鐵大杯\n",
      "==================\n",
      "ＭＭ花生巧克力 促銷券１０\n",
      "==================\n",
      "高鐵取票 高鐵手續費\n",
      "==================\n",
      "雅虎拍賣寄件 店到店雅虎拍賣手續費\n",
      "==================\n",
      "蘋果日報 自由時報 聯合報\n",
      "==================\n",
      "午后時光王室大吉嶺奶茶 午后時光鐵觀音奶茶\n",
      "==================\n",
      "代收手續費６ 台銀學雜費 台中裁罰單\n",
      "==================\n",
      "辣味ＹＵＲＯＣＫ魚薯條無 原味ＹＵＲＯＣＫ魚薯條無\n",
      "==================\n",
      "冰鎮芭樂綠茶６５０ｍｌ 冰鎮檸檬紅茶６５０ｍｌ\n",
      "==================\n",
      "寶物交易代 代收手續費２５\n",
      "==================\n",
      "空瓶回收（銷售用） 紅標料理米酒\n",
      "==================\n",
      "貝納頌海鹽風味拿鐵 焗烤鮪魚歐姆蛋三明治\n",
      "==================\n",
      "統聯客運購票 統聯客運手續費\n",
      "==================\n",
      "國光購票 國光客運手續費\n",
      "==================\n",
      "戰禍邪神第１２章 戰禍邪神第１１章\n",
      "==================\n",
      "ＦＰ店到店 店到店ＦＰ手續費\n",
      "==================\n",
      "黑巧杏仁乳加 牛奶杏仁乳加\n",
      "==================\n",
      "遠銀一般代Ｚ 代收手續費１０\n",
      "==================\n"
     ]
    }
   ],
   "source": [
    "for comm in cluster:\n",
    "    comm_name = [ g.vs[index]['name'] for index in comm]\n",
    "    print(\" \".join(comm_name))\n",
    "    print(\"==================\")"
   ]
  },
  {
   "cell_type": "code",
   "execution_count": 27,
   "metadata": {
    "scrolled": true
   },
   "outputs": [
    {
     "data": {
      "text/plain": [
       "0.8211309100930249"
      ]
     },
     "execution_count": 27,
     "metadata": {},
     "output_type": "execute_result"
    }
   ],
   "source": [
    "cluster.modularity"
   ]
  },
  {
   "cell_type": "code",
   "execution_count": 28,
   "metadata": {},
   "outputs": [],
   "source": [
    "items = []\n",
    "for index, value in enumerate(g.betweenness(weights='weight')):\n",
    "    if value > 0:\n",
    "        items.append({ 'name': g.vs[index]['name'], 'betweeness': value })\n",
    "items.sort(key=lambda x: x['betweeness'], reverse=True)"
   ]
  },
  {
   "cell_type": "code",
   "execution_count": 29,
   "metadata": {
    "scrolled": true
   },
   "outputs": [
    {
     "data": {
      "text/plain": [
       "[{'name': '（新）銷售用購物袋１８號袋', 'betweeness': 2790.0},\n",
       " {'name': '茶葉蛋（銷售用）', 'betweeness': 2564.0},\n",
       " {'name': '麥香奶茶ＴＰ３００', 'betweeness': 2011.0},\n",
       " {'name': '促銷券０６', 'betweeness': 726.0},\n",
       " {'name': '代收折價卷', 'betweeness': 506.0},\n",
       " {'name': '熱拿鐵中杯', 'betweeness': 419.0},\n",
       " {'name': '經典原味熱狗', 'betweeness': 255.0},\n",
       " {'name': '肉鬆飯糰', 'betweeness': 248.0},\n",
       " {'name': '鮪魚飯糰', 'betweeness': 173.0},\n",
       " {'name': '黑胡椒熱狗', 'betweeness': 172.0}]"
      ]
     },
     "execution_count": 29,
     "metadata": {},
     "output_type": "execute_result"
    }
   ],
   "source": [
    "items[0:10]"
   ]
  },
  {
   "cell_type": "code",
   "execution_count": 30,
   "metadata": {},
   "outputs": [],
   "source": [
    "for index, vertex in enumerate(g.vs):\n",
    "    vertex.update_attributes({ 'community': cluster.membership[index], 'id': index })"
   ]
  },
  {
   "cell_type": "code",
   "execution_count": 31,
   "metadata": {},
   "outputs": [
    {
     "name": "stdout",
     "output_type": "stream",
     "text": [
      "igraph.Edge(<igraph.Graph object at 0x115a7c408>, 0, {'weight': 200.0})\n",
      "igraph.Edge(<igraph.Graph object at 0x115a7c408>, 1, {'weight': 300.0})\n",
      "igraph.Edge(<igraph.Graph object at 0x115a7c408>, 2, {'weight': 6264.0})\n",
      "igraph.Edge(<igraph.Graph object at 0x115a7c408>, 3, {'weight': 1500.0})\n",
      "igraph.Edge(<igraph.Graph object at 0x115a7c408>, 4, {'weight': 1.0})\n",
      "igraph.Edge(<igraph.Graph object at 0x115a7c408>, 5, {'weight': 841.0})\n",
      "igraph.Edge(<igraph.Graph object at 0x115a7c408>, 6, {'weight': 380.0})\n",
      "igraph.Edge(<igraph.Graph object at 0x115a7c408>, 7, {'weight': 600.0})\n",
      "igraph.Edge(<igraph.Graph object at 0x115a7c408>, 8, {'weight': 2.0})\n",
      "igraph.Edge(<igraph.Graph object at 0x115a7c408>, 9, {'weight': 1110.0})\n",
      "igraph.Edge(<igraph.Graph object at 0x115a7c408>, 10, {'weight': 645.0})\n",
      "igraph.Edge(<igraph.Graph object at 0x115a7c408>, 11, {'weight': 986.0})\n",
      "igraph.Edge(<igraph.Graph object at 0x115a7c408>, 12, {'weight': 720.0})\n",
      "igraph.Edge(<igraph.Graph object at 0x115a7c408>, 13, {'weight': 918.0})\n",
      "igraph.Edge(<igraph.Graph object at 0x115a7c408>, 14, {'weight': 684.0})\n",
      "igraph.Edge(<igraph.Graph object at 0x115a7c408>, 15, {'weight': 884.0})\n",
      "igraph.Edge(<igraph.Graph object at 0x115a7c408>, 16, {'weight': 608.0})\n",
      "igraph.Edge(<igraph.Graph object at 0x115a7c408>, 17, {'weight': 288.0})\n",
      "igraph.Edge(<igraph.Graph object at 0x115a7c408>, 18, {'weight': 792.0})\n",
      "igraph.Edge(<igraph.Graph object at 0x115a7c408>, 19, {'weight': 648.0})\n",
      "igraph.Edge(<igraph.Graph object at 0x115a7c408>, 20, {'weight': 432.0})\n",
      "igraph.Edge(<igraph.Graph object at 0x115a7c408>, 21, {'weight': 288.0})\n",
      "igraph.Edge(<igraph.Graph object at 0x115a7c408>, 22, {'weight': 2.0})\n",
      "igraph.Edge(<igraph.Graph object at 0x115a7c408>, 23, {'weight': 261.0})\n",
      "igraph.Edge(<igraph.Graph object at 0x115a7c408>, 24, {'weight': 814.0})\n",
      "igraph.Edge(<igraph.Graph object at 0x115a7c408>, 25, {'weight': 1350.0})\n",
      "igraph.Edge(<igraph.Graph object at 0x115a7c408>, 26, {'weight': 1764.0})\n",
      "igraph.Edge(<igraph.Graph object at 0x115a7c408>, 27, {'weight': 952.0})\n",
      "igraph.Edge(<igraph.Graph object at 0x115a7c408>, 28, {'weight': 234.0})\n",
      "igraph.Edge(<igraph.Graph object at 0x115a7c408>, 29, {'weight': 2240.0})\n",
      "igraph.Edge(<igraph.Graph object at 0x115a7c408>, 30, {'weight': 1054.0})\n",
      "igraph.Edge(<igraph.Graph object at 0x115a7c408>, 31, {'weight': 1280.0})\n",
      "igraph.Edge(<igraph.Graph object at 0x115a7c408>, 32, {'weight': 792.0})\n",
      "igraph.Edge(<igraph.Graph object at 0x115a7c408>, 33, {'weight': 1122.0})\n",
      "igraph.Edge(<igraph.Graph object at 0x115a7c408>, 34, {'weight': 1190.0})\n",
      "igraph.Edge(<igraph.Graph object at 0x115a7c408>, 35, {'weight': 324.0})\n",
      "igraph.Edge(<igraph.Graph object at 0x115a7c408>, 36, {'weight': 1462.0})\n",
      "igraph.Edge(<igraph.Graph object at 0x115a7c408>, 37, {'weight': 1666.0})\n",
      "igraph.Edge(<igraph.Graph object at 0x115a7c408>, 38, {'weight': 680.0})\n",
      "igraph.Edge(<igraph.Graph object at 0x115a7c408>, 39, {'weight': 1395.0})\n",
      "igraph.Edge(<igraph.Graph object at 0x115a7c408>, 40, {'weight': 1170.0})\n",
      "igraph.Edge(<igraph.Graph object at 0x115a7c408>, 41, {'weight': 805.0})\n",
      "igraph.Edge(<igraph.Graph object at 0x115a7c408>, 42, {'weight': 931.0})\n",
      "igraph.Edge(<igraph.Graph object at 0x115a7c408>, 43, {'weight': 408.0})\n",
      "igraph.Edge(<igraph.Graph object at 0x115a7c408>, 44, {'weight': 720.0})\n",
      "igraph.Edge(<igraph.Graph object at 0x115a7c408>, 45, {'weight': 288.0})\n",
      "igraph.Edge(<igraph.Graph object at 0x115a7c408>, 46, {'weight': 1020.0})\n",
      "igraph.Edge(<igraph.Graph object at 0x115a7c408>, 47, {'weight': 324.0})\n",
      "igraph.Edge(<igraph.Graph object at 0x115a7c408>, 48, {'weight': 782.0})\n",
      "igraph.Edge(<igraph.Graph object at 0x115a7c408>, 49, {'weight': 304.0})\n",
      "igraph.Edge(<igraph.Graph object at 0x115a7c408>, 50, {'weight': 324.0})\n",
      "igraph.Edge(<igraph.Graph object at 0x115a7c408>, 51, {'weight': 1008.0})\n",
      "igraph.Edge(<igraph.Graph object at 0x115a7c408>, 52, {'weight': 864.0})\n",
      "igraph.Edge(<igraph.Graph object at 0x115a7c408>, 53, {'weight': 1116.0})\n",
      "igraph.Edge(<igraph.Graph object at 0x115a7c408>, 54, {'weight': 792.0})\n",
      "igraph.Edge(<igraph.Graph object at 0x115a7c408>, 55, {'weight': 1.0})\n",
      "igraph.Edge(<igraph.Graph object at 0x115a7c408>, 56, {'weight': 528.0})\n",
      "igraph.Edge(<igraph.Graph object at 0x115a7c408>, 57, {'weight': 750.0})\n",
      "igraph.Edge(<igraph.Graph object at 0x115a7c408>, 58, {'weight': 189.0})\n",
      "igraph.Edge(<igraph.Graph object at 0x115a7c408>, 59, {'weight': 336.0})\n",
      "igraph.Edge(<igraph.Graph object at 0x115a7c408>, 60, {'weight': 451.0})\n",
      "igraph.Edge(<igraph.Graph object at 0x115a7c408>, 61, {'weight': 253.0})\n",
      "igraph.Edge(<igraph.Graph object at 0x115a7c408>, 62, {'weight': 270.0})\n",
      "igraph.Edge(<igraph.Graph object at 0x115a7c408>, 63, {'weight': 18.0})\n",
      "igraph.Edge(<igraph.Graph object at 0x115a7c408>, 64, {'weight': 344.0})\n",
      "igraph.Edge(<igraph.Graph object at 0x115a7c408>, 65, {'weight': 234.0})\n",
      "igraph.Edge(<igraph.Graph object at 0x115a7c408>, 66, {'weight': 126.0})\n",
      "igraph.Edge(<igraph.Graph object at 0x115a7c408>, 67, {'weight': 286.0})\n",
      "igraph.Edge(<igraph.Graph object at 0x115a7c408>, 68, {'weight': 208.0})\n",
      "igraph.Edge(<igraph.Graph object at 0x115a7c408>, 69, {'weight': 624.0})\n",
      "igraph.Edge(<igraph.Graph object at 0x115a7c408>, 70, {'weight': 442.0})\n",
      "igraph.Edge(<igraph.Graph object at 0x115a7c408>, 71, {'weight': 528.0})\n",
      "igraph.Edge(<igraph.Graph object at 0x115a7c408>, 72, {'weight': 792.0})\n",
      "igraph.Edge(<igraph.Graph object at 0x115a7c408>, 73, {'weight': 232.0})\n",
      "igraph.Edge(<igraph.Graph object at 0x115a7c408>, 74, {'weight': 232.0})\n",
      "igraph.Edge(<igraph.Graph object at 0x115a7c408>, 75, {'weight': 608.0})\n",
      "igraph.Edge(<igraph.Graph object at 0x115a7c408>, 76, {'weight': 900.0})\n",
      "igraph.Edge(<igraph.Graph object at 0x115a7c408>, 77, {'weight': 240.0})\n",
      "igraph.Edge(<igraph.Graph object at 0x115a7c408>, 78, {'weight': 588.0})\n",
      "igraph.Edge(<igraph.Graph object at 0x115a7c408>, 79, {'weight': 768.0})\n",
      "igraph.Edge(<igraph.Graph object at 0x115a7c408>, 80, {'weight': 168.0})\n",
      "igraph.Edge(<igraph.Graph object at 0x115a7c408>, 81, {'weight': 380.0})\n",
      "igraph.Edge(<igraph.Graph object at 0x115a7c408>, 82, {'weight': 208.0})\n",
      "igraph.Edge(<igraph.Graph object at 0x115a7c408>, 83, {'weight': 748.0})\n",
      "igraph.Edge(<igraph.Graph object at 0x115a7c408>, 84, {'weight': 189.0})\n",
      "igraph.Edge(<igraph.Graph object at 0x115a7c408>, 85, {'weight': 5486.0})\n",
      "igraph.Edge(<igraph.Graph object at 0x115a7c408>, 86, {'weight': 286.0})\n",
      "igraph.Edge(<igraph.Graph object at 0x115a7c408>, 87, {'weight': 1764.0})\n",
      "igraph.Edge(<igraph.Graph object at 0x115a7c408>, 88, {'weight': 210.0})\n",
      "igraph.Edge(<igraph.Graph object at 0x115a7c408>, 89, {'weight': 40.0})\n",
      "igraph.Edge(<igraph.Graph object at 0x115a7c408>, 90, {'weight': 72.0})\n",
      "igraph.Edge(<igraph.Graph object at 0x115a7c408>, 91, {'weight': 988.0})\n",
      "igraph.Edge(<igraph.Graph object at 0x115a7c408>, 92, {'weight': 212.0})\n",
      "igraph.Edge(<igraph.Graph object at 0x115a7c408>, 93, {'weight': 40.0})\n",
      "igraph.Edge(<igraph.Graph object at 0x115a7c408>, 94, {'weight': 88.0})\n",
      "igraph.Edge(<igraph.Graph object at 0x115a7c408>, 95, {'weight': 80.0})\n",
      "igraph.Edge(<igraph.Graph object at 0x115a7c408>, 96, {'weight': 1044.0})\n",
      "igraph.Edge(<igraph.Graph object at 0x115a7c408>, 97, {'weight': 140.0})\n",
      "igraph.Edge(<igraph.Graph object at 0x115a7c408>, 98, {'weight': 40.0})\n",
      "igraph.Edge(<igraph.Graph object at 0x115a7c408>, 99, {'weight': 32.0})\n",
      "igraph.Edge(<igraph.Graph object at 0x115a7c408>, 100, {'weight': 196.0})\n",
      "igraph.Edge(<igraph.Graph object at 0x115a7c408>, 101, {'weight': 2.0})\n",
      "igraph.Edge(<igraph.Graph object at 0x115a7c408>, 102, {'weight': 1.0})\n",
      "igraph.Edge(<igraph.Graph object at 0x115a7c408>, 103, {'weight': 2.0})\n",
      "igraph.Edge(<igraph.Graph object at 0x115a7c408>, 104, {'weight': 370.0})\n",
      "igraph.Edge(<igraph.Graph object at 0x115a7c408>, 105, {'weight': 442.0})\n",
      "igraph.Edge(<igraph.Graph object at 0x115a7c408>, 106, {'weight': 989.0})\n",
      "igraph.Edge(<igraph.Graph object at 0x115a7c408>, 107, {'weight': 360.0})\n",
      "igraph.Edge(<igraph.Graph object at 0x115a7c408>, 108, {'weight': 672.0})\n",
      "igraph.Edge(<igraph.Graph object at 0x115a7c408>, 109, {'weight': 306.0})\n",
      "igraph.Edge(<igraph.Graph object at 0x115a7c408>, 110, {'weight': 756.0})\n",
      "igraph.Edge(<igraph.Graph object at 0x115a7c408>, 111, {'weight': 578.0})\n",
      "igraph.Edge(<igraph.Graph object at 0x115a7c408>, 112, {'weight': 504.0})\n",
      "igraph.Edge(<igraph.Graph object at 0x115a7c408>, 113, {'weight': 288.0})\n",
      "igraph.Edge(<igraph.Graph object at 0x115a7c408>, 114, {'weight': 828.0})\n",
      "igraph.Edge(<igraph.Graph object at 0x115a7c408>, 115, {'weight': 693.0})\n",
      "igraph.Edge(<igraph.Graph object at 0x115a7c408>, 116, {'weight': 1.0})\n",
      "igraph.Edge(<igraph.Graph object at 0x115a7c408>, 117, {'weight': 1.0})\n",
      "igraph.Edge(<igraph.Graph object at 0x115a7c408>, 118, {'weight': 2.0})\n",
      "igraph.Edge(<igraph.Graph object at 0x115a7c408>, 119, {'weight': 2.0})\n",
      "igraph.Edge(<igraph.Graph object at 0x115a7c408>, 120, {'weight': 1.0})\n",
      "igraph.Edge(<igraph.Graph object at 0x115a7c408>, 121, {'weight': 2.0})\n",
      "igraph.Edge(<igraph.Graph object at 0x115a7c408>, 122, {'weight': 1.0})\n",
      "igraph.Edge(<igraph.Graph object at 0x115a7c408>, 123, {'weight': 1.0})\n",
      "igraph.Edge(<igraph.Graph object at 0x115a7c408>, 124, {'weight': 2.0})\n",
      "igraph.Edge(<igraph.Graph object at 0x115a7c408>, 125, {'weight': 1.0})\n",
      "igraph.Edge(<igraph.Graph object at 0x115a7c408>, 126, {'weight': 2067.0})\n",
      "igraph.Edge(<igraph.Graph object at 0x115a7c408>, 127, {'weight': 2400.0})\n",
      "igraph.Edge(<igraph.Graph object at 0x115a7c408>, 128, {'weight': 1100.0})\n",
      "igraph.Edge(<igraph.Graph object at 0x115a7c408>, 129, {'weight': 840.0})\n",
      "igraph.Edge(<igraph.Graph object at 0x115a7c408>, 130, {'weight': 1170.0})\n",
      "igraph.Edge(<igraph.Graph object at 0x115a7c408>, 131, {'weight': 390.0})\n",
      "igraph.Edge(<igraph.Graph object at 0x115a7c408>, 132, {'weight': 320.0})\n",
      "igraph.Edge(<igraph.Graph object at 0x115a7c408>, 133, {'weight': 455.0})\n",
      "igraph.Edge(<igraph.Graph object at 0x115a7c408>, 134, {'weight': 392.0})\n",
      "igraph.Edge(<igraph.Graph object at 0x115a7c408>, 135, {'weight': 962.0})\n",
      "igraph.Edge(<igraph.Graph object at 0x115a7c408>, 136, {'weight': 160.0})\n",
      "igraph.Edge(<igraph.Graph object at 0x115a7c408>, 137, {'weight': 500.0})\n",
      "igraph.Edge(<igraph.Graph object at 0x115a7c408>, 138, {'weight': 1770.0})\n",
      "igraph.Edge(<igraph.Graph object at 0x115a7c408>, 139, {'weight': 650.0})\n",
      "igraph.Edge(<igraph.Graph object at 0x115a7c408>, 140, {'weight': 1720.0})\n",
      "igraph.Edge(<igraph.Graph object at 0x115a7c408>, 141, {'weight': 315.0})\n",
      "igraph.Edge(<igraph.Graph object at 0x115a7c408>, 142, {'weight': 360.0})\n",
      "igraph.Edge(<igraph.Graph object at 0x115a7c408>, 143, {'weight': 855.0})\n",
      "igraph.Edge(<igraph.Graph object at 0x115a7c408>, 144, {'weight': 594.0})\n",
      "igraph.Edge(<igraph.Graph object at 0x115a7c408>, 145, {'weight': 720.0})\n",
      "igraph.Edge(<igraph.Graph object at 0x115a7c408>, 146, {'weight': 405.0})\n",
      "igraph.Edge(<igraph.Graph object at 0x115a7c408>, 147, {'weight': 500.0})\n",
      "igraph.Edge(<igraph.Graph object at 0x115a7c408>, 148, {'weight': 110.0})\n",
      "igraph.Edge(<igraph.Graph object at 0x115a7c408>, 149, {'weight': 1190.0})\n",
      "igraph.Edge(<igraph.Graph object at 0x115a7c408>, 150, {'weight': 1020.0})\n",
      "igraph.Edge(<igraph.Graph object at 0x115a7c408>, 151, {'weight': 715.0})\n",
      "igraph.Edge(<igraph.Graph object at 0x115a7c408>, 152, {'weight': 144.0})\n",
      "igraph.Edge(<igraph.Graph object at 0x115a7c408>, 153, {'weight': 297.0})\n",
      "igraph.Edge(<igraph.Graph object at 0x115a7c408>, 154, {'weight': 660.0})\n",
      "igraph.Edge(<igraph.Graph object at 0x115a7c408>, 155, {'weight': 312.0})\n",
      "igraph.Edge(<igraph.Graph object at 0x115a7c408>, 156, {'weight': 1.0})\n",
      "igraph.Edge(<igraph.Graph object at 0x115a7c408>, 157, {'weight': 2.0})\n",
      "igraph.Edge(<igraph.Graph object at 0x115a7c408>, 158, {'weight': 2.0})\n",
      "igraph.Edge(<igraph.Graph object at 0x115a7c408>, 159, {'weight': 200.0})\n",
      "igraph.Edge(<igraph.Graph object at 0x115a7c408>, 160, {'weight': 160.0})\n",
      "igraph.Edge(<igraph.Graph object at 0x115a7c408>, 161, {'weight': 1240.0})\n",
      "igraph.Edge(<igraph.Graph object at 0x115a7c408>, 162, {'weight': 325.0})\n",
      "igraph.Edge(<igraph.Graph object at 0x115a7c408>, 163, {'weight': 500.0})\n",
      "igraph.Edge(<igraph.Graph object at 0x115a7c408>, 164, {'weight': 2.0})\n",
      "igraph.Edge(<igraph.Graph object at 0x115a7c408>, 165, {'weight': 2.0})\n",
      "igraph.Edge(<igraph.Graph object at 0x115a7c408>, 166, {'weight': 2.0})\n",
      "igraph.Edge(<igraph.Graph object at 0x115a7c408>, 167, {'weight': 1.0})\n",
      "igraph.Edge(<igraph.Graph object at 0x115a7c408>, 168, {'weight': 2.0})\n",
      "igraph.Edge(<igraph.Graph object at 0x115a7c408>, 169, {'weight': 1.0})\n",
      "igraph.Edge(<igraph.Graph object at 0x115a7c408>, 170, {'weight': 2.0})\n",
      "igraph.Edge(<igraph.Graph object at 0x115a7c408>, 171, {'weight': 1.0})\n",
      "igraph.Edge(<igraph.Graph object at 0x115a7c408>, 172, {'weight': 525.0})\n",
      "igraph.Edge(<igraph.Graph object at 0x115a7c408>, 173, {'weight': 280.0})\n",
      "igraph.Edge(<igraph.Graph object at 0x115a7c408>, 174, {'weight': 472.0})\n",
      "igraph.Edge(<igraph.Graph object at 0x115a7c408>, 175, {'weight': 145.0})\n",
      "igraph.Edge(<igraph.Graph object at 0x115a7c408>, 176, {'weight': 1.0})\n",
      "igraph.Edge(<igraph.Graph object at 0x115a7c408>, 177, {'weight': 2.0})\n",
      "igraph.Edge(<igraph.Graph object at 0x115a7c408>, 178, {'weight': 1.0})\n",
      "igraph.Edge(<igraph.Graph object at 0x115a7c408>, 179, {'weight': 2.0})\n",
      "igraph.Edge(<igraph.Graph object at 0x115a7c408>, 180, {'weight': 2.0})\n",
      "igraph.Edge(<igraph.Graph object at 0x115a7c408>, 181, {'weight': 1.0})\n",
      "igraph.Edge(<igraph.Graph object at 0x115a7c408>, 182, {'weight': 1.0})\n",
      "igraph.Edge(<igraph.Graph object at 0x115a7c408>, 183, {'weight': 962.0})\n",
      "igraph.Edge(<igraph.Graph object at 0x115a7c408>, 184, {'weight': 1428.0})\n",
      "igraph.Edge(<igraph.Graph object at 0x115a7c408>, 185, {'weight': 2139.0})\n",
      "igraph.Edge(<igraph.Graph object at 0x115a7c408>, 186, {'weight': 1.0})\n",
      "igraph.Edge(<igraph.Graph object at 0x115a7c408>, 187, {'weight': 286.0})\n",
      "igraph.Edge(<igraph.Graph object at 0x115a7c408>, 188, {'weight': 480.0})\n",
      "igraph.Edge(<igraph.Graph object at 0x115a7c408>, 189, {'weight': 2625.0})\n",
      "igraph.Edge(<igraph.Graph object at 0x115a7c408>, 190, {'weight': 517.0})\n",
      "igraph.Edge(<igraph.Graph object at 0x115a7c408>, 191, {'weight': 2870.0})\n",
      "igraph.Edge(<igraph.Graph object at 0x115a7c408>, 192, {'weight': 1440.0})\n",
      "igraph.Edge(<igraph.Graph object at 0x115a7c408>, 193, {'weight': 1.0})\n",
      "igraph.Edge(<igraph.Graph object at 0x115a7c408>, 194, {'weight': 2.0})\n",
      "igraph.Edge(<igraph.Graph object at 0x115a7c408>, 195, {'weight': 1.0})\n",
      "igraph.Edge(<igraph.Graph object at 0x115a7c408>, 196, {'weight': 782.0})\n",
      "igraph.Edge(<igraph.Graph object at 0x115a7c408>, 197, {'weight': 864.0})\n",
      "igraph.Edge(<igraph.Graph object at 0x115a7c408>, 198, {'weight': 612.0})\n",
      "igraph.Edge(<igraph.Graph object at 0x115a7c408>, 199, {'weight': 952.0})\n",
      "igraph.Edge(<igraph.Graph object at 0x115a7c408>, 200, {'weight': 714.0})\n",
      "igraph.Edge(<igraph.Graph object at 0x115a7c408>, 201, {'weight': 918.0})\n",
      "igraph.Edge(<igraph.Graph object at 0x115a7c408>, 202, {'weight': 1428.0})\n",
      "igraph.Edge(<igraph.Graph object at 0x115a7c408>, 203, {'weight': 680.0})\n",
      "igraph.Edge(<igraph.Graph object at 0x115a7c408>, 204, {'weight': 1085.0})\n",
      "igraph.Edge(<igraph.Graph object at 0x115a7c408>, 205, {'weight': 2.0})\n",
      "igraph.Edge(<igraph.Graph object at 0x115a7c408>, 206, {'weight': 390.0})\n",
      "igraph.Edge(<igraph.Graph object at 0x115a7c408>, 207, {'weight': 644.0})\n",
      "igraph.Edge(<igraph.Graph object at 0x115a7c408>, 208, {'weight': 1120.0})\n",
      "igraph.Edge(<igraph.Graph object at 0x115a7c408>, 209, {'weight': 728.0})\n",
      "igraph.Edge(<igraph.Graph object at 0x115a7c408>, 210, {'weight': 1260.0})\n",
      "igraph.Edge(<igraph.Graph object at 0x115a7c408>, 211, {'weight': 540.0})\n",
      "igraph.Edge(<igraph.Graph object at 0x115a7c408>, 212, {'weight': 3528.0})\n",
      "igraph.Edge(<igraph.Graph object at 0x115a7c408>, 213, {'weight': 850.0})\n",
      "igraph.Edge(<igraph.Graph object at 0x115a7c408>, 214, {'weight': 2460.0})\n",
      "igraph.Edge(<igraph.Graph object at 0x115a7c408>, 215, {'weight': 975.0})\n",
      "igraph.Edge(<igraph.Graph object at 0x115a7c408>, 216, {'weight': 675.0})\n",
      "igraph.Edge(<igraph.Graph object at 0x115a7c408>, 217, {'weight': 462.0})\n",
      "igraph.Edge(<igraph.Graph object at 0x115a7c408>, 218, {'weight': 874.0})\n",
      "igraph.Edge(<igraph.Graph object at 0x115a7c408>, 219, {'weight': 450.0})\n",
      "igraph.Edge(<igraph.Graph object at 0x115a7c408>, 220, {'weight': 986.0})\n",
      "igraph.Edge(<igraph.Graph object at 0x115a7c408>, 221, {'weight': 1254.0})\n",
      "igraph.Edge(<igraph.Graph object at 0x115a7c408>, 222, {'weight': 864.0})\n",
      "igraph.Edge(<igraph.Graph object at 0x115a7c408>, 223, {'weight': 264.0})\n",
      "igraph.Edge(<igraph.Graph object at 0x115a7c408>, 224, {'weight': 828.0})\n",
      "igraph.Edge(<igraph.Graph object at 0x115a7c408>, 225, {'weight': 1080.0})\n",
      "igraph.Edge(<igraph.Graph object at 0x115a7c408>, 226, {'weight': 1152.0})\n",
      "igraph.Edge(<igraph.Graph object at 0x115a7c408>, 227, {'weight': 360.0})\n",
      "igraph.Edge(<igraph.Graph object at 0x115a7c408>, 228, {'weight': 1122.0})\n",
      "igraph.Edge(<igraph.Graph object at 0x115a7c408>, 229, {'weight': 400.0})\n",
      "igraph.Edge(<igraph.Graph object at 0x115a7c408>, 230, {'weight': 972.0})\n",
      "igraph.Edge(<igraph.Graph object at 0x115a7c408>, 231, {'weight': 340.0})\n",
      "igraph.Edge(<igraph.Graph object at 0x115a7c408>, 232, {'weight': 558.0})\n",
      "igraph.Edge(<igraph.Graph object at 0x115a7c408>, 233, {'weight': 1054.0})\n",
      "igraph.Edge(<igraph.Graph object at 0x115a7c408>, 234, {'weight': 684.0})\n",
      "igraph.Edge(<igraph.Graph object at 0x115a7c408>, 235, {'weight': 476.0})\n",
      "igraph.Edge(<igraph.Graph object at 0x115a7c408>, 236, {'weight': 1122.0})\n",
      "igraph.Edge(<igraph.Graph object at 0x115a7c408>, 237, {'weight': 510.0})\n",
      "igraph.Edge(<igraph.Graph object at 0x115a7c408>, 238, {'weight': 1085.0})\n",
      "igraph.Edge(<igraph.Graph object at 0x115a7c408>, 239, {'weight': 1.0})\n",
      "igraph.Edge(<igraph.Graph object at 0x115a7c408>, 240, {'weight': 952.0})\n",
      "igraph.Edge(<igraph.Graph object at 0x115a7c408>, 241, {'weight': 120.0})\n",
      "igraph.Edge(<igraph.Graph object at 0x115a7c408>, 242, {'weight': 258.0})\n",
      "igraph.Edge(<igraph.Graph object at 0x115a7c408>, 243, {'weight': 360.0})\n",
      "igraph.Edge(<igraph.Graph object at 0x115a7c408>, 244, {'weight': 5346.0})\n",
      "igraph.Edge(<igraph.Graph object at 0x115a7c408>, 245, {'weight': 500.0})\n",
      "igraph.Edge(<igraph.Graph object at 0x115a7c408>, 246, {'weight': 2.0})\n",
      "igraph.Edge(<igraph.Graph object at 0x115a7c408>, 247, {'weight': 1.0})\n",
      "igraph.Edge(<igraph.Graph object at 0x115a7c408>, 248, {'weight': 1225.0})\n",
      "igraph.Edge(<igraph.Graph object at 0x115a7c408>, 249, {'weight': 1.0})\n",
      "igraph.Edge(<igraph.Graph object at 0x115a7c408>, 250, {'weight': 1.0})\n",
      "igraph.Edge(<igraph.Graph object at 0x115a7c408>, 251, {'weight': 1.0})\n",
      "igraph.Edge(<igraph.Graph object at 0x115a7c408>, 252, {'weight': 304.0})\n",
      "igraph.Edge(<igraph.Graph object at 0x115a7c408>, 253, {'weight': 950.0})\n",
      "igraph.Edge(<igraph.Graph object at 0x115a7c408>, 254, {'weight': 1026.0})\n",
      "igraph.Edge(<igraph.Graph object at 0x115a7c408>, 255, {'weight': 304.0})\n",
      "igraph.Edge(<igraph.Graph object at 0x115a7c408>, 256, {'weight': 380.0})\n",
      "igraph.Edge(<igraph.Graph object at 0x115a7c408>, 257, {'weight': 1295.0})\n",
      "igraph.Edge(<igraph.Graph object at 0x115a7c408>, 258, {'weight': 3016.0})\n",
      "igraph.Edge(<igraph.Graph object at 0x115a7c408>, 259, {'weight': 2.0})\n",
      "igraph.Edge(<igraph.Graph object at 0x115a7c408>, 260, {'weight': 630.0})\n",
      "igraph.Edge(<igraph.Graph object at 0x115a7c408>, 261, {'weight': 100.0})\n",
      "igraph.Edge(<igraph.Graph object at 0x115a7c408>, 262, {'weight': 100.0})\n",
      "igraph.Edge(<igraph.Graph object at 0x115a7c408>, 263, {'weight': 288.0})\n",
      "igraph.Edge(<igraph.Graph object at 0x115a7c408>, 264, {'weight': 900.0})\n",
      "igraph.Edge(<igraph.Graph object at 0x115a7c408>, 265, {'weight': 684.0})\n",
      "igraph.Edge(<igraph.Graph object at 0x115a7c408>, 266, {'weight': 891.0})\n",
      "igraph.Edge(<igraph.Graph object at 0x115a7c408>, 267, {'weight': 1.0})\n",
      "igraph.Edge(<igraph.Graph object at 0x115a7c408>, 268, {'weight': 56320.0})\n",
      "igraph.Edge(<igraph.Graph object at 0x115a7c408>, 269, {'weight': 297.0})\n",
      "igraph.Edge(<igraph.Graph object at 0x115a7c408>, 270, {'weight': 1.0})\n",
      "igraph.Edge(<igraph.Graph object at 0x115a7c408>, 271, {'weight': 2.0})\n",
      "igraph.Edge(<igraph.Graph object at 0x115a7c408>, 272, {'weight': 2.0})\n",
      "igraph.Edge(<igraph.Graph object at 0x115a7c408>, 273, {'weight': 7800.0})\n",
      "igraph.Edge(<igraph.Graph object at 0x115a7c408>, 274, {'weight': 1.0})\n",
      "igraph.Edge(<igraph.Graph object at 0x115a7c408>, 275, {'weight': 760.0})\n",
      "igraph.Edge(<igraph.Graph object at 0x115a7c408>, 276, {'weight': 1.0})\n",
      "igraph.Edge(<igraph.Graph object at 0x115a7c408>, 277, {'weight': 342.0})\n",
      "igraph.Edge(<igraph.Graph object at 0x115a7c408>, 278, {'weight': 1008.0})\n",
      "igraph.Edge(<igraph.Graph object at 0x115a7c408>, 279, {'weight': 1188.0})\n",
      "igraph.Edge(<igraph.Graph object at 0x115a7c408>, 280, {'weight': 288.0})\n",
      "igraph.Edge(<igraph.Graph object at 0x115a7c408>, 281, {'weight': 1023.0})\n",
      "igraph.Edge(<igraph.Graph object at 0x115a7c408>, 282, {'weight': 80.0})\n",
      "igraph.Edge(<igraph.Graph object at 0x115a7c408>, 283, {'weight': 1.0})\n",
      "igraph.Edge(<igraph.Graph object at 0x115a7c408>, 284, {'weight': 420.0})\n",
      "igraph.Edge(<igraph.Graph object at 0x115a7c408>, 285, {'weight': 640.0})\n",
      "igraph.Edge(<igraph.Graph object at 0x115a7c408>, 286, {'weight': 1044.0})\n",
      "igraph.Edge(<igraph.Graph object at 0x115a7c408>, 287, {'weight': 684.0})\n",
      "igraph.Edge(<igraph.Graph object at 0x115a7c408>, 288, {'weight': 1254.0})\n",
      "igraph.Edge(<igraph.Graph object at 0x115a7c408>, 289, {'weight': 1353.0})\n",
      "igraph.Edge(<igraph.Graph object at 0x115a7c408>, 290, {'weight': 396.0})\n"
     ]
    }
   ],
   "source": [
    "for i in g.es:\n",
    "    print(i)"
   ]
  },
  {
   "cell_type": "code",
   "execution_count": 32,
   "metadata": {},
   "outputs": [],
   "source": [
    "import json\n",
    "def to_json(graph, cluster):\n",
    "    for index, vertex in enumerate(graph.vs):\n",
    "        vertex.update_attributes({ 'community': cluster.membership[index], 'id': index })\n",
    "    nodes = []\n",
    "    edges = []\n",
    "    for edge in graph.es:\n",
    "        edge_attr = {}\n",
    "        edge_attr['from'], edge_attr['to'] = edge.tuple\n",
    "        edge_attr['weight'] = edge['weight']\n",
    "        edges.append(edge_attr)\n",
    "    for node in graph.vs:\n",
    "        node_attr = {}\n",
    "        node_attr = { key: node[key] for key in node.attributes()}\n",
    "        nodes.append(node_attr)\n",
    "    return json.dumps({\n",
    "        'nodes': nodes,\n",
    "        'edges': edges,\n",
    "    }, indent=4)"
   ]
  },
  {
   "cell_type": "code",
   "execution_count": 33,
   "metadata": {},
   "outputs": [],
   "source": [
    "data = to_json(g, cluster)"
   ]
  },
  {
   "cell_type": "code",
   "execution_count": 34,
   "metadata": {},
   "outputs": [],
   "source": [
    "with open('data.json', 'w', encoding='utf-8') as file:\n",
    "    file.write(data)"
   ]
  },
  {
   "cell_type": "code",
   "execution_count": null,
   "metadata": {},
   "outputs": [],
   "source": []
  }
 ],
 "metadata": {
  "kernelspec": {
   "display_name": "Python 3",
   "language": "python",
   "name": "python3"
  },
  "language_info": {
   "codemirror_mode": {
    "name": "ipython",
    "version": 3
   },
   "file_extension": ".py",
   "mimetype": "text/x-python",
   "name": "python",
   "nbconvert_exporter": "python",
   "pygments_lexer": "ipython3",
   "version": "3.6.5"
  }
 },
 "nbformat": 4,
 "nbformat_minor": 2
}
